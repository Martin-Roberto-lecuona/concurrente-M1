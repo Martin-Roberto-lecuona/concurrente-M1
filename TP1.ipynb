{
  "cells": [
    {
      "cell_type": "markdown",
      "metadata": {
        "id": "view-in-github",
        "colab_type": "text"
      },
      "source": [
        "<a href=\"https://colab.research.google.com/github/Martin-Roberto-lecuona/concurrente-M1/blob/main/TP1.ipynb\" target=\"_parent\"><img src=\"https://colab.research.google.com/assets/colab-badge.svg\" alt=\"Open In Colab\"/></a>"
      ]
    },
    {
      "cell_type": "markdown",
      "source": [
        "# Directorios"
      ],
      "metadata": {
        "id": "aK7HIAS4mLm9"
      }
    },
    {
      "cell_type": "code",
      "source": [
        "!mkdir TP1\n",
        "!mkdir TP1/Parte-1\n",
        "!mkdir TP1/Parte-2\n",
        "!mkdir TP1/Parte-3"
      ],
      "metadata": {
        "id": "-O5PBnNxI4hm"
      },
      "execution_count": null,
      "outputs": []
    },
    {
      "cell_type": "markdown",
      "metadata": {
        "id": "J3oA9P00iJGU"
      },
      "source": [
        "# Codigo en C"
      ]
    },
    {
      "cell_type": "markdown",
      "metadata": {
        "id": "2BkRaaifqBI9"
      },
      "source": [
        "##Parte 1"
      ]
    },
    {
      "cell_type": "markdown",
      "metadata": {
        "id": "eKMPSCyAmJVx"
      },
      "source": [
        "#### Crear el archivo"
      ]
    },
    {
      "cell_type": "code",
      "execution_count": null,
      "metadata": {
        "colab": {
          "base_uri": "https://localhost:8080/"
        },
        "id": "AMsY4KQOg96R",
        "outputId": "60190f5d-fa92-4e3a-d485-ab25669b4540"
      },
      "outputs": [
        {
          "output_type": "stream",
          "name": "stdout",
          "text": [
            "Writing TP1/Parte-1/tp1_p1_c++.cpp\n"
          ]
        }
      ],
      "source": [
        "%%writefile TP1/Parte-1/tp1_p1_c++.cpp\n",
        "#include <iostream>\n",
        "#include <unistd.h>\n",
        "#include <stdlib.h>\n",
        "#include <string.h>\n",
        "#include <sys/wait.h>\n",
        "#include <sys/types.h>\n",
        "#include <map>\n",
        "#include <vector>\n",
        "\n",
        "#define SLEEP_TIME 20\n",
        "\n",
        "using namespace std;\n",
        "\n",
        "struct ProcesoInfo\n",
        "{\n",
        "    char proc;\n",
        "    pid_t pid;\n",
        "    pid_t ppid;\n",
        "};\n",
        "\n",
        "void imprimir_info(char proc)\n",
        "{\n",
        "    ProcesoInfo p = {proc, getpid(), getppid()};\n",
        "    cout << \"Proceso: \" << p.proc << \", PID: \" << p.pid << \", PPID: \" << p.ppid << endl;\n",
        "}\n",
        "\n",
        "void imprimir_error(char proc)\n",
        "{\n",
        "    cerr << \"Error al crear proceso \" << proc << endl;\n",
        "    exit(EXIT_FAILURE);\n",
        "}\n",
        "\n",
        "void crear_arbol(const std::pair<const char, std::vector<char>> &p, std::map<char, std::vector<char>> &procesoRelaciones)\n",
        "{\n",
        "    char padre = p.first;\n",
        "    imprimir_info(padre);\n",
        "\n",
        "    for (auto const &hijo : p.second)\n",
        "    {\n",
        "        if (procesoRelaciones.find(hijo) != procesoRelaciones.end())\n",
        "        {\n",
        "            // hijo que es padre\n",
        "            pid_t pid_padre = fork();\n",
        "            if (pid_padre < 0)\n",
        "                imprimir_error(padre);\n",
        "            else if (pid_padre == 0)\n",
        "            {\n",
        "                crear_arbol(*procesoRelaciones.find(hijo), procesoRelaciones);\n",
        "                wait(NULL);\n",
        "                sleep(SLEEP_TIME);\n",
        "                exit(EXIT_SUCCESS);\n",
        "            }\n",
        "        } else\n",
        "        {\n",
        "            // hijo que es hoja\n",
        "            pid_t pid_hoja = fork();\n",
        "            if (pid_hoja < 0)\n",
        "                imprimir_error(hijo);\n",
        "            else if (pid_hoja == 0)\n",
        "            {\n",
        "                imprimir_info(hijo);\n",
        "                sleep(SLEEP_TIME);\n",
        "                exit(EXIT_SUCCESS);\n",
        "            }\n",
        "        }\n",
        "    }\n",
        "}\n",
        "\n",
        "int main(int argc, char *argv[])\n",
        "{\n",
        "    if (argc == 2 && (strcmp(argv[1], \"-h\") == 0 || strcmp(argv[1], \"--help\") == 0))\n",
        "    {\n",
        "        cout << \"Este proceso crea un árbol de procesos\" << endl;\n",
        "        return EXIT_SUCCESS;\n",
        "    }\n",
        "\n",
        "    char raiz = 'A';\n",
        "    map<char, vector<char>> procesoRelaciones =\n",
        "    {\n",
        "        {'A', {'B', 'C', 'D'}},\n",
        "        {'B', {'E', 'F'}},\n",
        "        {'F', {'H', 'I'}},\n",
        "        {'I', {'J'}},\n",
        "        {'D', {'G'}}\n",
        "    };\n",
        "\n",
        "    crear_arbol(*procesoRelaciones.find(raiz), procesoRelaciones);\n",
        "\n",
        "    while (wait(NULL) > 0);\n",
        "\n",
        "    return EXIT_SUCCESS;\n",
        "}\n",
        "\n"
      ]
    },
    {
      "cell_type": "markdown",
      "metadata": {
        "id": "gf011D2amQgy"
      },
      "source": [
        "Ver si se creo"
      ]
    },
    {
      "cell_type": "code",
      "execution_count": null,
      "metadata": {
        "colab": {
          "base_uri": "https://localhost:8080/"
        },
        "id": "LvIBRqlUim5U",
        "outputId": "96685f04-e8bb-47d9-c1ac-ca3bf72fb15b"
      },
      "outputs": [
        {
          "output_type": "stream",
          "name": "stdout",
          "text": [
            "-rw-r--r-- 1 root root 2166 Apr  9 14:02 tp1_p1_c++.cpp\n"
          ]
        }
      ],
      "source": [
        "!ls -laR | grep tp1_p1_c++.cpp"
      ]
    },
    {
      "cell_type": "markdown",
      "metadata": {
        "id": "tKXmIIB8mVmG"
      },
      "source": [
        "#### Compilacion"
      ]
    },
    {
      "cell_type": "code",
      "execution_count": null,
      "metadata": {
        "id": "MJO3SK8OinjE"
      },
      "outputs": [],
      "source": [
        "!g++ -o tp1P1.bin TP1/Parte-1/tp1_p1_c++.cpp"
      ]
    },
    {
      "cell_type": "markdown",
      "metadata": {
        "id": "4uK9cHE5ml-_"
      },
      "source": [
        "#### Ejecucion en background"
      ]
    },
    {
      "cell_type": "markdown",
      "metadata": {
        "id": "rjSd6TU9pmoX"
      },
      "source": [
        "Opcional: Help"
      ]
    },
    {
      "cell_type": "code",
      "execution_count": null,
      "metadata": {
        "colab": {
          "base_uri": "https://localhost:8080/"
        },
        "id": "eB-p6-SzoP7l",
        "outputId": "d7d8e04f-87ff-4469-a374-5b4a0e00b11c"
      },
      "outputs": [
        {
          "name": "stdout",
          "output_type": "stream",
          "text": [
            "Este proceso crea un árbol de procesos\n"
          ]
        }
      ],
      "source": [
        "!./tp1P1.bin -h"
      ]
    },
    {
      "cell_type": "code",
      "execution_count": null,
      "metadata": {
        "id": "5yLKaoi5it3W"
      },
      "outputs": [],
      "source": [
        "!nohup ./tp1P1.bin 1>salidaC 2>/dev/null &"
      ]
    },
    {
      "cell_type": "markdown",
      "metadata": {
        "id": "Qyc4D-A0mrRq"
      },
      "source": [
        "#### Ver arbol de procesos"
      ]
    },
    {
      "cell_type": "code",
      "execution_count": null,
      "metadata": {
        "colab": {
          "base_uri": "https://localhost:8080/"
        },
        "id": "Q1ITdA1oiyh6",
        "outputId": "b9b09331-704f-4626-9522-e70c0b863faf"
      },
      "outputs": [
        {
          "output_type": "stream",
          "name": "stdout",
          "text": [
            "root        3270       1  0 14:06 ?        00:00:00 ./tp1P1.bin\n",
            "root        3271    3270  0 14:06 ?        00:00:00 ./tp1P1.bin\n",
            "root        3272    3270  0 14:06 ?        00:00:00 ./tp1P1.bin\n",
            "root        3273    3270  0 14:06 ?        00:00:00 ./tp1P1.bin\n",
            "root        3274    3271  0 14:06 ?        00:00:00 ./tp1P1.bin\n",
            "root        3275    3271  0 14:06 ?        00:00:00 ./tp1P1.bin\n",
            "root        3276    3273  0 14:06 ?        00:00:00 ./tp1P1.bin\n",
            "root        3277    3275  0 14:06 ?        00:00:00 ./tp1P1.bin\n",
            "root        3278    3275  0 14:06 ?        00:00:00 ./tp1P1.bin\n",
            "root        3279    3278  0 14:06 ?        00:00:00 ./tp1P1.bin\n",
            "root        3296     317  0 14:06 ?        00:00:00 /bin/bash -c ps -ef | grep tp1P1.bin\n",
            "root        3298    3296  0 14:06 ?        00:00:00 grep tp1P1.bin\n"
          ]
        }
      ],
      "source": [
        "!ps -ef | grep tp1P1.bin"
      ]
    },
    {
      "cell_type": "markdown",
      "metadata": {
        "id": "LGbfKCWgnXCq"
      },
      "source": [
        "Cambie el ID del proceso que solo diga ./tp1P1.bin"
      ]
    },
    {
      "cell_type": "code",
      "execution_count": null,
      "metadata": {
        "colab": {
          "base_uri": "https://localhost:8080/"
        },
        "id": "C12wEUc3i3ac",
        "outputId": "956e026c-762e-470b-e2cd-e66809a013af"
      },
      "outputs": [
        {
          "output_type": "stream",
          "name": "stdout",
          "text": [
            "tp1P1.bin─┬─tp1P1.bin───tp1P1.bin───tp1P1.bin\n",
            "          └─tp1P1.bin\n"
          ]
        }
      ],
      "source": [
        "!pstree 3270"
      ]
    },
    {
      "cell_type": "markdown",
      "metadata": {
        "id": "ls9TM4VHnMsQ"
      },
      "source": [
        "**Salida del programa**"
      ]
    },
    {
      "cell_type": "code",
      "execution_count": null,
      "metadata": {
        "colab": {
          "base_uri": "https://localhost:8080/"
        },
        "id": "BZEeuw-Gm_HA",
        "outputId": "f9301f00-f40e-4c28-83b6-74b3d34626e2"
      },
      "outputs": [
        {
          "output_type": "stream",
          "name": "stdout",
          "text": [
            "Proceso: A, PID: 3049, PPID: 1\n",
            "Proceso: B, PID: 3050, PPID: 3049\n",
            "Proceso: D, PID: 3052, PPID: 3049\n",
            "Proceso: F, PID: 3054, PPID: 3050\n",
            "Proceso: C, PID: 3051, PPID: 3049\n",
            "Proceso: E, PID: 3053, PPID: 3050\n",
            "Proceso: H, PID: 3056, PPID: 3054\n",
            "Proceso: G, PID: 3055, PPID: 3052\n",
            "Proceso: I, PID: 3057, PPID: 3054\n",
            "Proceso: J, PID: 3058, PPID: 3057\n"
          ]
        }
      ],
      "source": [
        "!cat salidaC"
      ]
    },
    {
      "cell_type": "markdown",
      "metadata": {
        "id": "b499MTwelxWA"
      },
      "source": [
        "**Matar al proceso de ser necesario**"
      ]
    },
    {
      "cell_type": "code",
      "execution_count": null,
      "metadata": {
        "id": "qF_XbdlFlwu3"
      },
      "outputs": [],
      "source": [
        "!kill 22929"
      ]
    },
    {
      "cell_type": "markdown",
      "metadata": {
        "id": "OV7p6RVuO3KQ"
      },
      "source": [
        "# Codigo en Rust\n",
        "\n",
        "\n"
      ]
    },
    {
      "cell_type": "code",
      "execution_count": null,
      "metadata": {
        "id": "MhDNRsZrR1GD",
        "colab": {
          "base_uri": "https://localhost:8080/"
        },
        "outputId": "11435a0c-d97f-4c76-e9a6-15d052e891a9"
      },
      "outputs": [
        {
          "output_type": "stream",
          "name": "stdout",
          "text": [
            "Drive already mounted at /content/drive; to attempt to forcibly remount, call drive.mount(\"/content/drive\", force_remount=True).\n"
          ]
        }
      ],
      "source": [
        "from google.colab import drive\n",
        "drive.mount('/content/drive')"
      ]
    },
    {
      "cell_type": "markdown",
      "metadata": {
        "id": "TtKBSsXWP7QD"
      },
      "source": [
        "## Parte 1"
      ]
    },
    {
      "cell_type": "markdown",
      "source": [
        "### Dependencias\n",
        "Instalamos el compilador de rust, el administrador de proyectos cargo, y la libreria a utilizar"
      ],
      "metadata": {
        "id": "tKo33l0omeug"
      }
    },
    {
      "cell_type": "code",
      "execution_count": null,
      "metadata": {
        "colab": {
          "base_uri": "https://localhost:8080/"
        },
        "id": "ZJ9N2lNN00I9",
        "outputId": "85788486-1f4a-497c-bec3-910932b86852"
      },
      "outputs": [
        {
          "output_type": "stream",
          "name": "stdout",
          "text": [
            "Reading package lists... Done\n",
            "Building dependency tree... Done\n",
            "Reading state information... Done\n",
            "The following additional packages will be installed:\n",
            "  libstd-rust-1.75 libstd-rust-dev\n",
            "Suggested packages:\n",
            "  cargo llvm-17 lld-17 clang-17\n",
            "The following NEW packages will be installed:\n",
            "  libstd-rust-1.75 libstd-rust-dev rustc\n",
            "0 upgraded, 3 newly installed, 0 to remove and 45 not upgraded.\n",
            "Need to get 91.4 MB of archives.\n",
            "After this operation, 369 MB of additional disk space will be used.\n",
            "Get:1 http://archive.ubuntu.com/ubuntu jammy-updates/main amd64 libstd-rust-1.75 amd64 1.75.0+dfsg0ubuntu1~bpo0-0ubuntu0.22.04 [46.3 MB]\n",
            "Get:2 http://archive.ubuntu.com/ubuntu jammy-updates/main amd64 libstd-rust-dev amd64 1.75.0+dfsg0ubuntu1~bpo0-0ubuntu0.22.04 [41.6 MB]\n",
            "Get:3 http://archive.ubuntu.com/ubuntu jammy-updates/main amd64 rustc amd64 1.75.0+dfsg0ubuntu1~bpo0-0ubuntu0.22.04 [3,404 kB]\n",
            "Fetched 91.4 MB in 2s (58.4 MB/s)\n",
            "debconf: unable to initialize frontend: Dialog\n",
            "debconf: (No usable dialog-like program is installed, so the dialog based frontend cannot be used. at /usr/share/perl5/Debconf/FrontEnd/Dialog.pm line 78, <> line 3.)\n",
            "debconf: falling back to frontend: Readline\n",
            "debconf: unable to initialize frontend: Readline\n",
            "debconf: (This frontend requires a controlling tty.)\n",
            "debconf: falling back to frontend: Teletype\n",
            "dpkg-preconfigure: unable to re-open stdin: \n",
            "Selecting previously unselected package libstd-rust-1.75:amd64.\n",
            "(Reading database ... 121752 files and directories currently installed.)\n",
            "Preparing to unpack .../libstd-rust-1.75_1.75.0+dfsg0ubuntu1~bpo0-0ubuntu0.22.04_amd64.deb ...\n",
            "Unpacking libstd-rust-1.75:amd64 (1.75.0+dfsg0ubuntu1~bpo0-0ubuntu0.22.04) ...\n",
            "Selecting previously unselected package libstd-rust-dev:amd64.\n",
            "Preparing to unpack .../libstd-rust-dev_1.75.0+dfsg0ubuntu1~bpo0-0ubuntu0.22.04_amd64.deb ...\n",
            "Unpacking libstd-rust-dev:amd64 (1.75.0+dfsg0ubuntu1~bpo0-0ubuntu0.22.04) ...\n",
            "Selecting previously unselected package rustc.\n",
            "Preparing to unpack .../rustc_1.75.0+dfsg0ubuntu1~bpo0-0ubuntu0.22.04_amd64.deb ...\n",
            "Unpacking rustc (1.75.0+dfsg0ubuntu1~bpo0-0ubuntu0.22.04) ...\n",
            "Setting up libstd-rust-1.75:amd64 (1.75.0+dfsg0ubuntu1~bpo0-0ubuntu0.22.04) ...\n",
            "Setting up libstd-rust-dev:amd64 (1.75.0+dfsg0ubuntu1~bpo0-0ubuntu0.22.04) ...\n",
            "Setting up rustc (1.75.0+dfsg0ubuntu1~bpo0-0ubuntu0.22.04) ...\n",
            "Processing triggers for man-db (2.10.2-1) ...\n",
            "Processing triggers for libc-bin (2.35-0ubuntu3.4) ...\n",
            "/sbin/ldconfig.real: /usr/local/lib/libtbbmalloc.so.2 is not a symbolic link\n",
            "\n",
            "/sbin/ldconfig.real: /usr/local/lib/libtbbbind_2_0.so.3 is not a symbolic link\n",
            "\n",
            "/sbin/ldconfig.real: /usr/local/lib/libtbb.so.12 is not a symbolic link\n",
            "\n",
            "/sbin/ldconfig.real: /usr/local/lib/libtbbmalloc_proxy.so.2 is not a symbolic link\n",
            "\n",
            "/sbin/ldconfig.real: /usr/local/lib/libtbbbind_2_5.so.3 is not a symbolic link\n",
            "\n",
            "/sbin/ldconfig.real: /usr/local/lib/libtbbbind.so.3 is not a symbolic link\n",
            "\n"
          ]
        }
      ],
      "source": [
        "!sudo apt-get install rustc\n"
      ]
    },
    {
      "cell_type": "code",
      "execution_count": null,
      "metadata": {
        "colab": {
          "base_uri": "https://localhost:8080/"
        },
        "id": "xoCGpzh-2qk-",
        "outputId": "67e6415f-9285-4db0-e5bf-f83c3f7daccc"
      },
      "outputs": [
        {
          "output_type": "stream",
          "name": "stdout",
          "text": [
            "Reading package lists... Done\n",
            "Building dependency tree... Done\n",
            "Reading state information... Done\n",
            "Suggested packages:\n",
            "  cargo-doc\n",
            "The following NEW packages will be installed:\n",
            "  cargo\n",
            "0 upgraded, 1 newly installed, 0 to remove and 45 not upgraded.\n",
            "Need to get 6,700 kB of archives.\n",
            "After this operation, 23.3 MB of additional disk space will be used.\n",
            "Get:1 http://archive.ubuntu.com/ubuntu jammy-updates/universe amd64 cargo amd64 1.75.0+dfsg0ubuntu1~bpo0-0ubuntu0.22.04 [6,700 kB]\n",
            "Fetched 6,700 kB in 0s (35.1 MB/s)\n",
            "debconf: unable to initialize frontend: Dialog\n",
            "debconf: (No usable dialog-like program is installed, so the dialog based frontend cannot be used. at /usr/share/perl5/Debconf/FrontEnd/Dialog.pm line 78, <> line 1.)\n",
            "debconf: falling back to frontend: Readline\n",
            "debconf: unable to initialize frontend: Readline\n",
            "debconf: (This frontend requires a controlling tty.)\n",
            "debconf: falling back to frontend: Teletype\n",
            "dpkg-preconfigure: unable to re-open stdin: \n",
            "Selecting previously unselected package cargo.\n",
            "(Reading database ... 121827 files and directories currently installed.)\n",
            "Preparing to unpack .../cargo_1.75.0+dfsg0ubuntu1~bpo0-0ubuntu0.22.04_amd64.deb ...\n",
            "Unpacking cargo (1.75.0+dfsg0ubuntu1~bpo0-0ubuntu0.22.04) ...\n",
            "Setting up cargo (1.75.0+dfsg0ubuntu1~bpo0-0ubuntu0.22.04) ...\n",
            "Processing triggers for man-db (2.10.2-1) ...\n"
          ]
        }
      ],
      "source": [
        "!sudo apt-get install cargo"
      ]
    },
    {
      "cell_type": "code",
      "execution_count": null,
      "metadata": {
        "colab": {
          "base_uri": "https://localhost:8080/"
        },
        "id": "qR0wLh2m2-Xh",
        "outputId": "0728f6b0-b90b-4fb3-a2e3-01462bf3234a"
      },
      "outputs": [
        {
          "output_type": "stream",
          "name": "stdout",
          "text": [
            "cargo 1.75.0\n",
            "rustc 1.75.0 (82e1608df 2023-12-21) (built from a source tarball)\n"
          ]
        }
      ],
      "source": [
        "!cargo --version && rustc --version"
      ]
    },
    {
      "cell_type": "markdown",
      "metadata": {
        "id": "xQBMxxPWUQSS"
      },
      "source": [
        "### Crear el archivo"
      ]
    },
    {
      "cell_type": "markdown",
      "metadata": {
        "id": "7eDfVTYJhjCS"
      },
      "source": [
        "creamos un nuevo proyecto en donde se va a ejecutar el codigo"
      ]
    },
    {
      "cell_type": "code",
      "execution_count": null,
      "metadata": {
        "colab": {
          "base_uri": "https://localhost:8080/"
        },
        "id": "SXmN_loOS2kT",
        "outputId": "a53530c1-2e74-4670-f15f-791a07351f9b"
      },
      "outputs": [
        {
          "output_type": "stream",
          "name": "stdout",
          "text": [
            "\u001b[1m\u001b[32m     Created\u001b[0m binary (application) `/content/TP1/Parte-1/ej1_tp1_rust` package\n"
          ]
        }
      ],
      "source": [
        "!cargo new /content/TP1/Parte-1/ej1_tp1_rust"
      ]
    },
    {
      "cell_type": "markdown",
      "source": [
        "agregamos la libreria externa necesaria para el código"
      ],
      "metadata": {
        "id": "ITQ4xDlpF2OR"
      }
    },
    {
      "cell_type": "code",
      "execution_count": null,
      "metadata": {
        "colab": {
          "base_uri": "https://localhost:8080/"
        },
        "id": "3nPFbCh1R9Gh",
        "outputId": "169abd3a-186b-4ca1-cd02-780a62106b7c"
      },
      "outputs": [
        {
          "output_type": "stream",
          "name": "stdout",
          "text": [
            "\u001b[1m\u001b[32m    Updating\u001b[0m crates.io index\n",
            "\u001b[1m\u001b[32m      Adding\u001b[0m nix v0.28.0 to dependencies.\n",
            "             Features:\n",
            "             \u001b[1m\u001b[32m+\u001b[0m process\n",
            "             34 deactivated features\n",
            "\u001b[1m\u001b[32m    Updating\u001b[0m crates.io index\n"
          ]
        }
      ],
      "source": [
        "!cd /content/TP1/Parte-1/ej1_tp1_rust && cargo add nix --features process"
      ]
    },
    {
      "cell_type": "markdown",
      "metadata": {
        "id": "mCt_0jm5hgpT"
      },
      "source": [
        "creamos el archivo"
      ]
    },
    {
      "cell_type": "code",
      "execution_count": null,
      "metadata": {
        "colab": {
          "base_uri": "https://localhost:8080/"
        },
        "id": "8ZeLH19zUcQ9",
        "outputId": "d20b4796-aed0-4961-b2de-c6a9e26ad188"
      },
      "outputs": [
        {
          "output_type": "stream",
          "name": "stdout",
          "text": [
            "Overwriting /content/TP1/Parte-1/ej1_tp1_rust/src/main.rs\n"
          ]
        }
      ],
      "source": [
        "%%writefile /content/TP1/Parte-1/ej1_tp1_rust/src/main.rs\n",
        "use nix::sys::wait::{wait};\n",
        "use nix::unistd::{fork, ForkResult};\n",
        "use std::collections::HashMap;\n",
        "use std::io::{Error, ErrorKind};\n",
        "use std::process::id;\n",
        "use std::{os::unix::process::parent_id, process::Command};\n",
        "\n",
        "fn main()\n",
        "{\n",
        "    let process_tree: HashMap<char, Vec<char>> = HashMap::from([\n",
        "        ('A', vec!['B', 'C', 'D']),\n",
        "        ('B', vec!['E', 'F']),\n",
        "        ('D', vec!['G']),\n",
        "        ('F', vec!['H', 'I']),\n",
        "        ('I', vec!['J']),\n",
        "    ]);\n",
        "\n",
        "    let seconds = 10;\n",
        "\n",
        "    if let Err(e) = create_fork(&process_tree, &'A', &seconds)\n",
        "    {\n",
        "        eprintln!(\"Error: {}\", e);\n",
        "        std::process::exit(1);\n",
        "    }\n",
        "}\n",
        "\n",
        "fn create_fork(\n",
        "    process_tree: &HashMap<char, Vec<char>>,\n",
        "    initial_node: &char,\n",
        "    seconds: &u32,\n",
        ") -> Result<(), Error>\n",
        "{\n",
        "    println!(\"Node {} id {} pid {}\", initial_node, id(), parent_id());\n",
        "    sleep_seconds(&1);\n",
        "\n",
        "    match process_tree.get(&initial_node)\n",
        "     {\n",
        "        Some(children) =>\n",
        "        {\n",
        "            for &next_child in children\n",
        "            {\n",
        "                match unsafe\n",
        "                {\n",
        "                  fork()\n",
        "                }\n",
        "                {\n",
        "                    Ok(ForkResult::Parent { .. }) => {}\n",
        "                    Ok(ForkResult::Child) =>\n",
        "                    {\n",
        "                        if let Err(e) = create_fork(process_tree, &next_child, seconds)\n",
        "                        {\n",
        "                            eprintln!(\"Error in child node: {}\", e);\n",
        "                            std::process::exit(1)\n",
        "                        }\n",
        "                        std::process::exit(0)\n",
        "                    }\n",
        "                    Err(e) => return Err(Error::new(ErrorKind::Other, format!(\"Error in fork: {}\", e))),\n",
        "                }\n",
        "            }\n",
        "            for _ in 0..children.len()\n",
        "            {\n",
        "                let _ = wait();\n",
        "            }\n",
        "        }\n",
        "        None => sleep_seconds(seconds),\n",
        "    }\n",
        "\n",
        "    println!(\"Ending node: {}\", initial_node);\n",
        "    Ok(())\n",
        "}\n",
        "\n",
        "fn sleep_seconds(seconds: &u32)\n",
        "{\n",
        "    Command::new(\"sleep\")\n",
        "        .arg(&seconds.to_string())\n",
        "        .output()\n",
        "        .expect(\"failure to execute process\");\n",
        "}"
      ]
    },
    {
      "cell_type": "markdown",
      "source": [
        "### Compilacion"
      ],
      "metadata": {
        "id": "OHMRH9wrFvPX"
      }
    },
    {
      "cell_type": "code",
      "source": [
        "!cd /content/TP1/Parte-1/ej1_tp1_rust && cargo build"
      ],
      "metadata": {
        "colab": {
          "base_uri": "https://localhost:8080/"
        },
        "id": "WP_KMd-fACmF",
        "outputId": "835bbc55-97b7-4caa-b9fd-14b8379d8d46"
      },
      "execution_count": null,
      "outputs": [
        {
          "output_type": "stream",
          "name": "stdout",
          "text": [
            "\u001b[1m\u001b[32m Downloading\u001b[0m crates ...\n",
            "\u001b[1m\u001b[32m  Downloaded\u001b[0m bitflags v2.5.0\n",
            "\u001b[1m\u001b[32m  Downloaded\u001b[0m cfg_aliases v0.1.1\n",
            "\u001b[1m\u001b[32m  Downloaded\u001b[0m cfg-if v1.0.0\n",
            "\u001b[1m\u001b[32m  Downloaded\u001b[0m nix v0.28.0\n",
            "\u001b[1m\u001b[32m  Downloaded\u001b[0m libc v0.2.153\n",
            "\u001b[1m\u001b[32m   Compiling\u001b[0m libc v0.2.153\n",
            "\u001b[1m\u001b[32m   Compiling\u001b[0m cfg_aliases v0.1.1\n",
            "\u001b[1m\u001b[32m   Compiling\u001b[0m nix v0.28.0\n",
            "\u001b[1m\u001b[32m   Compiling\u001b[0m cfg-if v1.0.0\n",
            "\u001b[1m\u001b[32m   Compiling\u001b[0m bitflags v2.5.0\n",
            "\u001b[1m\u001b[32m   Compiling\u001b[0m ej1_tp1_rust v0.1.0 (/content/TP1/Parte-1/ej1_tp1_rust)\n",
            "\u001b[1m\u001b[32m    Finished\u001b[0m dev [unoptimized + debuginfo] target(s) in 7.63s\n"
          ]
        }
      ]
    },
    {
      "cell_type": "markdown",
      "source": [
        "### Ejecución en segundo plano"
      ],
      "metadata": {
        "id": "iQj1zk9qFoYs"
      }
    },
    {
      "cell_type": "code",
      "source": [
        "!nohup /content/TP1/Parte-1/ej1_tp1_rust/target/debug/ej1_tp1_rust 1>/content/TP1/Parte-1/salidaRust 2>/dev/null &"
      ],
      "metadata": {
        "id": "OnLHQefpD8JT"
      },
      "execution_count": null,
      "outputs": []
    },
    {
      "cell_type": "markdown",
      "source": [
        "### visualización de arbol de procesos"
      ],
      "metadata": {
        "id": "rHrpWXT4FpMf"
      }
    },
    {
      "cell_type": "code",
      "source": [
        "!pstree -p | grep ej1_tp1_rust"
      ],
      "metadata": {
        "colab": {
          "base_uri": "https://localhost:8080/"
        },
        "id": "oya_D3KFC9Bf",
        "outputId": "63925e31-a4cc-4263-e438-4e4bdfbd301a"
      },
      "execution_count": null,
      "outputs": [
        {
          "output_type": "stream",
          "name": "stdout",
          "text": [
            "docker-init(1)-+-ej1_tp1_rust(2799)-+-ej1_tp1_rust(2805)-+-ej1_tp1_rust(2816)---sleep(2819)\n",
            "               |                    |                    `-ej1_tp1_rust(2817)---sleep(2821)\n",
            "               |                    |-ej1_tp1_rust(2806)---sleep(2820)\n",
            "               |                    `-ej1_tp1_rust(2808)---ej1_tp1_rust(2815)---sleep(2818)\n"
          ]
        }
      ]
    },
    {
      "cell_type": "markdown",
      "source": [
        "visualizacion output"
      ],
      "metadata": {
        "id": "sj9rozG8Frl_"
      }
    },
    {
      "cell_type": "code",
      "source": [
        "!cat /content/TP1/Parte-1/salidaRust"
      ],
      "metadata": {
        "colab": {
          "base_uri": "https://localhost:8080/"
        },
        "id": "1ZJsfjhqE5_k",
        "outputId": "fbaaa804-31a1-44a9-8498-6e313613dec3"
      },
      "execution_count": null,
      "outputs": [
        {
          "output_type": "stream",
          "name": "stdout",
          "text": [
            "Node A id 2799 pid 1\n",
            "Node B id 2805 pid 2799\n",
            "Node D id 2808 pid 2799\n",
            "Node C id 2806 pid 2799\n",
            "Node G id 2815 pid 2808\n",
            "Node E id 2816 pid 2805\n",
            "Node F id 2817 pid 2805\n",
            "Node I id 2831 pid 2817\n",
            "Node H id 2830 pid 2817\n",
            "Node J id 2840 pid 2831\n",
            "Ending node: C\n",
            "Ending node: E\n",
            "Ending node: G\n",
            "Ending node: D\n",
            "Ending node: H\n",
            "Ending node: J\n",
            "Ending node: I\n",
            "Ending node: F\n",
            "Ending node: B\n",
            "Ending node: A\n"
          ]
        }
      ]
    },
    {
      "cell_type": "markdown",
      "metadata": {
        "id": "9Hx7JxYiD_yZ"
      },
      "source": [
        "# Código en JAVA\n",
        "\n",
        "\n"
      ]
    },
    {
      "cell_type": "markdown",
      "metadata": {
        "id": "iXvk_eQnEO-Y"
      },
      "source": [
        "## Parte 1"
      ]
    },
    {
      "cell_type": "markdown",
      "source": [
        "### Creación archivo"
      ],
      "metadata": {
        "id": "ALQkfJt4oIW3"
      }
    },
    {
      "cell_type": "code",
      "source": [
        "%%writefile TP1/Parte-1/tp1_p1_java.java\n",
        "import java.io.IOException;\n",
        "import java.util.ArrayList;\n",
        "import java.util.Map;\n",
        "import java.util.Set;\n",
        "\n",
        "class ProcessTree\n",
        "{\n",
        "  static Map<Character, Set<Character>> processMap = Map.of (\n",
        "      'A', Set.of('B', 'C', 'D'),\n",
        "      'B', Set.of('E', 'F'),\n",
        "      'F', Set.of('H', 'I'),\n",
        "      'I', Set.of('J'),\n",
        "      'D', Set.of('G')\n",
        "  );\n",
        "\n",
        "  static ArrayList<Process> processList = new ArrayList<>();\n",
        "\n",
        "  static final int SLEEP_TIME = 100000;\n",
        "  // Milliseconds\n",
        "\n",
        "  public static void showInfo ( char processName )\n",
        "  {\n",
        "    ProcessHandle me = ProcessHandle.current();\n",
        "    long pid  = me.pid();\n",
        "    long ppid = me.parent().get().pid();\n",
        "    System.out.println( \"Process \" + processName + \", PID: \" + pid\n",
        "        + \", PPID: \" + ppid );\n",
        "  }\n",
        "\n",
        "  public static void createChilds ( char processName ) throws IOException,\n",
        "      InterruptedException\n",
        "  {\n",
        "    if ( processMap.containsKey(processName) )\n",
        "    {\n",
        "      for ( char son : processMap.get(processName) )\n",
        "      {\n",
        "        ProcessBuilder builder = new ProcessBuilder(\"java\", \"ProcessTree.java\",\n",
        "            String.valueOf(son));\n",
        "        builder.inheritIO();\n",
        "        Process process = builder.start();\n",
        "        processList.add(process);\n",
        "      }\n",
        "    }\n",
        "    else\n",
        "    {\n",
        "      Thread.sleep(SLEEP_TIME);\n",
        "    }\n",
        "  }\n",
        "\n",
        "  public static void waitChilds ( ) throws InterruptedException\n",
        "  {\n",
        "    for ( Process p : processList )\n",
        "    {\n",
        "      p.waitFor();\n",
        "    }\n",
        "  }\n",
        "\n",
        "  public static void main ( String[] args ) throws IOException,\n",
        "      InterruptedException\n",
        "  {\n",
        "    char root = 'A';\n",
        "    char process = ( args.length > 0 ) ? args[0].charAt(0) : root;\n",
        "    showInfo(process);\n",
        "    createChilds(process);\n",
        "    waitChilds();\n",
        "  }\n",
        "}"
      ],
      "metadata": {
        "colab": {
          "base_uri": "https://localhost:8080/"
        },
        "id": "rOlXzn2hkXrY",
        "outputId": "31789cb8-5e11-4ab3-a6d9-da4efceed4bc"
      },
      "execution_count": null,
      "outputs": [
        {
          "output_type": "stream",
          "name": "stdout",
          "text": [
            "Writing /TP1/Parte-1/tp1_p1_java.java\n"
          ]
        }
      ]
    },
    {
      "cell_type": "markdown",
      "metadata": {
        "id": "IYrte02ZydKR"
      },
      "source": [
        "### Ejecución en segundo plano"
      ]
    },
    {
      "cell_type": "code",
      "execution_count": null,
      "metadata": {
        "id": "it7HYzCk1Tgh"
      },
      "outputs": [],
      "source": [
        "!nohup java TP1/Parte-1/tp1_p1_java 1>salidaJava.txt 2>/dev/null &"
      ]
    },
    {
      "cell_type": "markdown",
      "metadata": {
        "id": "lviQRb6Rygzn"
      },
      "source": [
        "### Lista de procesos en ejecución"
      ]
    },
    {
      "cell_type": "code",
      "execution_count": null,
      "metadata": {
        "colab": {
          "base_uri": "https://localhost:8080/"
        },
        "id": "TYD1RYHxt-Rz",
        "outputId": "f91b86af-f800-491c-b472-5f7292347226"
      },
      "outputs": [
        {
          "output_type": "stream",
          "name": "stdout",
          "text": [
            "UID          PID    PPID  C STIME TTY          TIME CMD\n",
            "root           1       0  0 18:09 ?        00:00:00 /sbin/docker-init -- /datalab/run.sh\n",
            "root           7       1  0 18:09 ?        00:00:18 /tools/node/bin/node /datalab/web/app.js\n",
            "root          17       7  0 18:09 ?        00:00:02 /bin/bash -e /usr/local/colab/bin/oom_monitor.sh\n",
            "root          19       1  0 18:09 ?        00:00:00 /bin/bash -e /datalab/run.sh\n",
            "root          21      19  0 18:09 ?        00:00:02 /usr/colab/bin/kernel_manager_proxy --listen_por\n",
            "root          23       0  0 18:09 ?        00:00:00 tail -n +0 -F /root/.config/Google/DriveFS/Logs/\n",
            "root          62       7  0 18:09 ?        00:00:09 [python3] <defunct>\n",
            "root          63       7  0 18:09 ?        00:00:03 python3 /usr/local/bin/colab-fileshim.py\n",
            "root          85       7  0 18:09 ?        00:00:13 /usr/bin/python3 /usr/local/bin/jupyter-notebook\n",
            "root          86       7  0 18:09 ?        00:00:03 /usr/local/bin/dap_multiplexer --domain_socket_p\n",
            "root         438      85  1 18:10 ?        00:00:30 /usr/bin/python3 -m colab_kernel_launcher -f /ro\n",
            "root         473       1  0 18:10 ?        00:00:08 /usr/bin/python3 /usr/local/lib/python3.10/dist-\n",
            "root         872       1  0 18:11 ?        00:00:00 /bin/bash --noediting -i\n",
            "root         873     872  0 18:11 ?        00:00:00 /opt/google/drive/drive --features=fuse_max_back\n",
            "root         874     872  0 18:11 ?        00:00:00 grep --color=auto --line-buffered -E Drive File \n",
            "root         967     873  0 18:11 ?        00:00:01 /opt/google/drive/drive --features=fuse_max_back\n",
            "root        1001     967  0 18:11 ?        00:00:00 [fusermount] <defunct>\n",
            "root        1047       1  0 18:11 ?        00:00:00 bash -c tail -n +0 -F \"/root/.config/Google/Driv\n",
            "root        1048       1  0 18:11 ?        00:00:00 /opt/google/drive/directoryprefetcher_binary -mo\n",
            "root        1049    1047  0 18:11 ?        00:00:00 tail -n +0 -F /root/.config/Google/DriveFS/Logs/\n",
            "root        1050    1047  0 18:11 ?        00:00:00 python3 /opt/google/drive/drive-filter.py\n",
            "root        5711       7  0 18:30 ?        00:00:01 /usr/colab/bin/language_service --lsp_search_dir\n",
            "root        5716    5711  4 18:30 ?        00:00:51 node /datalab/web/pyright/pyright-langserver.js \n",
            "root       10750      17  0 18:49 ?        00:00:00 sleep 1\n",
            "root       10751     438  0 18:49 ?        00:00:00 ps -ef\n"
          ]
        }
      ],
      "source": [
        "!ps -ef | grep tp1_p1_java.java"
      ]
    },
    {
      "cell_type": "markdown",
      "metadata": {
        "id": "IJdNGAg7yuGH"
      },
      "source": [
        "### Árbol de procesos"
      ]
    },
    {
      "cell_type": "code",
      "execution_count": null,
      "metadata": {
        "id": "qCrQ_MFa1ly6"
      },
      "outputs": [],
      "source": [
        "!pstree -pT 81038"
      ]
    },
    {
      "cell_type": "markdown",
      "metadata": {
        "id": "xY30ef6IzGTA"
      },
      "source": [
        "### Salida del programa"
      ]
    },
    {
      "cell_type": "code",
      "execution_count": null,
      "metadata": {
        "colab": {
          "base_uri": "https://localhost:8080/"
        },
        "id": "FDNSnGLSw5ga",
        "outputId": "854e10ba-8493-4947-b8b0-97caef559c6c"
      },
      "outputs": [
        {
          "output_type": "stream",
          "name": "stdout",
          "text": [
            "Process A, PID: 81038, PPID: 1\n",
            "Process B, PID: 81066, PPID: 81038\n",
            "Process D, PID: 81061, PPID: 81038\n",
            "Process C, PID: 81064, PPID: 81038\n",
            "Process E, PID: 81138, PPID: 81066\n",
            "Process F, PID: 81140, PPID: 81066\n",
            "Process G, PID: 81177, PPID: 81061\n",
            "Process I, PID: 81219, PPID: 81140\n",
            "Process H, PID: 81216, PPID: 81140\n",
            "Process J, PID: 81267, PPID: 81219\n"
          ]
        }
      ],
      "source": [
        "!cat salidaJava.txt"
      ]
    },
    {
      "cell_type": "markdown",
      "metadata": {
        "id": "-DsNzyXZJMuo"
      },
      "source": [
        "# Código en GO\n"
      ]
    },
    {
      "cell_type": "markdown",
      "source": [
        "## Parte 1"
      ],
      "metadata": {
        "id": "6qlWbS7fnxfX"
      }
    },
    {
      "cell_type": "markdown",
      "source": [
        "### Crear Archivo"
      ],
      "metadata": {
        "id": "k-SVrwaKnzo0"
      }
    },
    {
      "cell_type": "code",
      "execution_count": null,
      "metadata": {
        "colab": {
          "base_uri": "https://localhost:8080/"
        },
        "id": "sg0W1J1HJeaA",
        "outputId": "ed39b9e2-7a85-46a5-8dc4-f0217b99ea4e"
      },
      "outputs": [
        {
          "output_type": "stream",
          "name": "stdout",
          "text": [
            "Writing TP1/Parte-1/Parte1_go.go\n"
          ]
        }
      ],
      "source": [
        "%%writefile TP1/Parte-1/Parte1_go.go\n",
        "package main\n",
        "\n",
        "import (\n",
        "\t\"fmt\"\n",
        "\t\"os\"\n",
        "\t\"os/exec\"\n",
        "\t\"sync\"\n",
        "\t\"time\"\n",
        ")\n",
        "\n",
        "const RAIZ = 'A'\n",
        "const ARGUMENTOS = 1\n",
        "const CHILDLESS = 0\n",
        "const SECONDS_WAIT = 10\n",
        "\n",
        "type ProcessPrinter struct {\n",
        "\tmu sync.Mutex\n",
        "}\n",
        "\n",
        "var myDictionary = map[rune][]rune{\n",
        "\t'A': {'B', 'C', 'D'},\n",
        "\t'B': {'E', 'F'},\n",
        "\t'C': {},\n",
        "\t'D': {'G'},\n",
        "\t'E': {},\n",
        "\t'F': {'H', 'I'},\n",
        "\t'G': {},\n",
        "\t'H': {},\n",
        "\t'I': {'J'},\n",
        "\t'J': {},\n",
        "}\n",
        "\n",
        "var printer = ProcessPrinter{}\n",
        "\n",
        "func main() {\n",
        "\tvar wg sync.WaitGroup\n",
        "\tvar process rune\n",
        "\n",
        "\tif len(os.Args) == ARGUMENTOS {\n",
        "\t\tprocess = rune(RAIZ)\n",
        "\t} else {\n",
        "\t\tprocess = rune(os.Args[1][0])\n",
        "\t}\n",
        "\n",
        "\tprinter.showProcess(string(process))\n",
        "\tchildren, ok := myDictionary[process]\n",
        "\n",
        "\tif !ok {\n",
        "\t\tfmt.Println(\"Clave no encontrada en el diccionario\")\n",
        "\t\treturn\n",
        "\t}\n",
        "\n",
        "\tif len(children) > CHILDLESS {\n",
        "\t\twg.Add(len(children))\n",
        "\t\tfor _, letter := range children {\n",
        "\t\t   createChildProcess(letter, &wg)\n",
        "\t\t}\n",
        "\t}\n",
        "\ttime.Sleep(SECONDS_WAIT * time.Second)\n",
        "\twg.Wait()\n",
        "}\n",
        "func createChildProcess(name rune, wg *sync.WaitGroup) {\n",
        "\tdefer wg.Done()\n",
        "\n",
        "\tcmd := exec.Command(os.Args[0], string(name))\n",
        "\tcmd.Stdout = os.Stdout\n",
        "\tcmd.Stderr = os.Stderr\n",
        "\n",
        "\tif err := cmd.Start(); err != nil {\n",
        "\t\tfmt.Println(\"Error al ejecutar el proceso hijo:\", err)\n",
        "\t}\n",
        "}\n",
        "func (pp *ProcessPrinter) showProcess(process string) {\n",
        "\tpp.mu.Lock()\n",
        "\tdefer pp.mu.Unlock()\n",
        "\tfmt.Println(\"Proceso\", process, \"pid:\", os.Getpid(), \"ppid:\", os.Getppid())\n",
        "}"
      ]
    },
    {
      "cell_type": "markdown",
      "metadata": {
        "id": "2Iz1Ic3SJyOM"
      },
      "source": [
        "### Instalar paquete Goland"
      ]
    },
    {
      "cell_type": "code",
      "execution_count": null,
      "metadata": {
        "colab": {
          "base_uri": "https://localhost:8080/"
        },
        "id": "OyO9RXCNJ465",
        "outputId": "f72ba72b-669a-4e3a-f4df-694394cdd5d9"
      },
      "outputs": [
        {
          "output_type": "stream",
          "name": "stdout",
          "text": [
            "Reading package lists... Done\n",
            "Building dependency tree... Done\n",
            "Reading state information... Done\n",
            "The following additional packages will be installed:\n",
            "  golang-1.18-go golang-1.18-src golang-src\n",
            "Suggested packages:\n",
            "  bzr | brz mercurial subversion\n",
            "The following NEW packages will be installed:\n",
            "  golang-1.18-go golang-1.18-src golang-go golang-src\n",
            "0 upgraded, 4 newly installed, 0 to remove and 45 not upgraded.\n",
            "Need to get 82.3 MB of archives.\n",
            "After this operation, 436 MB of additional disk space will be used.\n",
            "Get:1 http://archive.ubuntu.com/ubuntu jammy-updates/main amd64 golang-1.18-src all 1.18.1-1ubuntu1.1 [16.2 MB]\n",
            "Get:2 http://archive.ubuntu.com/ubuntu jammy-updates/main amd64 golang-1.18-go amd64 1.18.1-1ubuntu1.1 [66.0 MB]\n",
            "Get:3 http://archive.ubuntu.com/ubuntu jammy/main amd64 golang-src all 2:1.18~0ubuntu2 [4,438 B]\n",
            "Get:4 http://archive.ubuntu.com/ubuntu jammy/main amd64 golang-go amd64 2:1.18~0ubuntu2 [41.8 kB]\n",
            "Fetched 82.3 MB in 1s (58.1 MB/s)\n",
            "Selecting previously unselected package golang-1.18-src.\n",
            "(Reading database ... 121752 files and directories currently installed.)\n",
            "Preparing to unpack .../golang-1.18-src_1.18.1-1ubuntu1.1_all.deb ...\n",
            "Unpacking golang-1.18-src (1.18.1-1ubuntu1.1) ...\n",
            "Selecting previously unselected package golang-1.18-go.\n",
            "Preparing to unpack .../golang-1.18-go_1.18.1-1ubuntu1.1_amd64.deb ...\n",
            "Unpacking golang-1.18-go (1.18.1-1ubuntu1.1) ...\n",
            "Selecting previously unselected package golang-src.\n",
            "Preparing to unpack .../golang-src_2%3a1.18~0ubuntu2_all.deb ...\n",
            "Unpacking golang-src (2:1.18~0ubuntu2) ...\n",
            "Selecting previously unselected package golang-go:amd64.\n",
            "Preparing to unpack .../golang-go_2%3a1.18~0ubuntu2_amd64.deb ...\n",
            "Unpacking golang-go:amd64 (2:1.18~0ubuntu2) ...\n",
            "Setting up golang-1.18-src (1.18.1-1ubuntu1.1) ...\n",
            "Setting up golang-src (2:1.18~0ubuntu2) ...\n",
            "Setting up golang-1.18-go (1.18.1-1ubuntu1.1) ...\n",
            "Setting up golang-go:amd64 (2:1.18~0ubuntu2) ...\n",
            "Processing triggers for man-db (2.10.2-1) ...\n"
          ]
        }
      ],
      "source": [
        "!apt-get install -y golang-go"
      ]
    },
    {
      "cell_type": "markdown",
      "metadata": {
        "id": "ISNFeRtdKTxt"
      },
      "source": [
        "### Compilacion\n",
        "\n"
      ]
    },
    {
      "cell_type": "code",
      "execution_count": null,
      "metadata": {
        "colab": {
          "base_uri": "https://localhost:8080/"
        },
        "id": "2vJv99dHKaSe",
        "outputId": "f6c82660-f96d-4fab-ad90-eb263b38bfb2"
      },
      "outputs": [
        {
          "name": "stdout",
          "output_type": "stream",
          "text": [
            "Proceso A pid: 10183 ppid: 10144\n",
            "Proceso B pid: 10187 ppid: 10183\n",
            "Proceso D pid: 10188 ppid: 10183\n",
            "Proceso C pid: 10198 ppid: 10183\n",
            "Proceso F pid: 10199 ppid: 10187\n",
            "Proceso E pid: 10200 ppid: 10187\n",
            "Proceso G pid: 10208 ppid: 10188\n",
            "Proceso I pid: 10212 ppid: 10199\n",
            "Proceso H pid: 10213 ppid: 10199\n",
            "Proceso J pid: 10226 ppid: 10212\n"
          ]
        }
      ],
      "source": [
        "!go run Parte1_go.go"
      ]
    },
    {
      "cell_type": "markdown",
      "metadata": {
        "id": "XPTPeBOgApcO"
      },
      "source": [
        "### Ejecución en segundo plano"
      ]
    },
    {
      "cell_type": "code",
      "execution_count": null,
      "metadata": {
        "id": "n1bW2m4PAwas"
      },
      "outputs": [],
      "source": [
        "!nohup go run TP1/Parte-1/Parte1_go.go 1>salidaGo.txt 2>/dev/null &"
      ]
    },
    {
      "cell_type": "markdown",
      "metadata": {
        "id": "8_iB9Js4BSGv"
      },
      "source": [
        "### Ver arbol de procesos"
      ]
    },
    {
      "cell_type": "code",
      "execution_count": null,
      "metadata": {
        "colab": {
          "base_uri": "https://localhost:8080/"
        },
        "id": "mFD2Lcu1Be8m",
        "outputId": "75880063-371f-4e95-989d-2a48312157b6"
      },
      "outputs": [
        {
          "output_type": "stream",
          "name": "stdout",
          "text": [
            "   1673 ?        S      0:00  |       \\_ /bin/bash -c ps -axf | grep Parte1_go\n",
            "   1675 ?        S      0:00  |           \\_ grep Parte1_go\n",
            "   1588 ?        Sl     0:00 go run TP1/Parte-1/Parte1_go.go\n",
            "   1622 ?        Sl     0:00  \\_ /tmp/go-build2687719580/b001/exe/Parte1_go\n",
            "   1626 ?        Sl     0:00      \\_ /tmp/go-build2687719580/b001/exe/Parte1_go B\n",
            "   1636 ?        Sl     0:00      |   \\_ /tmp/go-build2687719580/b001/exe/Parte1_go E\n",
            "   1637 ?        Sl     0:00      |   \\_ /tmp/go-build2687719580/b001/exe/Parte1_go F\n",
            "   1654 ?        Sl     0:00      |       \\_ /tmp/go-build2687719580/b001/exe/Parte1_go H\n",
            "   1655 ?        Sl     0:00      |       \\_ /tmp/go-build2687719580/b001/exe/Parte1_go I\n",
            "   1663 ?        Sl     0:00      |           \\_ /tmp/go-build2687719580/b001/exe/Parte1_go J\n",
            "   1627 ?        Sl     0:00      \\_ /tmp/go-build2687719580/b001/exe/Parte1_go C\n",
            "   1628 ?        Sl     0:00      \\_ /tmp/go-build2687719580/b001/exe/Parte1_go D\n",
            "   1650 ?        Sl     0:00          \\_ /tmp/go-build2687719580/b001/exe/Parte1_go G\n"
          ]
        }
      ],
      "source": [
        "!ps -axf | grep Parte1_go"
      ]
    },
    {
      "cell_type": "markdown",
      "metadata": {
        "id": "fi7BOnjDBrFV"
      },
      "source": [
        "\n",
        "### Arbol de procesos"
      ]
    },
    {
      "cell_type": "code",
      "execution_count": null,
      "metadata": {
        "colab": {
          "base_uri": "https://localhost:8080/"
        },
        "id": "xaxcwtcrB1YD",
        "outputId": "1103d25f-6a30-4286-b638-7a27eac0b42f"
      },
      "outputs": [
        {
          "output_type": "stream",
          "name": "stdout",
          "text": [
            "Parte1_go(1622)─┬─Parte1_go(1626)─┬─Parte1_go(1636)\n",
            "                │                 └─Parte1_go(1637)─┬─Parte1_go(1654)\n",
            "                │                                   └─Parte1_go(1655)───Parte1_go(1663)\n",
            "                ├─Parte1_go(1627)\n",
            "                └─Parte1_go(1628)───Parte1_go(1650)\n"
          ]
        }
      ],
      "source": [
        "!pstree -pT 1622"
      ]
    },
    {
      "cell_type": "markdown",
      "metadata": {
        "id": "3lSCl_5FB61V"
      },
      "source": [
        "### Salida del programa"
      ]
    },
    {
      "cell_type": "code",
      "execution_count": null,
      "metadata": {
        "colab": {
          "base_uri": "https://localhost:8080/"
        },
        "id": "GqPwlQ97B-6f",
        "outputId": "8d8afe93-c41e-4ea9-9ba4-01c2809ab357"
      },
      "outputs": [
        {
          "output_type": "stream",
          "name": "stdout",
          "text": [
            "Proceso A pid: 1622 ppid: 1588\n",
            "Proceso C pid: 1627 ppid: 1622\n",
            "Proceso B pid: 1626 ppid: 1622\n",
            "Proceso E pid: 1636 ppid: 1626\n",
            "Proceso D pid: 1628 ppid: 1622\n",
            "Proceso F pid: 1637 ppid: 1626\n",
            "Proceso G pid: 1650 ppid: 1628\n",
            "Proceso I pid: 1655 ppid: 1637\n",
            "Proceso H pid: 1654 ppid: 1637\n",
            "Proceso J pid: 1663 ppid: 1655\n"
          ]
        }
      ],
      "source": [
        "!cat salidaGo.txt\n"
      ]
    },
    {
      "cell_type": "markdown",
      "metadata": {
        "id": "hGrIYBWDTR9A"
      },
      "source": [
        "#Codigo en Python"
      ]
    },
    {
      "cell_type": "markdown",
      "metadata": {
        "id": "jiimqK2bTV_r"
      },
      "source": [
        "## Parte 1"
      ]
    },
    {
      "cell_type": "code",
      "execution_count": null,
      "metadata": {
        "colab": {
          "base_uri": "https://localhost:8080/"
        },
        "id": "RPjKTrEPTYCH",
        "outputId": "8afeb978-15b1-4b15-b2a7-40e9200f35e6"
      },
      "outputs": [
        {
          "output_type": "stream",
          "name": "stdout",
          "text": [
            "Overwriting TP1/Parte-1/tp1_p1_python.py\n"
          ]
        }
      ],
      "source": [
        "%%writefile TP1/Parte-1/tp1_p1_python.py\n",
        "import os\n",
        "import time\n",
        "\n",
        "TIME_SLEEP=20000\n",
        "\n",
        "\n",
        "def imprimirProceso(proceso):\n",
        "    pid = os.getpid()\n",
        "    ppid = os.getppid()\n",
        "    print(f\"Proceso {proceso}: PID = {pid}, PID del Padre = {ppid}\")\n",
        "\n",
        "def crearProcesos(procesos, padre):\n",
        "    hijos = procesos.get(padre, [])\n",
        "    imprimirProceso(padre)\n",
        "    for hijo in hijos:\n",
        "        pid = os.fork()\n",
        "        if pid < 0:\n",
        "            print(\"Error pid del proceso\")\n",
        "        if pid == 0:  # es hijo\n",
        "            crearProcesos(procesos, hijo)\n",
        "            time.sleep(TIME_SLEEP)\n",
        "            os._exit(0)\n",
        "    for hijo in hijos:\n",
        "        os.wait()\n",
        "\n",
        "\n",
        "print(\"Comienzo a crear los procesos...\\n\")\n",
        "\n",
        "procesos = {\n",
        "    \"A\": [\"B\", \"C\", \"D\"],\n",
        "    \"B\": [\"E\", \"F\"],\n",
        "    \"D\": [\"G\"],\n",
        "    \"F\": [\"H\", \"I\"],\n",
        "    \"I\": [\"J\"]\n",
        "}\n",
        "\n",
        "crearProcesos(procesos, list(procesos.keys())[0])\n",
        "\n",
        "print(\"\\nCreación de procesos finalizada\")"
      ]
    },
    {
      "cell_type": "markdown",
      "source": [
        "### Ver si se creo"
      ],
      "metadata": {
        "id": "K8v7LYH_bxiu"
      }
    },
    {
      "cell_type": "code",
      "source": [
        "!ls -laR | grep tp1_p1_py.py"
      ],
      "metadata": {
        "id": "oDaef2fQcBgh"
      },
      "execution_count": null,
      "outputs": []
    },
    {
      "cell_type": "markdown",
      "source": [
        "### Ejecutar"
      ],
      "metadata": {
        "id": "M3INZXCpdmbT"
      }
    },
    {
      "cell_type": "code",
      "source": [
        "!python3 TP1/Parte-1/tp1_p1_py.py"
      ],
      "metadata": {
        "colab": {
          "base_uri": "https://localhost:8080/"
        },
        "id": "9HolNU2zdpZu",
        "outputId": "2c11b049-275d-4106-9fa7-5595597bf2d9"
      },
      "execution_count": null,
      "outputs": [
        {
          "output_type": "stream",
          "name": "stdout",
          "text": [
            "python3: can't open file '/content/TP1/Parte-1/tp1_p1_py.py': [Errno 2] No such file or directory\n"
          ]
        }
      ]
    },
    {
      "cell_type": "markdown",
      "metadata": {
        "id": "APlC3kIUDMhh"
      },
      "source": [
        "### Ejecución en segundo plano\n",
        "\n",
        "\n"
      ]
    },
    {
      "cell_type": "code",
      "execution_count": null,
      "metadata": {
        "colab": {
          "base_uri": "https://localhost:8080/"
        },
        "id": "QZ0q-aTmDe5G",
        "outputId": "9ef04718-d350-492e-af8f-700af756d384"
      },
      "outputs": [
        {
          "output_type": "stream",
          "name": "stdout",
          "text": [
            "nohup: appending output to 'nohup.out'\n"
          ]
        }
      ],
      "source": [
        "!nohup python3 TP1/Parte-1/tp1_p1_python.py &"
      ]
    },
    {
      "cell_type": "markdown",
      "metadata": {
        "id": "hZoqIa9QDnqM"
      },
      "source": [
        "### Visualización de los procesos"
      ]
    },
    {
      "cell_type": "code",
      "execution_count": null,
      "metadata": {
        "colab": {
          "base_uri": "https://localhost:8080/"
        },
        "id": "y0--UKuIEBIS",
        "outputId": "48da978e-176e-4ce2-a55d-86dce002fcb4"
      },
      "outputs": [
        {
          "output_type": "stream",
          "name": "stdout",
          "text": [
            "USER         PID %CPU %MEM    VSZ   RSS TTY      STAT START   TIME COMMAND\n",
            "root          23  0.0  0.0   5808  1044 ?        Ss   Apr10   0:00 tail -n +0 -F /root/.config/Googl\n",
            "root           1  0.0  0.0   1076     8 ?        Ss   Apr10   0:00 /sbin/docker-init -- /datalab/run\n",
            "root           6  0.1  0.4 892460 55800 ?        Rl   Apr10   0:14 /tools/node/bin/node /datalab/web\n",
            "root          17  0.0  0.0   7376  3496 ?        S    Apr10   0:06  \\_ /bin/bash -e /usr/local/colab\n",
            "root       36626  0.0  0.0   5776  1016 ?        S    00:23   0:00  |   \\_ sleep 1\n",
            "root          64  0.1  0.0      0     0 ?        Z    Apr10   0:09  \\_ [python3] <defunct>\n",
            "root          65  0.0  0.4  68996 53636 ?        S    Apr10   0:02  \\_ python3 /usr/local/bin/colab-\n",
            "root          87  0.1  0.8 358732 113220 ?       Rl   Apr10   0:12  \\_ /usr/bin/python3 /usr/local/b\n",
            "root         720  0.4  0.8 1125908 113872 ?      Ssl  Apr10   0:39  |   \\_ /usr/bin/python3 -m colab\n",
            "root       36627  0.0  0.0  10232  3484 ?        R    00:23   0:00  |       \\_ ps -aufx\n",
            "root          88  0.0  0.0 1228576 8940 ?        Sl   Apr10   0:03  \\_ /usr/local/bin/dap_multiplexe\n",
            "root       34406  0.0  0.1 1239064 18636 ?       Sl   00:14   0:00  \\_ /usr/colab/bin/language_servi\n",
            "root       34412  3.0  0.9 898312 131096 ?       Sl   00:14   0:16      \\_ node /datalab/web/pyright\n",
            "root          19  0.0  0.0   7376  1984 ?        S    Apr10   0:00 /bin/bash -e /datalab/run.sh\n",
            "root          20  0.0  0.1 1236188 13804 ?       Sl   Apr10   0:03  \\_ /usr/colab/bin/kernel_manager\n",
            "root         759  0.0  0.1 539404 13860 ?        Sl   Apr10   0:03 /usr/bin/python3 /usr/local/lib/p\n",
            "root       36341  0.0  0.0  17504  9700 ?        S    00:22   0:00 python3 TP1/Parte-1/tp1_p1_python\n",
            "root       36342  0.0  0.0  17504  5572 ?        S    00:22   0:00  \\_ python3 TP1/Parte-1/tp1_p1_py\n",
            "root       36345  0.0  0.0  17504  5124 ?        S    00:22   0:00  |   \\_ python3 TP1/Parte-1/tp1_p\n",
            "root       36346  0.0  0.0  17504  5572 ?        S    00:22   0:00  |   \\_ python3 TP1/Parte-1/tp1_p\n",
            "root       36347  0.0  0.0  17504  5188 ?        S    00:22   0:00  |       \\_ python3 TP1/Parte-1/t\n",
            "root       36349  0.0  0.0  17504  5124 ?        S    00:22   0:00  |       \\_ python3 TP1/Parte-1/t\n",
            "root       36350  0.0  0.0  17504  5256 ?        S    00:22   0:00  |           \\_ python3 TP1/Parte\n",
            "root       36343  0.0  0.0  17504  5188 ?        S    00:22   0:00  \\_ python3 TP1/Parte-1/tp1_p1_py\n",
            "root       36344  0.0  0.0  17504  5188 ?        S    00:22   0:00  \\_ python3 TP1/Parte-1/tp1_p1_py\n",
            "root       36348  0.0  0.0  17504  5124 ?        S    00:22   0:00      \\_ python3 TP1/Parte-1/tp1_p\n",
            "root       36467  0.1  0.0  17504  9820 ?        S    00:22   0:00 python3 TP1/Parte-1/tp1_p1_python\n",
            "root       36468  0.0  0.0  17504  5508 ?        S    00:22   0:00  \\_ python3 TP1/Parte-1/tp1_p1_py\n",
            "root       36471  0.0  0.0  17504  5060 ?        S    00:22   0:00  |   \\_ python3 TP1/Parte-1/tp1_p\n",
            "root       36472  0.0  0.0  17504  5508 ?        S    00:22   0:00  |   \\_ python3 TP1/Parte-1/tp1_p\n",
            "root       36474  0.0  0.0  17504  5124 ?        S    00:22   0:00  |       \\_ python3 TP1/Parte-1/t\n",
            "root       36475  0.0  0.0  17504  5060 ?        S    00:22   0:00  |       \\_ python3 TP1/Parte-1/t\n",
            "root       36476  0.0  0.0  17504  5128 ?        S    00:22   0:00  |           \\_ python3 TP1/Parte\n",
            "root       36469  0.0  0.0  17504  5060 ?        S    00:22   0:00  \\_ python3 TP1/Parte-1/tp1_p1_py\n",
            "root       36470  0.0  0.0  17504  5060 ?        S    00:22   0:00  \\_ python3 TP1/Parte-1/tp1_p1_py\n",
            "root       36473  0.0  0.0  17504  5060 ?        S    00:22   0:00      \\_ python3 TP1/Parte-1/tp1_p\n",
            "root       36609  3.0  0.0  17504  9780 ?        S    00:23   0:00 python3 TP1/Parte-1/tp1_p1_python\n",
            "root       36610  0.0  0.0  17504  5572 ?        S    00:23   0:00  \\_ python3 TP1/Parte-1/tp1_p1_py\n",
            "root       36613  0.0  0.0  17504  5060 ?        S    00:23   0:00  |   \\_ python3 TP1/Parte-1/tp1_p\n",
            "root       36614  0.0  0.0  17504  5572 ?        S    00:23   0:00  |   \\_ python3 TP1/Parte-1/tp1_p\n",
            "root       36616  0.0  0.0  17504  5124 ?        S    00:23   0:00  |       \\_ python3 TP1/Parte-1/t\n",
            "root       36617  0.0  0.0  17504  5060 ?        S    00:23   0:00  |       \\_ python3 TP1/Parte-1/t\n",
            "root       36618  0.0  0.0  17504  5128 ?        S    00:23   0:00  |           \\_ python3 TP1/Parte\n",
            "root       36611  0.0  0.0  17504  5124 ?        S    00:23   0:00  \\_ python3 TP1/Parte-1/tp1_p1_py\n",
            "root       36612  0.0  0.0  17504  5124 ?        S    00:23   0:00  \\_ python3 TP1/Parte-1/tp1_p1_py\n",
            "root       36615  0.0  0.0  17504  5060 ?        S    00:23   0:00      \\_ python3 TP1/Parte-1/tp1_p\n"
          ]
        }
      ],
      "source": [
        "!ps -aufx"
      ]
    },
    {
      "cell_type": "markdown",
      "metadata": {
        "id": "rtzNlv8GEnew"
      },
      "source": [
        "### Visualizción arbol de procesos"
      ]
    },
    {
      "cell_type": "code",
      "execution_count": null,
      "metadata": {
        "id": "rHyu_VBkE9eM",
        "colab": {
          "base_uri": "https://localhost:8080/"
        },
        "outputId": "e80a43b4-4cc3-4038-995b-ce9fd4e70ead"
      },
      "outputs": [
        {
          "output_type": "stream",
          "name": "stdout",
          "text": [
            "USER         PID %CPU %MEM    VSZ   RSS TTY      STAT START   TIME COMMAND\n",
            "root           1  0.0  0.0   1076     8 ?        Ss   Apr10   0:00 /sbin/docker-init -- /datalab/run\n",
            "root           6  0.1  0.4 892460 56160 ?        Sl   Apr10   0:14 /tools/node/bin/node /datalab/web\n",
            "root          17  0.0  0.0   7376  3496 ?        S    Apr10   0:06 /bin/bash -e /usr/local/colab/bin\n",
            "root          19  0.0  0.0   7376  1984 ?        S    Apr10   0:00 /bin/bash -e /datalab/run.sh\n",
            "root          20  0.0  0.0 1236188 13288 ?       Sl   Apr10   0:03 /usr/colab/bin/kernel_manager_pro\n",
            "root          23  0.0  0.0   5808  1044 ?        Ss   Apr10   0:00 tail -n +0 -F /root/.config/Googl\n",
            "root          64  0.1  0.0      0     0 ?        Z    Apr10   0:09 [python3] <defunct>\n",
            "root          65  0.0  0.4  68996 53636 ?        S    Apr10   0:02 python3 /usr/local/bin/colab-file\n",
            "root          87  0.1  0.8 358732 113220 ?       Rl   Apr10   0:12 /usr/bin/python3 /usr/local/bin/j\n",
            "root          88  0.0  0.0 1228576 8940 ?        Sl   Apr10   0:03 /usr/local/bin/dap_multiplexer --\n",
            "root         720  0.4  0.8 1125908 113872 ?      Ssl  Apr10   0:39 /usr/bin/python3 -m colab_kernel_\n",
            "root         759  0.0  0.1 539404 13860 ?        Sl   Apr10   0:03 /usr/bin/python3 /usr/local/lib/p\n",
            "root       34406  0.0  0.1 1239064 18376 ?       Sl   00:14   0:00 /usr/colab/bin/language_service -\n",
            "root       34412  3.2  0.9 897544 130780 ?       Sl   00:14   0:15 node /datalab/web/pyright/pyright\n",
            "root       36341  0.6  0.0  17504  9700 ?        S    00:22   0:00 python3 TP1/Parte-1/tp1_p1_python\n",
            "root       36342  0.0  0.0  17504  5572 ?        S    00:22   0:00 python3 TP1/Parte-1/tp1_p1_python\n",
            "root       36343  0.0  0.0  17504  5188 ?        S    00:22   0:00 python3 TP1/Parte-1/tp1_p1_python\n",
            "root       36344  0.0  0.0  17504  5188 ?        S    00:22   0:00 python3 TP1/Parte-1/tp1_p1_python\n",
            "root       36345  0.0  0.0  17504  5124 ?        S    00:22   0:00 python3 TP1/Parte-1/tp1_p1_python\n",
            "root       36346  0.0  0.0  17504  5572 ?        S    00:22   0:00 python3 TP1/Parte-1/tp1_p1_python\n",
            "root       36347  0.0  0.0  17504  5188 ?        S    00:22   0:00 python3 TP1/Parte-1/tp1_p1_python\n",
            "root       36348  0.0  0.0  17504  5124 ?        S    00:22   0:00 python3 TP1/Parte-1/tp1_p1_python\n",
            "root       36349  0.0  0.0  17504  5124 ?        S    00:22   0:00 python3 TP1/Parte-1/tp1_p1_python\n",
            "root       36350  0.0  0.0  17504  5256 ?        S    00:22   0:00 python3 TP1/Parte-1/tp1_p1_python\n",
            "root       36373  0.0  0.0   5776   988 ?        S    00:22   0:00 sleep 1\n",
            "root       36374  0.0  0.0  10076  1604 ?        R    00:22   0:00 ps aux\n"
          ]
        }
      ],
      "source": [
        "!ps aux"
      ]
    },
    {
      "cell_type": "markdown",
      "source": [
        "#Conclusiones"
      ],
      "metadata": {
        "id": "VOiBSKr_U7JA"
      }
    },
    {
      "cell_type": "markdown",
      "source": [
        "Luego de codificar la solución propuesta en distintos lenguajes pudimos notar diferencias entre ellos y además surgieron inconvenientes."
      ],
      "metadata": {
        "id": "aIVpZ2QVlsja"
      }
    },
    {
      "cell_type": "markdown",
      "source": [
        "Por ejemplo, al codificar la solución en Python tuvimos conflicto con la identación, eso nos llevo a que el código no se ejecute correctamente y a obtener resultados inesperados. Por otra parte, en principio se desarrollo el código utilizando la biblioteca de Python llamada multiprocessing, que proporciona una interfaz de más alto nivel en comparación con la utilización de os.fork que es una interfaz de más bajo nivel. Respecto a esto una dificultad que encontramos es que fork no se puede ejecutar en Windows, mientras que multiprocessing si se puede. En este caso, preferimos utilizar os.fork ya que en el ejemplo dado en clase se utiliza os.fork, pero según lo que pudimos investigar solo funciona para Mac OS X, Unix y Linux, lo cual podría ser una desventaja ya que no asegura la portabilidad."
      ],
      "metadata": {
        "id": "zzc1gAvWU9YU"
      }
    },
    {
      "cell_type": "markdown",
      "source": [
        "En el caso de Java, es un lenguaje de programación que tiene una sintaxis más compleja en comparación con Python, además de requerir más código para lograr el mismo resultado. Además, la ausencia de fork() puede presentar algunas limitaciones en la flexibilidad y eficiencia en comparación con C++, especialmente en escenarios donde la clonación exacta de un proceso es necesaria (cabe aclarar que aunque el espacio de memoria del proceso hijo es idéntico inicialmente al del proceso padre, cada uno tendrá su propia área de memoria y no se compartirá). Es por ello que Java ofrece alternativas como la clase ProcessBuilder, la cual permite configurar y ejecutar procesos externos, lo que facilita la interacción con programas externos y la comunicación a través de la entrada y salida estándar. Por otra parte, Java puede consumir más recursos en comparación con lenguajes de bajo nivel debido a la sobrecarga asociada con la JVM y la gestión de hilos, afectando de esta manera el rendimiento."
      ],
      "metadata": {
        "id": "72ib79-6liLc"
      }
    },
    {
      "cell_type": "markdown",
      "source": [
        "Durante el desarrollo en Rust, nos enfrentamos a varias dificultades, siendo una de las primeras la incorporación de la biblioteca externa \"Nix\" al programa. Esta biblioteca proporciona una alternativa de nivel superior para realizar operaciones con. La solución a este problema fue aprovechar del gestor de paquetes oficial de Rust, 'Cargo'. Al crear un proyecto en Cargo y agregar el código correspondiente, la incorporación de la biblioteca externa resultó relativamente sencilla. Por lo tanto, podemos afirmar que Cargo se convierte en una herramienta esencial para el desarrollo en este lenguaje.\n",
        "\n",
        "Otro aspecto importante que debimos tener en cuenta fue la sintaxis particular del lenguaje. Aunque Rust está diseñado para que el código sea legible y seguro, al obligar al programador a ser más explícito, puede presentar una curva de aprendizaje más pronunciada para aquellos que no están familiarizados con él. Rust toma inspiración de la sintaxis de varios otros lenguajes de programación, como JavaScript, Python, C++ y Java."
      ],
      "metadata": {
        "id": "KIZm1AATxrpJ"
      }
    },
    {
      "cell_type": "markdown",
      "source": [
        "Una de las particularidades que nos encontramos al desarrollar el código en GO es que no existe una sentencia similar a **fork()** , como las que conocimos en C y C++ en anteriores cursadas.\n",
        "\n",
        "Para poder realizar programación concurrente en Go, utilizamos una característica sencilla propia del lenguaje que son la ejecucion de comandos. Asi es posible ejecutar varias tareas en forma concurrente sin preocuparse de la sobrecarga de recursos.\n",
        "Con el *Cmd.Start()* es el método que inicia el comando especificado y no espera a que se complete.\n",
        "La forma de utilizar los comandos es:\n",
        "*cmd := exec.Command()*\n"
      ],
      "metadata": {
        "id": "M3pylyuLV6w-"
      }
    }
  ],
  "metadata": {
    "colab": {
      "provenance": [],
      "collapsed_sections": [
        "tKXmIIB8mVmG",
        "4uK9cHE5ml-_"
      ],
      "toc_visible": true,
      "include_colab_link": true
    },
    "kernelspec": {
      "display_name": "Python 3",
      "name": "python3"
    },
    "language_info": {
      "name": "python"
    }
  },
  "nbformat": 4,
  "nbformat_minor": 0
}