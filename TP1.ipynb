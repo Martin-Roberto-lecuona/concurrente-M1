{
  "cells": [
    {
      "cell_type": "markdown",
      "metadata": {
        "id": "view-in-github",
        "colab_type": "text"
      },
      "source": [
        "<a href=\"https://colab.research.google.com/github/Martin-Roberto-lecuona/concurrente-M1/blob/main/TP1.ipynb\" target=\"_parent\"><img src=\"https://colab.research.google.com/assets/colab-badge.svg\" alt=\"Open In Colab\"/></a>"
      ]
    },
    {
      "cell_type": "markdown",
      "source": [
        "# Directorios"
      ],
      "metadata": {
        "id": "aK7HIAS4mLm9"
      }
    },
    {
      "cell_type": "code",
      "source": [
        "!mkdir TP1\n",
        "!mkdir TP1/Parte-1\n",
        "!mkdir TP1/Parte-2\n",
        "!mkdir TP1/Parte-3"
      ],
      "metadata": {
        "id": "-O5PBnNxI4hm"
      },
      "execution_count": null,
      "outputs": []
    },
    {
      "cell_type": "markdown",
      "metadata": {
        "id": "J3oA9P00iJGU"
      },
      "source": [
        "# Codigo en C"
      ]
    },
    {
      "cell_type": "markdown",
      "metadata": {
        "id": "2BkRaaifqBI9"
      },
      "source": [
        "##Parte 1"
      ]
    },
    {
      "cell_type": "markdown",
      "metadata": {
        "id": "eKMPSCyAmJVx"
      },
      "source": [
        "#### Crear el archivo"
      ]
    },
    {
      "cell_type": "code",
      "execution_count": null,
      "metadata": {
        "colab": {
          "base_uri": "https://localhost:8080/"
        },
        "id": "AMsY4KQOg96R",
        "outputId": "a79120db-0f19-4e2c-b32d-070b3faec1e1"
      },
      "outputs": [
        {
          "output_type": "stream",
          "name": "stdout",
          "text": [
            "Writing TP1/Parte-1/tp1_p1_c++.cpp\n"
          ]
        }
      ],
      "source": [
        "%%writefile TP1/Parte-1/tp1_p1_c++.cpp\n",
        "#include <iostream>\n",
        "#include <unistd.h>\n",
        "#include <stdlib.h>\n",
        "#include <string.h>\n",
        "#include <sys/wait.h>\n",
        "#include <sys/types.h>\n",
        "#include <map>\n",
        "#include <vector>\n",
        "\n",
        "#define SLEEP_TIME 20\n",
        "\n",
        "using namespace std;\n",
        "\n",
        "struct ProcesoInfo\n",
        "{\n",
        "    char proc;\n",
        "    pid_t pid;\n",
        "    pid_t ppid;\n",
        "};\n",
        "\n",
        "void imprimir_info(char proc)\n",
        "{\n",
        "    ProcesoInfo p = {proc, getpid(), getppid()};\n",
        "    cout << \"Proceso: \" << p.proc << \", PID: \" << p.pid << \", PPID: \" << p.ppid << endl;\n",
        "}\n",
        "\n",
        "void imprimir_error(char proc)\n",
        "{\n",
        "    cerr << \"Error al crear proceso \" << proc << endl;\n",
        "    exit(EXIT_FAILURE);\n",
        "}\n",
        "\n",
        "void crear_arbol(const std::pair<const char, std::vector<char>> &p, std::map<char, std::vector<char>> &procesoRelaciones)\n",
        "{\n",
        "    char padre = p.first;\n",
        "    imprimir_info(padre);\n",
        "\n",
        "    for (auto const &hijo : p.second)\n",
        "    {\n",
        "        if (procesoRelaciones.find(hijo) != procesoRelaciones.end())\n",
        "        {\n",
        "            // hijo que es padre\n",
        "            pid_t pid_padre = fork();\n",
        "            if (pid_padre < 0)\n",
        "                imprimir_error(padre);\n",
        "            else if (pid_padre == 0)\n",
        "            {\n",
        "                crear_arbol(*procesoRelaciones.find(hijo), procesoRelaciones);\n",
        "                wait(NULL);\n",
        "                sleep(SLEEP_TIME);\n",
        "                exit(EXIT_SUCCESS);\n",
        "            }\n",
        "        } else\n",
        "        {\n",
        "            // hijo que es hoja\n",
        "            pid_t pid_hoja = fork();\n",
        "            if (pid_hoja < 0)\n",
        "                imprimir_error(hijo);\n",
        "            else if (pid_hoja == 0)\n",
        "            {\n",
        "                imprimir_info(hijo);\n",
        "                sleep(SLEEP_TIME);\n",
        "                exit(EXIT_SUCCESS);\n",
        "            }\n",
        "        }\n",
        "    }\n",
        "}\n",
        "\n",
        "int main(int argc, char *argv[])\n",
        "{\n",
        "    if (argc == 2 && (strcmp(argv[1], \"-h\") == 0 || strcmp(argv[1], \"--help\") == 0))\n",
        "    {\n",
        "        cout << \"Este proceso crea un árbol de procesos\" << endl;\n",
        "        return EXIT_SUCCESS;\n",
        "    }\n",
        "\n",
        "    char raiz = 'A';\n",
        "    map<char, vector<char>> procesoRelaciones =\n",
        "    {\n",
        "        {'A', {'B', 'C', 'D'}},\n",
        "        {'B', {'E', 'F'}},\n",
        "        {'F', {'H', 'I'}},\n",
        "        {'I', {'J'}},\n",
        "        {'D', {'G'}}\n",
        "    };\n",
        "\n",
        "    crear_arbol(*procesoRelaciones.find(raiz), procesoRelaciones);\n",
        "\n",
        "    while (wait(NULL) > 0);\n",
        "\n",
        "    return EXIT_SUCCESS;\n",
        "}\n",
        "\n"
      ]
    },
    {
      "cell_type": "markdown",
      "metadata": {
        "id": "gf011D2amQgy"
      },
      "source": [
        "Ver si se creo"
      ]
    },
    {
      "cell_type": "code",
      "execution_count": null,
      "metadata": {
        "colab": {
          "base_uri": "https://localhost:8080/"
        },
        "id": "LvIBRqlUim5U",
        "outputId": "2b926d93-1864-452d-865c-3c12fd06e8fd"
      },
      "outputs": [
        {
          "output_type": "stream",
          "name": "stdout",
          "text": [
            "-rw-r--r-- 1 root root 2166 Apr 12 21:46 tp1_p1_c++.cpp\n"
          ]
        }
      ],
      "source": [
        "!ls -laR | grep tp1_p1_c++.cpp"
      ]
    },
    {
      "cell_type": "markdown",
      "metadata": {
        "id": "tKXmIIB8mVmG"
      },
      "source": [
        "#### Compilacion"
      ]
    },
    {
      "cell_type": "code",
      "execution_count": null,
      "metadata": {
        "id": "MJO3SK8OinjE"
      },
      "outputs": [],
      "source": [
        "!g++ -o tp1P1.bin TP1/Parte-1/tp1_p1_c++.cpp"
      ]
    },
    {
      "cell_type": "markdown",
      "metadata": {
        "id": "4uK9cHE5ml-_"
      },
      "source": [
        "#### Ejecucion en background"
      ]
    },
    {
      "cell_type": "markdown",
      "metadata": {
        "id": "rjSd6TU9pmoX"
      },
      "source": [
        "Opcional: Help"
      ]
    },
    {
      "cell_type": "code",
      "execution_count": null,
      "metadata": {
        "colab": {
          "base_uri": "https://localhost:8080/"
        },
        "id": "eB-p6-SzoP7l",
        "outputId": "ab3adaa7-fbef-40b2-f0ae-63629a551478"
      },
      "outputs": [
        {
          "output_type": "stream",
          "name": "stdout",
          "text": [
            "Este proceso crea un árbol de procesos\n"
          ]
        }
      ],
      "source": [
        "!./tp1P1.bin -h"
      ]
    },
    {
      "cell_type": "code",
      "execution_count": null,
      "metadata": {
        "id": "5yLKaoi5it3W"
      },
      "outputs": [],
      "source": [
        "!nohup ./tp1P1.bin 1>salidaC 2>/dev/null &"
      ]
    },
    {
      "cell_type": "markdown",
      "metadata": {
        "id": "Qyc4D-A0mrRq"
      },
      "source": [
        "#### Ver arbol de procesos"
      ]
    },
    {
      "cell_type": "code",
      "execution_count": null,
      "metadata": {
        "colab": {
          "base_uri": "https://localhost:8080/"
        },
        "id": "Q1ITdA1oiyh6",
        "outputId": "f29716fe-7937-44c9-e526-3aef7c8ee7e2"
      },
      "outputs": [
        {
          "output_type": "stream",
          "name": "stdout",
          "text": [
            "root         452       1  0 21:46 ?        00:00:00 ./tp1P1.bin\n",
            "root         453     452  0 21:46 ?        00:00:00 ./tp1P1.bin\n",
            "root         454     452  0 21:46 ?        00:00:00 ./tp1P1.bin\n",
            "root         455     452  0 21:46 ?        00:00:00 ./tp1P1.bin\n",
            "root         456     453  0 21:46 ?        00:00:00 ./tp1P1.bin\n",
            "root         457     453  0 21:46 ?        00:00:00 ./tp1P1.bin\n",
            "root         458     455  0 21:46 ?        00:00:00 ./tp1P1.bin\n",
            "root         459     457  0 21:46 ?        00:00:00 ./tp1P1.bin\n",
            "root         460     457  0 21:46 ?        00:00:00 ./tp1P1.bin\n",
            "root         461     460  0 21:46 ?        00:00:00 ./tp1P1.bin\n",
            "root         478     225  0 21:46 ?        00:00:00 /bin/bash -c ps -ef | grep tp1P1.bin\n",
            "root         480     478  0 21:46 ?        00:00:00 grep tp1P1.bin\n"
          ]
        }
      ],
      "source": [
        "!ps -ef | grep tp1P1.bin"
      ]
    },
    {
      "cell_type": "markdown",
      "metadata": {
        "id": "LGbfKCWgnXCq"
      },
      "source": [
        "Cambie el ID del proceso que solo diga ./tp1P1.bin"
      ]
    },
    {
      "cell_type": "code",
      "execution_count": null,
      "metadata": {
        "colab": {
          "base_uri": "https://localhost:8080/"
        },
        "id": "C12wEUc3i3ac",
        "outputId": "368316a7-4cd6-437f-d38a-9cff227ee907"
      },
      "outputs": [
        {
          "output_type": "stream",
          "name": "stdout",
          "text": [
            "tp1P1.bin─┬─tp1P1.bin─┬─tp1P1.bin\n",
            "          │           └─tp1P1.bin─┬─tp1P1.bin\n",
            "          │                       └─tp1P1.bin───tp1P1.bin\n",
            "          ├─tp1P1.bin\n",
            "          └─tp1P1.bin───tp1P1.bin\n"
          ]
        }
      ],
      "source": [
        "!pstree 452"
      ]
    },
    {
      "cell_type": "markdown",
      "metadata": {
        "id": "ls9TM4VHnMsQ"
      },
      "source": [
        "**Salida del programa**"
      ]
    },
    {
      "cell_type": "code",
      "execution_count": null,
      "metadata": {
        "colab": {
          "base_uri": "https://localhost:8080/"
        },
        "id": "BZEeuw-Gm_HA",
        "outputId": "4f206014-13d7-485f-9da4-80d2e1f19310"
      },
      "outputs": [
        {
          "output_type": "stream",
          "name": "stdout",
          "text": [
            "Proceso: A, PID: 452, PPID: 1\n",
            "Proceso: B, PID: 453, PPID: 452\n",
            "Proceso: D, PID: 455, PPID: 452\n",
            "Proceso: F, PID: 457, PPID: 453\n",
            "Proceso: C, PID: 454, PPID: 452\n",
            "Proceso: G, PID: 458, PPID: 455\n",
            "Proceso: H, PID: 459, PPID: 457\n",
            "Proceso: E, PID: 456, PPID: 453\n",
            "Proceso: I, PID: 460, PPID: 457\n",
            "Proceso: J, PID: 461, PPID: 460\n"
          ]
        }
      ],
      "source": [
        "!cat salidaC"
      ]
    },
    {
      "cell_type": "markdown",
      "metadata": {
        "id": "b499MTwelxWA"
      },
      "source": [
        "**Matar al proceso de ser necesario**"
      ]
    },
    {
      "cell_type": "code",
      "execution_count": null,
      "metadata": {
        "id": "qF_XbdlFlwu3"
      },
      "outputs": [],
      "source": [
        "!kill 22929"
      ]
    },
    {
      "cell_type": "markdown",
      "metadata": {
        "id": "OV7p6RVuO3KQ"
      },
      "source": [
        "# Codigo en Rust\n",
        "\n",
        "\n"
      ]
    },
    {
      "cell_type": "code",
      "execution_count": null,
      "metadata": {
        "id": "MhDNRsZrR1GD",
        "colab": {
          "base_uri": "https://localhost:8080/"
        },
        "outputId": "11435a0c-d97f-4c76-e9a6-15d052e891a9"
      },
      "outputs": [
        {
          "output_type": "stream",
          "name": "stdout",
          "text": [
            "Drive already mounted at /content/drive; to attempt to forcibly remount, call drive.mount(\"/content/drive\", force_remount=True).\n"
          ]
        }
      ],
      "source": [
        "from google.colab import drive\n",
        "drive.mount('/content/drive')"
      ]
    },
    {
      "cell_type": "markdown",
      "metadata": {
        "id": "TtKBSsXWP7QD"
      },
      "source": [
        "## Parte 1"
      ]
    },
    {
      "cell_type": "markdown",
      "source": [
        "### Dependencias\n",
        "Instalamos el compilador de rust, el administrador de proyectos cargo, y la libreria a utilizar"
      ],
      "metadata": {
        "id": "tKo33l0omeug"
      }
    },
    {
      "cell_type": "code",
      "execution_count": null,
      "metadata": {
        "colab": {
          "base_uri": "https://localhost:8080/"
        },
        "id": "ZJ9N2lNN00I9",
        "outputId": "85788486-1f4a-497c-bec3-910932b86852"
      },
      "outputs": [
        {
          "output_type": "stream",
          "name": "stdout",
          "text": [
            "Reading package lists... Done\n",
            "Building dependency tree... Done\n",
            "Reading state information... Done\n",
            "The following additional packages will be installed:\n",
            "  libstd-rust-1.75 libstd-rust-dev\n",
            "Suggested packages:\n",
            "  cargo llvm-17 lld-17 clang-17\n",
            "The following NEW packages will be installed:\n",
            "  libstd-rust-1.75 libstd-rust-dev rustc\n",
            "0 upgraded, 3 newly installed, 0 to remove and 45 not upgraded.\n",
            "Need to get 91.4 MB of archives.\n",
            "After this operation, 369 MB of additional disk space will be used.\n",
            "Get:1 http://archive.ubuntu.com/ubuntu jammy-updates/main amd64 libstd-rust-1.75 amd64 1.75.0+dfsg0ubuntu1~bpo0-0ubuntu0.22.04 [46.3 MB]\n",
            "Get:2 http://archive.ubuntu.com/ubuntu jammy-updates/main amd64 libstd-rust-dev amd64 1.75.0+dfsg0ubuntu1~bpo0-0ubuntu0.22.04 [41.6 MB]\n",
            "Get:3 http://archive.ubuntu.com/ubuntu jammy-updates/main amd64 rustc amd64 1.75.0+dfsg0ubuntu1~bpo0-0ubuntu0.22.04 [3,404 kB]\n",
            "Fetched 91.4 MB in 2s (58.4 MB/s)\n",
            "debconf: unable to initialize frontend: Dialog\n",
            "debconf: (No usable dialog-like program is installed, so the dialog based frontend cannot be used. at /usr/share/perl5/Debconf/FrontEnd/Dialog.pm line 78, <> line 3.)\n",
            "debconf: falling back to frontend: Readline\n",
            "debconf: unable to initialize frontend: Readline\n",
            "debconf: (This frontend requires a controlling tty.)\n",
            "debconf: falling back to frontend: Teletype\n",
            "dpkg-preconfigure: unable to re-open stdin: \n",
            "Selecting previously unselected package libstd-rust-1.75:amd64.\n",
            "(Reading database ... 121752 files and directories currently installed.)\n",
            "Preparing to unpack .../libstd-rust-1.75_1.75.0+dfsg0ubuntu1~bpo0-0ubuntu0.22.04_amd64.deb ...\n",
            "Unpacking libstd-rust-1.75:amd64 (1.75.0+dfsg0ubuntu1~bpo0-0ubuntu0.22.04) ...\n",
            "Selecting previously unselected package libstd-rust-dev:amd64.\n",
            "Preparing to unpack .../libstd-rust-dev_1.75.0+dfsg0ubuntu1~bpo0-0ubuntu0.22.04_amd64.deb ...\n",
            "Unpacking libstd-rust-dev:amd64 (1.75.0+dfsg0ubuntu1~bpo0-0ubuntu0.22.04) ...\n",
            "Selecting previously unselected package rustc.\n",
            "Preparing to unpack .../rustc_1.75.0+dfsg0ubuntu1~bpo0-0ubuntu0.22.04_amd64.deb ...\n",
            "Unpacking rustc (1.75.0+dfsg0ubuntu1~bpo0-0ubuntu0.22.04) ...\n",
            "Setting up libstd-rust-1.75:amd64 (1.75.0+dfsg0ubuntu1~bpo0-0ubuntu0.22.04) ...\n",
            "Setting up libstd-rust-dev:amd64 (1.75.0+dfsg0ubuntu1~bpo0-0ubuntu0.22.04) ...\n",
            "Setting up rustc (1.75.0+dfsg0ubuntu1~bpo0-0ubuntu0.22.04) ...\n",
            "Processing triggers for man-db (2.10.2-1) ...\n",
            "Processing triggers for libc-bin (2.35-0ubuntu3.4) ...\n",
            "/sbin/ldconfig.real: /usr/local/lib/libtbbmalloc.so.2 is not a symbolic link\n",
            "\n",
            "/sbin/ldconfig.real: /usr/local/lib/libtbbbind_2_0.so.3 is not a symbolic link\n",
            "\n",
            "/sbin/ldconfig.real: /usr/local/lib/libtbb.so.12 is not a symbolic link\n",
            "\n",
            "/sbin/ldconfig.real: /usr/local/lib/libtbbmalloc_proxy.so.2 is not a symbolic link\n",
            "\n",
            "/sbin/ldconfig.real: /usr/local/lib/libtbbbind_2_5.so.3 is not a symbolic link\n",
            "\n",
            "/sbin/ldconfig.real: /usr/local/lib/libtbbbind.so.3 is not a symbolic link\n",
            "\n"
          ]
        }
      ],
      "source": [
        "!sudo apt-get install rustc\n"
      ]
    },
    {
      "cell_type": "code",
      "execution_count": null,
      "metadata": {
        "colab": {
          "base_uri": "https://localhost:8080/"
        },
        "id": "xoCGpzh-2qk-",
        "outputId": "67e6415f-9285-4db0-e5bf-f83c3f7daccc"
      },
      "outputs": [
        {
          "output_type": "stream",
          "name": "stdout",
          "text": [
            "Reading package lists... Done\n",
            "Building dependency tree... Done\n",
            "Reading state information... Done\n",
            "Suggested packages:\n",
            "  cargo-doc\n",
            "The following NEW packages will be installed:\n",
            "  cargo\n",
            "0 upgraded, 1 newly installed, 0 to remove and 45 not upgraded.\n",
            "Need to get 6,700 kB of archives.\n",
            "After this operation, 23.3 MB of additional disk space will be used.\n",
            "Get:1 http://archive.ubuntu.com/ubuntu jammy-updates/universe amd64 cargo amd64 1.75.0+dfsg0ubuntu1~bpo0-0ubuntu0.22.04 [6,700 kB]\n",
            "Fetched 6,700 kB in 0s (35.1 MB/s)\n",
            "debconf: unable to initialize frontend: Dialog\n",
            "debconf: (No usable dialog-like program is installed, so the dialog based frontend cannot be used. at /usr/share/perl5/Debconf/FrontEnd/Dialog.pm line 78, <> line 1.)\n",
            "debconf: falling back to frontend: Readline\n",
            "debconf: unable to initialize frontend: Readline\n",
            "debconf: (This frontend requires a controlling tty.)\n",
            "debconf: falling back to frontend: Teletype\n",
            "dpkg-preconfigure: unable to re-open stdin: \n",
            "Selecting previously unselected package cargo.\n",
            "(Reading database ... 121827 files and directories currently installed.)\n",
            "Preparing to unpack .../cargo_1.75.0+dfsg0ubuntu1~bpo0-0ubuntu0.22.04_amd64.deb ...\n",
            "Unpacking cargo (1.75.0+dfsg0ubuntu1~bpo0-0ubuntu0.22.04) ...\n",
            "Setting up cargo (1.75.0+dfsg0ubuntu1~bpo0-0ubuntu0.22.04) ...\n",
            "Processing triggers for man-db (2.10.2-1) ...\n"
          ]
        }
      ],
      "source": [
        "!sudo apt-get install cargo"
      ]
    },
    {
      "cell_type": "code",
      "execution_count": null,
      "metadata": {
        "colab": {
          "base_uri": "https://localhost:8080/"
        },
        "id": "qR0wLh2m2-Xh",
        "outputId": "0728f6b0-b90b-4fb3-a2e3-01462bf3234a"
      },
      "outputs": [
        {
          "output_type": "stream",
          "name": "stdout",
          "text": [
            "cargo 1.75.0\n",
            "rustc 1.75.0 (82e1608df 2023-12-21) (built from a source tarball)\n"
          ]
        }
      ],
      "source": [
        "!cargo --version && rustc --version"
      ]
    },
    {
      "cell_type": "markdown",
      "metadata": {
        "id": "xQBMxxPWUQSS"
      },
      "source": [
        "### Crear el archivo"
      ]
    },
    {
      "cell_type": "markdown",
      "metadata": {
        "id": "7eDfVTYJhjCS"
      },
      "source": [
        "creamos un nuevo proyecto en donde se va a ejecutar el codigo"
      ]
    },
    {
      "cell_type": "code",
      "execution_count": null,
      "metadata": {
        "colab": {
          "base_uri": "https://localhost:8080/"
        },
        "id": "SXmN_loOS2kT",
        "outputId": "a53530c1-2e74-4670-f15f-791a07351f9b"
      },
      "outputs": [
        {
          "output_type": "stream",
          "name": "stdout",
          "text": [
            "\u001b[1m\u001b[32m     Created\u001b[0m binary (application) `/content/TP1/Parte-1/ej1_tp1_rust` package\n"
          ]
        }
      ],
      "source": [
        "!cargo new /content/TP1/Parte-1/ej1_tp1_rust"
      ]
    },
    {
      "cell_type": "markdown",
      "source": [
        "agregamos la libreria externa necesaria para el código"
      ],
      "metadata": {
        "id": "ITQ4xDlpF2OR"
      }
    },
    {
      "cell_type": "code",
      "execution_count": null,
      "metadata": {
        "colab": {
          "base_uri": "https://localhost:8080/"
        },
        "id": "3nPFbCh1R9Gh",
        "outputId": "169abd3a-186b-4ca1-cd02-780a62106b7c"
      },
      "outputs": [
        {
          "output_type": "stream",
          "name": "stdout",
          "text": [
            "\u001b[1m\u001b[32m    Updating\u001b[0m crates.io index\n",
            "\u001b[1m\u001b[32m      Adding\u001b[0m nix v0.28.0 to dependencies.\n",
            "             Features:\n",
            "             \u001b[1m\u001b[32m+\u001b[0m process\n",
            "             34 deactivated features\n",
            "\u001b[1m\u001b[32m    Updating\u001b[0m crates.io index\n"
          ]
        }
      ],
      "source": [
        "!cd /content/TP1/Parte-1/ej1_tp1_rust && cargo add nix --features process"
      ]
    },
    {
      "cell_type": "markdown",
      "metadata": {
        "id": "mCt_0jm5hgpT"
      },
      "source": [
        "creamos el archivo"
      ]
    },
    {
      "cell_type": "code",
      "execution_count": null,
      "metadata": {
        "colab": {
          "base_uri": "https://localhost:8080/"
        },
        "id": "8ZeLH19zUcQ9",
        "outputId": "d20b4796-aed0-4961-b2de-c6a9e26ad188"
      },
      "outputs": [
        {
          "output_type": "stream",
          "name": "stdout",
          "text": [
            "Overwriting /content/TP1/Parte-1/ej1_tp1_rust/src/main.rs\n"
          ]
        }
      ],
      "source": [
        "%%writefile /content/TP1/Parte-1/ej1_tp1_rust/src/main.rs\n",
        "use nix::sys::wait::{wait};\n",
        "use nix::unistd::{fork, ForkResult};\n",
        "use std::collections::HashMap;\n",
        "use std::io::{Error, ErrorKind};\n",
        "use std::process::id;\n",
        "use std::{os::unix::process::parent_id, process::Command};\n",
        "\n",
        "fn main()\n",
        "{\n",
        "    let process_tree: HashMap<char, Vec<char>> = HashMap::from([\n",
        "        ('A', vec!['B', 'C', 'D']),\n",
        "        ('B', vec!['E', 'F']),\n",
        "        ('D', vec!['G']),\n",
        "        ('F', vec!['H', 'I']),\n",
        "        ('I', vec!['J']),\n",
        "    ]);\n",
        "\n",
        "    let seconds = 10;\n",
        "\n",
        "    if let Err(e) = create_fork(&process_tree, &'A', &seconds)\n",
        "    {\n",
        "        eprintln!(\"Error: {}\", e);\n",
        "        std::process::exit(1);\n",
        "    }\n",
        "}\n",
        "\n",
        "fn create_fork(\n",
        "    process_tree: &HashMap<char, Vec<char>>,\n",
        "    initial_node: &char,\n",
        "    seconds: &u32,\n",
        ") -> Result<(), Error>\n",
        "{\n",
        "    println!(\"Node {} id {} pid {}\", initial_node, id(), parent_id());\n",
        "    sleep_seconds(&1);\n",
        "\n",
        "    match process_tree.get(&initial_node)\n",
        "     {\n",
        "        Some(children) =>\n",
        "        {\n",
        "            for &next_child in children\n",
        "            {\n",
        "                match unsafe\n",
        "                {\n",
        "                  fork()\n",
        "                }\n",
        "                {\n",
        "                    Ok(ForkResult::Parent { .. }) => {}\n",
        "                    Ok(ForkResult::Child) =>\n",
        "                    {\n",
        "                        if let Err(e) = create_fork(process_tree, &next_child, seconds)\n",
        "                        {\n",
        "                            eprintln!(\"Error in child node: {}\", e);\n",
        "                            std::process::exit(1)\n",
        "                        }\n",
        "                        std::process::exit(0)\n",
        "                    }\n",
        "                    Err(e) => return Err(Error::new(ErrorKind::Other, format!(\"Error in fork: {}\", e))),\n",
        "                }\n",
        "            }\n",
        "            for _ in 0..children.len()\n",
        "            {\n",
        "                let _ = wait();\n",
        "            }\n",
        "        }\n",
        "        None => sleep_seconds(seconds),\n",
        "    }\n",
        "\n",
        "    println!(\"Ending node: {}\", initial_node);\n",
        "    Ok(())\n",
        "}\n",
        "\n",
        "fn sleep_seconds(seconds: &u32)\n",
        "{\n",
        "    Command::new(\"sleep\")\n",
        "        .arg(&seconds.to_string())\n",
        "        .output()\n",
        "        .expect(\"failure to execute process\");\n",
        "}"
      ]
    },
    {
      "cell_type": "markdown",
      "source": [
        "### Compilacion"
      ],
      "metadata": {
        "id": "OHMRH9wrFvPX"
      }
    },
    {
      "cell_type": "code",
      "source": [
        "!cd /content/TP1/Parte-1/ej1_tp1_rust && cargo build"
      ],
      "metadata": {
        "colab": {
          "base_uri": "https://localhost:8080/"
        },
        "id": "WP_KMd-fACmF",
        "outputId": "835bbc55-97b7-4caa-b9fd-14b8379d8d46"
      },
      "execution_count": null,
      "outputs": [
        {
          "output_type": "stream",
          "name": "stdout",
          "text": [
            "\u001b[1m\u001b[32m Downloading\u001b[0m crates ...\n",
            "\u001b[1m\u001b[32m  Downloaded\u001b[0m bitflags v2.5.0\n",
            "\u001b[1m\u001b[32m  Downloaded\u001b[0m cfg_aliases v0.1.1\n",
            "\u001b[1m\u001b[32m  Downloaded\u001b[0m cfg-if v1.0.0\n",
            "\u001b[1m\u001b[32m  Downloaded\u001b[0m nix v0.28.0\n",
            "\u001b[1m\u001b[32m  Downloaded\u001b[0m libc v0.2.153\n",
            "\u001b[1m\u001b[32m   Compiling\u001b[0m libc v0.2.153\n",
            "\u001b[1m\u001b[32m   Compiling\u001b[0m cfg_aliases v0.1.1\n",
            "\u001b[1m\u001b[32m   Compiling\u001b[0m nix v0.28.0\n",
            "\u001b[1m\u001b[32m   Compiling\u001b[0m cfg-if v1.0.0\n",
            "\u001b[1m\u001b[32m   Compiling\u001b[0m bitflags v2.5.0\n",
            "\u001b[1m\u001b[32m   Compiling\u001b[0m ej1_tp1_rust v0.1.0 (/content/TP1/Parte-1/ej1_tp1_rust)\n",
            "\u001b[1m\u001b[32m    Finished\u001b[0m dev [unoptimized + debuginfo] target(s) in 7.63s\n"
          ]
        }
      ]
    },
    {
      "cell_type": "markdown",
      "source": [
        "### Ejecución en segundo plano"
      ],
      "metadata": {
        "id": "iQj1zk9qFoYs"
      }
    },
    {
      "cell_type": "code",
      "source": [
        "!nohup /content/TP1/Parte-1/ej1_tp1_rust/target/debug/ej1_tp1_rust 1>/content/TP1/Parte-1/salidaRust 2>/dev/null &"
      ],
      "metadata": {
        "id": "OnLHQefpD8JT"
      },
      "execution_count": null,
      "outputs": []
    },
    {
      "cell_type": "markdown",
      "source": [
        "### visualización de arbol de procesos"
      ],
      "metadata": {
        "id": "rHrpWXT4FpMf"
      }
    },
    {
      "cell_type": "code",
      "source": [
        "!pstree -p | grep ej1_tp1_rust"
      ],
      "metadata": {
        "colab": {
          "base_uri": "https://localhost:8080/"
        },
        "id": "oya_D3KFC9Bf",
        "outputId": "63925e31-a4cc-4263-e438-4e4bdfbd301a"
      },
      "execution_count": null,
      "outputs": [
        {
          "output_type": "stream",
          "name": "stdout",
          "text": [
            "docker-init(1)-+-ej1_tp1_rust(2799)-+-ej1_tp1_rust(2805)-+-ej1_tp1_rust(2816)---sleep(2819)\n",
            "               |                    |                    `-ej1_tp1_rust(2817)---sleep(2821)\n",
            "               |                    |-ej1_tp1_rust(2806)---sleep(2820)\n",
            "               |                    `-ej1_tp1_rust(2808)---ej1_tp1_rust(2815)---sleep(2818)\n"
          ]
        }
      ]
    },
    {
      "cell_type": "markdown",
      "source": [
        "visualizacion output"
      ],
      "metadata": {
        "id": "sj9rozG8Frl_"
      }
    },
    {
      "cell_type": "code",
      "source": [
        "!cat /content/TP1/Parte-1/salidaRust"
      ],
      "metadata": {
        "colab": {
          "base_uri": "https://localhost:8080/"
        },
        "id": "1ZJsfjhqE5_k",
        "outputId": "fbaaa804-31a1-44a9-8498-6e313613dec3"
      },
      "execution_count": null,
      "outputs": [
        {
          "output_type": "stream",
          "name": "stdout",
          "text": [
            "Node A id 2799 pid 1\n",
            "Node B id 2805 pid 2799\n",
            "Node D id 2808 pid 2799\n",
            "Node C id 2806 pid 2799\n",
            "Node G id 2815 pid 2808\n",
            "Node E id 2816 pid 2805\n",
            "Node F id 2817 pid 2805\n",
            "Node I id 2831 pid 2817\n",
            "Node H id 2830 pid 2817\n",
            "Node J id 2840 pid 2831\n",
            "Ending node: C\n",
            "Ending node: E\n",
            "Ending node: G\n",
            "Ending node: D\n",
            "Ending node: H\n",
            "Ending node: J\n",
            "Ending node: I\n",
            "Ending node: F\n",
            "Ending node: B\n",
            "Ending node: A\n"
          ]
        }
      ]
    },
    {
      "cell_type": "markdown",
      "metadata": {
        "id": "9Hx7JxYiD_yZ"
      },
      "source": [
        "# Código en JAVA\n",
        "\n",
        "\n"
      ]
    },
    {
      "cell_type": "markdown",
      "metadata": {
        "id": "iXvk_eQnEO-Y"
      },
      "source": [
        "## Parte 1"
      ]
    },
    {
      "cell_type": "markdown",
      "source": [
        "### Creación archivo"
      ],
      "metadata": {
        "id": "ALQkfJt4oIW3"
      }
    },
    {
      "cell_type": "code",
      "source": [
        "%%writefile TP1/Parte-1/tp1_p1_java.java\n",
        "import java.io.IOException;\n",
        "import java.util.ArrayList;\n",
        "import java.util.Map;\n",
        "import java.util.Set;\n",
        "\n",
        "class ProcessTree\n",
        "{\n",
        "  static Map<Character, Set<Character>> processMap = Map.of (\n",
        "      'A', Set.of('B', 'C', 'D'),\n",
        "      'B', Set.of('E', 'F'),\n",
        "      'F', Set.of('H', 'I'),\n",
        "      'I', Set.of('J'),\n",
        "      'D', Set.of('G')\n",
        "  );\n",
        "\n",
        "  static ArrayList<Process> processList = new ArrayList<>();\n",
        "\n",
        "  static final int SLEEP_TIME = 100000;\n",
        "  // Milliseconds\n",
        "\n",
        "  public static void showInfo ( char processName )\n",
        "  {\n",
        "    ProcessHandle me = ProcessHandle.current();\n",
        "    long pid  = me.pid();\n",
        "    long ppid = me.parent().get().pid();\n",
        "    System.out.println( \"Process \" + processName + \", PID: \" + pid\n",
        "        + \", PPID: \" + ppid );\n",
        "  }\n",
        "\n",
        "  public static void createChilds ( char processName ) throws IOException,\n",
        "      InterruptedException\n",
        "  {\n",
        "    if ( processMap.containsKey(processName) )\n",
        "    {\n",
        "      for ( char son : processMap.get(processName) )\n",
        "      {\n",
        "        ProcessBuilder builder = new ProcessBuilder(\"java\",\n",
        "            \"TP1/Parte-1/tp1_p1_java.java\", String.valueOf(son));\n",
        "        builder.inheritIO();\n",
        "        Process process = builder.start();\n",
        "        processList.add(process);\n",
        "      }\n",
        "    }\n",
        "    else\n",
        "    {\n",
        "      Thread.sleep(SLEEP_TIME);\n",
        "    }\n",
        "  }\n",
        "\n",
        "  public static void waitChilds ( ) throws InterruptedException\n",
        "  {\n",
        "    for ( Process p : processList )\n",
        "    {\n",
        "      p.waitFor();\n",
        "    }\n",
        "  }\n",
        "\n",
        "  public static void main ( String[] args ) throws IOException,\n",
        "      InterruptedException\n",
        "  {\n",
        "    char root = 'A';\n",
        "    char process = ( args.length > 0 ) ? args[0].charAt(0) : root;\n",
        "    showInfo(process);\n",
        "    createChilds(process);\n",
        "    waitChilds();\n",
        "  }\n",
        "}"
      ],
      "metadata": {
        "colab": {
          "base_uri": "https://localhost:8080/"
        },
        "id": "rOlXzn2hkXrY",
        "outputId": "1dc41269-194d-4f31-b081-76cec67694c1"
      },
      "execution_count": null,
      "outputs": [
        {
          "output_type": "stream",
          "name": "stdout",
          "text": [
            "Overwriting TP1/Parte-1/tp1_p1_java.java\n"
          ]
        }
      ]
    },
    {
      "cell_type": "markdown",
      "metadata": {
        "id": "IYrte02ZydKR"
      },
      "source": [
        "### Ejecución en segundo plano"
      ]
    },
    {
      "cell_type": "code",
      "execution_count": null,
      "metadata": {
        "id": "it7HYzCk1Tgh"
      },
      "outputs": [],
      "source": [
        "!nohup java TP1/Parte-1/tp1_p1_java.java 1>salidaJava.txt 2>/dev/null &"
      ]
    },
    {
      "cell_type": "markdown",
      "metadata": {
        "id": "lviQRb6Rygzn"
      },
      "source": [
        "### Lista de procesos en ejecución"
      ]
    },
    {
      "cell_type": "code",
      "execution_count": null,
      "metadata": {
        "colab": {
          "base_uri": "https://localhost:8080/"
        },
        "id": "TYD1RYHxt-Rz",
        "outputId": "7c255372-d60e-4c53-c013-67c4dbc44aaa"
      },
      "outputs": [
        {
          "output_type": "stream",
          "name": "stdout",
          "text": [
            "root        4771       1 47 22:01 ?        00:00:02 java TP1/Parte-1/tp1_p1_java.java\n",
            "root        4793    4771 62 22:01 ?        00:00:01 java TP1/Parte-1/tp1_p1_java.java B\n",
            "root        4795    4771 54 22:01 ?        00:00:01 java TP1/Parte-1/tp1_p1_java.java C\n",
            "root        4798    4771 69 22:01 ?        00:00:02 java TP1/Parte-1/tp1_p1_java.java D\n",
            "root        4865     225  0 22:01 ?        00:00:00 /bin/bash -c ps -ef | grep tp1_p1_java.java\n",
            "root        4867    4865  0 22:01 ?        00:00:00 grep tp1_p1_java.java\n"
          ]
        }
      ],
      "source": [
        "!ps -ef | grep tp1_p1_java.java"
      ]
    },
    {
      "cell_type": "markdown",
      "metadata": {
        "id": "IJdNGAg7yuGH"
      },
      "source": [
        "### Árbol de procesos"
      ]
    },
    {
      "cell_type": "code",
      "execution_count": null,
      "metadata": {
        "id": "qCrQ_MFa1ly6",
        "colab": {
          "base_uri": "https://localhost:8080/"
        },
        "outputId": "855fa1bd-7fbe-46e0-cbf6-0c45c21feb1d"
      },
      "outputs": [
        {
          "output_type": "stream",
          "name": "stdout",
          "text": [
            "java(4771)─┬─java(4793)─┬─java(4888)─┬─java(4948)───java(5004)\n",
            "           │            │            └─java(4951)\n",
            "           │            └─java(4891)\n",
            "           ├─java(4795)\n",
            "           └─java(4798)───java(4872)\n"
          ]
        }
      ],
      "source": [
        "!pstree -pT 4771"
      ]
    },
    {
      "cell_type": "markdown",
      "metadata": {
        "id": "xY30ef6IzGTA"
      },
      "source": [
        "### Salida del programa"
      ]
    },
    {
      "cell_type": "code",
      "execution_count": null,
      "metadata": {
        "id": "FDNSnGLSw5ga",
        "colab": {
          "base_uri": "https://localhost:8080/"
        },
        "outputId": "5bb81924-4bb9-4994-fc73-4e6e0006252d"
      },
      "outputs": [
        {
          "output_type": "stream",
          "name": "stdout",
          "text": [
            "Process A, PID: 4771, PPID: 1\n",
            "Process D, PID: 4798, PPID: 4771\n",
            "Process B, PID: 4793, PPID: 4771\n",
            "Process C, PID: 4795, PPID: 4771\n",
            "Process G, PID: 4872, PPID: 4798\n",
            "Process F, PID: 4888, PPID: 4793\n",
            "Process E, PID: 4891, PPID: 4793\n",
            "Process I, PID: 4948, PPID: 4888\n",
            "Process H, PID: 4951, PPID: 4888\n",
            "Process J, PID: 5004, PPID: 4948\n"
          ]
        }
      ],
      "source": [
        "!cat salidaJava.txt"
      ]
    },
    {
      "cell_type": "markdown",
      "metadata": {
        "id": "-DsNzyXZJMuo"
      },
      "source": [
        "# Código en GO\n"
      ]
    },
    {
      "cell_type": "markdown",
      "metadata": {
        "id": "2Iz1Ic3SJyOM"
      },
      "source": [
        "## Instalar paquete Goland"
      ]
    },
    {
      "cell_type": "code",
      "execution_count": null,
      "metadata": {
        "colab": {
          "base_uri": "https://localhost:8080/"
        },
        "id": "OyO9RXCNJ465",
        "outputId": "9997d97e-ace6-4836-95ef-8d0613388c02"
      },
      "outputs": [
        {
          "output_type": "stream",
          "name": "stdout",
          "text": [
            "Reading package lists... Done\n",
            "Building dependency tree... Done\n",
            "Reading state information... Done\n",
            "The following additional packages will be installed:\n",
            "  golang-1.18-go golang-1.18-src golang-src\n",
            "Suggested packages:\n",
            "  bzr | brz mercurial subversion\n",
            "The following NEW packages will be installed:\n",
            "  golang-1.18-go golang-1.18-src golang-go golang-src\n",
            "0 upgraded, 4 newly installed, 0 to remove and 45 not upgraded.\n",
            "Need to get 82.3 MB of archives.\n",
            "After this operation, 436 MB of additional disk space will be used.\n",
            "Get:1 http://archive.ubuntu.com/ubuntu jammy-updates/main amd64 golang-1.18-src all 1.18.1-1ubuntu1.1 [16.2 MB]\n",
            "Get:2 http://archive.ubuntu.com/ubuntu jammy-updates/main amd64 golang-1.18-go amd64 1.18.1-1ubuntu1.1 [66.0 MB]\n",
            "Get:3 http://archive.ubuntu.com/ubuntu jammy/main amd64 golang-src all 2:1.18~0ubuntu2 [4,438 B]\n",
            "Get:4 http://archive.ubuntu.com/ubuntu jammy/main amd64 golang-go amd64 2:1.18~0ubuntu2 [41.8 kB]\n",
            "Fetched 82.3 MB in 3s (30.1 MB/s)\n",
            "Selecting previously unselected package golang-1.18-src.\n",
            "(Reading database ... 121752 files and directories currently installed.)\n",
            "Preparing to unpack .../golang-1.18-src_1.18.1-1ubuntu1.1_all.deb ...\n",
            "Unpacking golang-1.18-src (1.18.1-1ubuntu1.1) ...\n",
            "Selecting previously unselected package golang-1.18-go.\n",
            "Preparing to unpack .../golang-1.18-go_1.18.1-1ubuntu1.1_amd64.deb ...\n",
            "Unpacking golang-1.18-go (1.18.1-1ubuntu1.1) ...\n",
            "Selecting previously unselected package golang-src.\n",
            "Preparing to unpack .../golang-src_2%3a1.18~0ubuntu2_all.deb ...\n",
            "Unpacking golang-src (2:1.18~0ubuntu2) ...\n",
            "Selecting previously unselected package golang-go:amd64.\n",
            "Preparing to unpack .../golang-go_2%3a1.18~0ubuntu2_amd64.deb ...\n",
            "Unpacking golang-go:amd64 (2:1.18~0ubuntu2) ...\n",
            "Setting up golang-1.18-src (1.18.1-1ubuntu1.1) ...\n",
            "Setting up golang-src (2:1.18~0ubuntu2) ...\n",
            "Setting up golang-1.18-go (1.18.1-1ubuntu1.1) ...\n",
            "Setting up golang-go:amd64 (2:1.18~0ubuntu2) ...\n",
            "Processing triggers for man-db (2.10.2-1) ...\n"
          ]
        }
      ],
      "source": [
        "!apt-get install -y golang-go"
      ]
    },
    {
      "cell_type": "markdown",
      "source": [
        "## Parte 1"
      ],
      "metadata": {
        "id": "6qlWbS7fnxfX"
      }
    },
    {
      "cell_type": "markdown",
      "source": [
        "### Crear Archivo"
      ],
      "metadata": {
        "id": "k-SVrwaKnzo0"
      }
    },
    {
      "cell_type": "code",
      "execution_count": null,
      "metadata": {
        "colab": {
          "base_uri": "https://localhost:8080/"
        },
        "id": "sg0W1J1HJeaA",
        "outputId": "ef5a0e0e-7c9f-4a88-cc0f-775c1a2652dc"
      },
      "outputs": [
        {
          "output_type": "stream",
          "name": "stdout",
          "text": [
            "Writing TP1/Parte-1/Parte1_go.go\n"
          ]
        }
      ],
      "source": [
        "%%writefile TP1/Parte-1/Parte1_go.go\n",
        "package main\n",
        "\n",
        "import (\n",
        "\t\"fmt\"\n",
        "\t\"os\"\n",
        "\t\"os/exec\"\n",
        "\t\"sync\"\n",
        "\t\"time\"\n",
        ")\n",
        "\n",
        "const RAIZ = 'A'\n",
        "const ARGUMENTOS = 1\n",
        "const CHILDLESS = 0\n",
        "const SECONDS_WAIT = 10\n",
        "\n",
        "type ProcessPrinter struct {\n",
        "\tmu sync.Mutex\n",
        "}\n",
        "\n",
        "var myDictionary = map[rune][]rune{\n",
        "\t'A': {'B', 'C', 'D'},\n",
        "\t'B': {'E', 'F'},\n",
        "\t'C': {},\n",
        "\t'D': {'G'},\n",
        "\t'E': {},\n",
        "\t'F': {'H', 'I'},\n",
        "\t'G': {},\n",
        "\t'H': {},\n",
        "\t'I': {'J'},\n",
        "\t'J': {},\n",
        "}\n",
        "\n",
        "var printer = ProcessPrinter{}\n",
        "\n",
        "func main() {\n",
        "\tvar wg sync.WaitGroup\n",
        "\tvar process rune\n",
        "\n",
        "\tif len(os.Args) == ARGUMENTOS {\n",
        "\t\tprocess = rune(RAIZ)\n",
        "\t} else {\n",
        "\t\tprocess = rune(os.Args[1][0])\n",
        "\t}\n",
        "\n",
        "\tprinter.showProcess(string(process))\n",
        "\tchildren, ok := myDictionary[process]\n",
        "\n",
        "\tif !ok {\n",
        "\t\tfmt.Println(\"Clave no encontrada en el diccionario\")\n",
        "\t\treturn\n",
        "\t}\n",
        "\n",
        "\tif len(children) > CHILDLESS {\n",
        "\t\twg.Add(len(children))\n",
        "\t\tfor _, letter := range children {\n",
        "\t\t   createChildProcess(letter, &wg)\n",
        "\t\t}\n",
        "\t}\n",
        "\ttime.Sleep(SECONDS_WAIT * time.Second)\n",
        "\twg.Wait()\n",
        "}\n",
        "func createChildProcess(name rune, wg *sync.WaitGroup) {\n",
        "\tdefer wg.Done()\n",
        "\n",
        "\tcmd := exec.Command(os.Args[0], string(name))\n",
        "\tcmd.Stdout = os.Stdout\n",
        "\tcmd.Stderr = os.Stderr\n",
        "\n",
        "\tif err := cmd.Start(); err != nil {\n",
        "\t\tfmt.Println(\"Error al ejecutar el proceso hijo:\", err)\n",
        "\t}\n",
        "}\n",
        "func (pp *ProcessPrinter) showProcess(process string) {\n",
        "\tpp.mu.Lock()\n",
        "\tdefer pp.mu.Unlock()\n",
        "\tfmt.Println(\"Proceso\", process, \"pid:\", os.Getpid(), \"ppid:\", os.Getppid())\n",
        "}"
      ]
    },
    {
      "cell_type": "markdown",
      "metadata": {
        "id": "ISNFeRtdKTxt"
      },
      "source": [
        "### Compilacion\n",
        "\n"
      ]
    },
    {
      "cell_type": "code",
      "execution_count": null,
      "metadata": {
        "colab": {
          "base_uri": "https://localhost:8080/"
        },
        "id": "2vJv99dHKaSe",
        "outputId": "f6c82660-f96d-4fab-ad90-eb263b38bfb2"
      },
      "outputs": [
        {
          "name": "stdout",
          "output_type": "stream",
          "text": [
            "Proceso A pid: 10183 ppid: 10144\n",
            "Proceso B pid: 10187 ppid: 10183\n",
            "Proceso D pid: 10188 ppid: 10183\n",
            "Proceso C pid: 10198 ppid: 10183\n",
            "Proceso F pid: 10199 ppid: 10187\n",
            "Proceso E pid: 10200 ppid: 10187\n",
            "Proceso G pid: 10208 ppid: 10188\n",
            "Proceso I pid: 10212 ppid: 10199\n",
            "Proceso H pid: 10213 ppid: 10199\n",
            "Proceso J pid: 10226 ppid: 10212\n"
          ]
        }
      ],
      "source": [
        "!go run TP1/Parte-1/Parte1_go.go"
      ]
    },
    {
      "cell_type": "markdown",
      "metadata": {
        "id": "XPTPeBOgApcO"
      },
      "source": [
        "### Ejecución en segundo plano"
      ]
    },
    {
      "cell_type": "code",
      "execution_count": null,
      "metadata": {
        "id": "n1bW2m4PAwas"
      },
      "outputs": [],
      "source": [
        "!nohup go run TP1/Parte-1/Parte1_go.go 1>salidaGo.txt 2>/dev/null &"
      ]
    },
    {
      "cell_type": "markdown",
      "metadata": {
        "id": "8_iB9Js4BSGv"
      },
      "source": [
        "### Ver arbol de procesos"
      ]
    },
    {
      "cell_type": "code",
      "execution_count": null,
      "metadata": {
        "colab": {
          "base_uri": "https://localhost:8080/"
        },
        "id": "mFD2Lcu1Be8m",
        "outputId": "bb51e295-eb40-4d7e-a6b0-66990f926f55"
      },
      "outputs": [
        {
          "output_type": "stream",
          "name": "stdout",
          "text": [
            "   1217 ?        S      0:00  |       \\_ /bin/bash -c ps -axf | grep Parte1_go\n",
            "   1219 ?        S      0:00  |           \\_ grep Parte1_go\n",
            "   1139 ?        Sl     0:00 go run TP1/Parte-1/Parte1_go.go\n",
            "   1169 ?        Sl     0:00  \\_ /tmp/go-build1789597745/b001/exe/Parte1_go\n",
            "   1174 ?        Sl     0:00      \\_ /tmp/go-build1789597745/b001/exe/Parte1_go B\n",
            "   1181 ?        Sl     0:00      |   \\_ /tmp/go-build1789597745/b001/exe/Parte1_go E\n",
            "   1188 ?        Sl     0:00      |   \\_ /tmp/go-build1789597745/b001/exe/Parte1_go F\n",
            "   1197 ?        Sl     0:00      |       \\_ /tmp/go-build1789597745/b001/exe/Parte1_go H\n",
            "   1201 ?        Sl     0:00      |       \\_ /tmp/go-build1789597745/b001/exe/Parte1_go I\n",
            "   1209 ?        Sl     0:00      |           \\_ /tmp/go-build1789597745/b001/exe/Parte1_go J\n",
            "   1175 ?        Sl     0:00      \\_ /tmp/go-build1789597745/b001/exe/Parte1_go C\n",
            "   1179 ?        Sl     0:00      \\_ /tmp/go-build1789597745/b001/exe/Parte1_go D\n",
            "   1192 ?        Sl     0:00          \\_ /tmp/go-build1789597745/b001/exe/Parte1_go G\n"
          ]
        }
      ],
      "source": [
        "!ps -axf | grep Parte1_go"
      ]
    },
    {
      "cell_type": "markdown",
      "metadata": {
        "id": "fi7BOnjDBrFV"
      },
      "source": [
        "\n",
        "### Arbol de procesos"
      ]
    },
    {
      "cell_type": "code",
      "execution_count": null,
      "metadata": {
        "colab": {
          "base_uri": "https://localhost:8080/"
        },
        "id": "xaxcwtcrB1YD",
        "outputId": "10388ddf-3fdd-464b-f59d-3f7ba507e3bb"
      },
      "outputs": [
        {
          "output_type": "stream",
          "name": "stdout",
          "text": [
            "Parte1_go(1169)─┬─Parte1_go(1174)─┬─Parte1_go(1181)\n",
            "                │                 └─Parte1_go(1188)─┬─Parte1_go(1197)\n",
            "                │                                   └─Parte1_go(1201)───Parte1_go(1209)\n",
            "                ├─Parte1_go(1175)\n",
            "                └─Parte1_go(1179)───Parte1_go(1192)\n"
          ]
        }
      ],
      "source": [
        "!pstree -pT 1169"
      ]
    },
    {
      "cell_type": "markdown",
      "metadata": {
        "id": "3lSCl_5FB61V"
      },
      "source": [
        "### Salida del programa"
      ]
    },
    {
      "cell_type": "code",
      "execution_count": null,
      "metadata": {
        "colab": {
          "base_uri": "https://localhost:8080/"
        },
        "id": "GqPwlQ97B-6f",
        "outputId": "1a798c20-736f-4911-a072-dbfc841bbb7c"
      },
      "outputs": [
        {
          "output_type": "stream",
          "name": "stdout",
          "text": [
            "Proceso A pid: 1169 ppid: 1139\n",
            "Proceso B pid: 1174 ppid: 1169\n",
            "Proceso C pid: 1175 ppid: 1169\n",
            "Proceso D pid: 1179 ppid: 1169\n",
            "Proceso E pid: 1181 ppid: 1174\n",
            "Proceso F pid: 1188 ppid: 1174\n",
            "Proceso G pid: 1192 ppid: 1179\n",
            "Proceso H pid: 1197 ppid: 1188\n",
            "Proceso I pid: 1201 ppid: 1188\n",
            "Proceso J pid: 1209 ppid: 1201\n"
          ]
        }
      ],
      "source": [
        "!cat salidaGo.txt\n"
      ]
    },
    {
      "cell_type": "markdown",
      "source": [
        "## Parte 2"
      ],
      "metadata": {
        "id": "FvjdtNctRlHM"
      }
    },
    {
      "cell_type": "code",
      "source": [
        "%%writefile TP1/Parte-2/Parte2_go.go\n",
        "package main\n",
        "\n",
        "import (\n",
        "\t\"fmt\"\n",
        "\t\"math/rand\"\n",
        "\t\"sync\"\n",
        "\t\"time\"\n",
        ")\n",
        "\n",
        "const SIZE int = 9000\n",
        "const THREADS int = 100\n",
        "\n",
        "var matrixA [SIZE][SIZE]int\n",
        "var matrixB [SIZE][SIZE]int\n",
        "var matrixResSequ [SIZE][SIZE]int\n",
        "var matrixResConc [SIZE][SIZE]int\n",
        "\n",
        "func printMatrix(matrix *[SIZE][SIZE]int) {\n",
        "\tfor i := 0; i < SIZE; i++ {\n",
        "\t\tfor j := 0; j < SIZE; j++ {\n",
        "\t\t\tfmt.Print(\"|\")\n",
        "\t\t\tif matrix[i][j] < 10 {\n",
        "\t\t\t\tfmt.Print(\" \")\n",
        "\t\t\t}\n",
        "\t\t\tif matrix[i][j] < 100 {\n",
        "\t\t\t\tfmt.Print(\" \")\n",
        "\t\t\t}\n",
        "\t\t\tfmt.Print(matrix[i][j])\n",
        "\t\t\tfmt.Print(\"|\")\n",
        "\t\t}\n",
        "\t\tfmt.Println()\n",
        "\t}\n",
        "}\n",
        "\n",
        "func initMatrix(m *[SIZE][SIZE]int) {\n",
        "\tfor i := 0; i < SIZE; i++ {\n",
        "\t\tfor j := 0; j < SIZE; j++ {\n",
        "\t\t\tm[i][j] = rand.Intn(100)\n",
        "\t\t}\n",
        "\t}\n",
        "}\n",
        "\n",
        "func sumSeqMatrix() {\n",
        "\tfor i := 0; i < SIZE; i++ {\n",
        "\t\tfor j := 0; j < SIZE; j++ {\n",
        "\t\t\tmatrixResSequ[i][j] = matrixA[i][j] + matrixB[i][j]\n",
        "\t\t}\n",
        "\t}\n",
        "}\n",
        "func sumConcMatrix() {\n",
        "\tvar wg sync.WaitGroup\n",
        "\twg.Add(THREADS)\n",
        "\n",
        "\tblockSize := SIZE / THREADS\n",
        "\n",
        "\tfor i := 0; i < THREADS; i++ {\n",
        "\t\tgo sumRows(i*blockSize, (i+1)*blockSize, &wg)\n",
        "\t}\n",
        "\n",
        "\twg.Wait()\n",
        "}\n",
        "\n",
        "func sumRows(startRow int, endRow int, wg *sync.WaitGroup) {\n",
        "\tdefer wg.Done()\n",
        "\tfor r := startRow; r < endRow; r++ {\n",
        "\t\tfor c := 0; c < SIZE; c++ {\n",
        "\t\t\tmatrixResConc[r][c] = matrixA[r][c] + matrixB[r][c]\n",
        "\t\t}\n",
        "\t}\n",
        "}\n",
        "\n",
        "func compareRes() bool {\n",
        "\tfor i := 0; i < SIZE; i++ {\n",
        "\t\tfor j := 0; j < SIZE; j++ {\n",
        "\t\t\tif matrixResConc[i][j] != matrixResSequ[i][j] {\n",
        "\t\t\t\tfmt.Println(matrixResConc[i][j], \"!=\", matrixResSequ[i][j], \"i\", i, \"j\", j)\n",
        "\t\t\t\treturn false\n",
        "\t\t\t}\n",
        "\t\t}\n",
        "\t}\n",
        "\treturn true\n",
        "}\n",
        "func printAllMatrix() {\n",
        "\tfmt.Println(\"Matrix A:\")\n",
        "\tprintMatrix(&matrixA)\n",
        "\tfmt.Println(\"\\nMatrix B:\")\n",
        "\tprintMatrix(&matrixB)\n",
        "\n",
        "\tfmt.Println(\"\\nRes Seq:\")\n",
        "\tprintMatrix(&matrixResSequ)\n",
        "\n",
        "\tfmt.Println(\"\\nRes Conc:\")\n",
        "\tprintMatrix(&matrixResConc)\n",
        "}\n",
        "\n",
        "func main() {\n",
        "\tfmt.Println(\"matrix size: \", SIZE)\n",
        "\tfmt.Println(\"Threads: \", THREADS)\n",
        "\tinitMatrix(&matrixA)\n",
        "\tinitMatrix(&matrixB)\n",
        "\n",
        "\tstartSeq := time.Now()\n",
        "\tsumSeqMatrix()\n",
        "\tendSeq := time.Since(startSeq).Milliseconds()\n",
        "\n",
        "\tstartConc := time.Now()\n",
        "\tsumConcMatrix()\n",
        "\tendConc := time.Since(startConc).Milliseconds()\n",
        "\n",
        "\t// printAllMatrix()\n",
        "\n",
        "\tfmt.Println(\"\\nSECUENCIAL == CONCURRENTE:\", compareRes())\n",
        "\n",
        "\tfmt.Println(\"SECUENCIAL: \", endSeq)\n",
        "\tfmt.Println(\"CONCURRENTE: \", endConc)\n",
        "}\n"
      ],
      "metadata": {
        "colab": {
          "base_uri": "https://localhost:8080/"
        },
        "id": "2bNMDPxgR7JN",
        "outputId": "62052084-5c63-4041-be17-ee6959a8e58c"
      },
      "execution_count": null,
      "outputs": [
        {
          "output_type": "stream",
          "name": "stdout",
          "text": [
            "Overwriting TP1/Parte-2/Parte2_go.go\n"
          ]
        }
      ]
    },
    {
      "cell_type": "markdown",
      "source": [
        "### Compilacion"
      ],
      "metadata": {
        "id": "9gMtBXHXSUaO"
      }
    },
    {
      "cell_type": "code",
      "source": [
        "!go run TP1/Parte-2/Parte2_go.go"
      ],
      "metadata": {
        "colab": {
          "base_uri": "https://localhost:8080/"
        },
        "id": "bizv6_pMSYAw",
        "outputId": "ca2cb92c-bc75-47b9-d764-8bed4519785b"
      },
      "execution_count": null,
      "outputs": [
        {
          "output_type": "stream",
          "name": "stdout",
          "text": [
            "matrix size:  9000\n",
            "Threads:  100\n",
            "\n",
            "SECUENCIAL == CONCURRENTE: true\n",
            "SECUENCIAL:  546\n",
            "CONCURRENTE:  461\n"
          ]
        }
      ]
    },
    {
      "cell_type": "markdown",
      "metadata": {
        "id": "hGrIYBWDTR9A"
      },
      "source": [
        "# Codigo en Python"
      ]
    },
    {
      "cell_type": "markdown",
      "metadata": {
        "id": "jiimqK2bTV_r"
      },
      "source": [
        "## Parte 1"
      ]
    },
    {
      "cell_type": "code",
      "execution_count": null,
      "metadata": {
        "colab": {
          "base_uri": "https://localhost:8080/"
        },
        "id": "RPjKTrEPTYCH",
        "outputId": "53d14c9c-a894-42c5-9c89-565089e3c4f7"
      },
      "outputs": [
        {
          "output_type": "stream",
          "name": "stdout",
          "text": [
            "Writing TP1/Parte-1/tp1_p1_python.py\n"
          ]
        }
      ],
      "source": [
        "%%writefile TP1/Parte-1/tp1_p1_python.py\n",
        "import os\n",
        "import time\n",
        "\n",
        "TIME_SLEEP=20000\n",
        "\n",
        "\n",
        "def imprimirProceso(proceso):\n",
        "    pid = os.getpid()\n",
        "    ppid = os.getppid()\n",
        "    print(f\"Proceso {proceso}: PID = {pid}, PID del Padre = {ppid}\")\n",
        "\n",
        "def crearProcesos(procesos, padre):\n",
        "    hijos = procesos.get(padre, [])\n",
        "    imprimirProceso(padre)\n",
        "    for hijo in hijos:\n",
        "        pid = os.fork()\n",
        "        if pid < 0:\n",
        "            print(\"Error pid del proceso\")\n",
        "        if pid == 0:  # es hijo\n",
        "            crearProcesos(procesos, hijo)\n",
        "            time.sleep(TIME_SLEEP)\n",
        "            os._exit(0)\n",
        "    for hijo in hijos:\n",
        "        os.wait()\n",
        "\n",
        "\n",
        "print(\"Comienzo a crear los procesos...\\n\")\n",
        "\n",
        "procesos = {\n",
        "    \"A\": [\"B\", \"C\", \"D\"],\n",
        "    \"B\": [\"E\", \"F\"],\n",
        "    \"D\": [\"G\"],\n",
        "    \"F\": [\"H\", \"I\"],\n",
        "    \"I\": [\"J\"]\n",
        "}\n",
        "\n",
        "crearProcesos(procesos, list(procesos.keys())[0])\n",
        "\n",
        "print(\"\\nCreación de procesos finalizada\")"
      ]
    },
    {
      "cell_type": "markdown",
      "source": [
        "### Ver si se creo"
      ],
      "metadata": {
        "id": "K8v7LYH_bxiu"
      }
    },
    {
      "cell_type": "code",
      "source": [
        "!ls -laR | grep tp1_p1_python.py"
      ],
      "metadata": {
        "id": "oDaef2fQcBgh",
        "colab": {
          "base_uri": "https://localhost:8080/"
        },
        "outputId": "244ba0dd-8498-4525-8885-d249efec5221"
      },
      "execution_count": null,
      "outputs": [
        {
          "output_type": "stream",
          "name": "stdout",
          "text": [
            "-rw-r--r-- 1 root root  828 Apr 11 18:29 tp1_p1_python.py\n"
          ]
        }
      ]
    },
    {
      "cell_type": "markdown",
      "metadata": {
        "id": "APlC3kIUDMhh"
      },
      "source": [
        "### Ejecución en segundo plano\n",
        "\n",
        "\n"
      ]
    },
    {
      "cell_type": "code",
      "execution_count": null,
      "metadata": {
        "colab": {
          "base_uri": "https://localhost:8080/"
        },
        "id": "QZ0q-aTmDe5G",
        "outputId": "34ed8dc3-fde9-469a-e555-82bbdb9588f4"
      },
      "outputs": [
        {
          "output_type": "stream",
          "name": "stdout",
          "text": [
            "nohup: appending output to 'nohup.out'\n"
          ]
        }
      ],
      "source": [
        "!nohup python3 TP1/Parte-1/tp1_p1_python.py &"
      ]
    },
    {
      "cell_type": "markdown",
      "metadata": {
        "id": "hZoqIa9QDnqM"
      },
      "source": [
        "### Visualización de los procesos que están corriendo"
      ]
    },
    {
      "cell_type": "code",
      "execution_count": null,
      "metadata": {
        "colab": {
          "base_uri": "https://localhost:8080/"
        },
        "id": "y0--UKuIEBIS",
        "outputId": "45ea1600-5c8d-4edd-c3eb-02d113828af1"
      },
      "outputs": [
        {
          "output_type": "stream",
          "name": "stdout",
          "text": [
            "USER         PID %CPU %MEM    VSZ   RSS TTY      STAT START   TIME COMMAND\n",
            "root          22  0.0  0.0   5808  1000 ?        Ss   21:45   0:00 tail -n +0 -F /root/.config/Googl\n",
            "root           1  0.0  0.0   1076     8 ?        Ss   21:45   0:00 /sbin/docker-init -- /datalab/run\n",
            "root           6  0.5  0.3 886052 47516 ?        Rl   21:45   0:01 /tools/node/bin/node /datalab/web\n",
            "root          16  0.0  0.0   7376  3428 ?        S    21:45   0:00  \\_ /bin/bash -e /usr/local/colab\n",
            "root        1057  0.0  0.0   5776  1000 ?        S    21:49   0:00  |   \\_ sleep 1\n",
            "root          61  3.3  0.0      0     0 ?        Z    21:45   0:07  \\_ [python3] <defunct>\n",
            "root          62  0.3  0.3  66516 51504 ?        S    21:45   0:00  \\_ python3 /usr/local/bin/colab-\n",
            "root          84  1.8  0.8 358404 112592 ?       Rl   21:45   0:03  \\_ /usr/bin/python3 /usr/local/b\n",
            "root         225  1.5  0.7 1109960 96668 ?       Ssl  21:45   0:02  |   \\_ /usr/bin/python3 -m colab\n",
            "root        1058  0.0  0.0  10076  1596 ?        R    21:49   0:00  |       \\_ ps -aufx\n",
            "root          85  0.0  0.0 1227460 4456 ?        Sl   21:45   0:00  \\_ /usr/local/bin/dap_multiplexe\n",
            "root         297  0.0  0.1 1239156 16068 ?       Sl   21:46   0:00  \\_ /usr/colab/bin/language_servi\n",
            "root         308  4.6  0.9 911764 127992 ?       Sl   21:46   0:08      \\_ node /datalab/web/pyright\n",
            "root          18  0.0  0.0   7376  1864 ?        S    21:45   0:00 /bin/bash -e /datalab/run.sh\n",
            "root          20  0.0  0.0 1235692 12676 ?       Sl   21:45   0:00  \\_ /usr/colab/bin/kernel_manager\n",
            "root         264  0.0  0.0 538380 12900 ?        Sl   21:46   0:00 /usr/bin/python3 /usr/local/lib/p\n",
            "root        1000  0.3  0.0  17504  9692 ?        S    21:48   0:00 python3 TP1/Parte-1/tp1_p1_python\n",
            "root        1001  0.0  0.0  17504  5180 ?        S    21:48   0:00  \\_ python3 TP1/Parte-1/tp1_p1_py\n",
            "root        1004  0.0  0.0  17504  5116 ?        S    21:48   0:00  |   \\_ python3 TP1/Parte-1/tp1_p\n",
            "root        1005  0.0  0.0  17504  5564 ?        S    21:48   0:00  |   \\_ python3 TP1/Parte-1/tp1_p\n",
            "root        1007  0.0  0.0  17504  5180 ?        S    21:48   0:00  |       \\_ python3 TP1/Parte-1/t\n",
            "root        1008  0.0  0.0  17504  5116 ?        S    21:48   0:00  |       \\_ python3 TP1/Parte-1/t\n",
            "root        1009  0.0  0.0  17504  5184 ?        S    21:48   0:00  |           \\_ python3 TP1/Parte\n",
            "root        1002  0.0  0.0  17504  5180 ?        S    21:48   0:00  \\_ python3 TP1/Parte-1/tp1_p1_py\n",
            "root        1003  0.0  0.0  17504  5180 ?        S    21:48   0:00  \\_ python3 TP1/Parte-1/tp1_p1_py\n",
            "root        1006  0.0  0.0  17504  5116 ?        S    21:48   0:00      \\_ python3 TP1/Parte-1/tp1_p\n"
          ]
        }
      ],
      "source": [
        "!ps -aufx"
      ]
    },
    {
      "cell_type": "code",
      "execution_count": null,
      "metadata": {
        "id": "rHyu_VBkE9eM",
        "colab": {
          "base_uri": "https://localhost:8080/"
        },
        "outputId": "cf75e266-3303-486b-dcbe-2298520026cc"
      },
      "outputs": [
        {
          "output_type": "stream",
          "name": "stdout",
          "text": [
            "USER         PID %CPU %MEM    VSZ   RSS TTY      STAT START   TIME COMMAND\n",
            "root           1  0.0  0.0   1076     8 ?        Ss   21:45   0:00 /sbin/docker-init -- /datalab/run\n",
            "root           6  0.5  0.3 886052 47308 ?        Rl   21:45   0:01 /tools/node/bin/node /datalab/web\n",
            "root          16  0.0  0.0   7376  3428 ?        S    21:45   0:00 /bin/bash -e /usr/local/colab/bin\n",
            "root          18  0.0  0.0   7376  1864 ?        S    21:45   0:00 /bin/bash -e /datalab/run.sh\n",
            "root          20  0.0  0.0 1235948 12892 ?       Sl   21:45   0:00 /usr/colab/bin/kernel_manager_pro\n",
            "root          22  0.0  0.0   5808  1000 ?        Ss   21:45   0:00 tail -n +0 -F /root/.config/Googl\n",
            "root          61  3.2  0.0      0     0 ?        Z    21:45   0:07 [python3] <defunct>\n",
            "root          62  0.3  0.3  66516 51504 ?        S    21:45   0:00 python3 /usr/local/bin/colab-file\n",
            "root          84  1.7  0.8 358404 112592 ?       Rl   21:45   0:03 /usr/bin/python3 /usr/local/bin/j\n",
            "root          85  0.0  0.0 1227460 4456 ?        Sl   21:45   0:00 /usr/local/bin/dap_multiplexer --\n",
            "root         225  1.5  0.7 1109960 96668 ?       Ssl  21:45   0:02 /usr/bin/python3 -m colab_kernel_\n",
            "root         264  0.0  0.0 538380 12900 ?        Sl   21:46   0:00 /usr/bin/python3 /usr/local/lib/p\n",
            "root         297  0.0  0.1 1239156 16068 ?       Sl   21:46   0:00 /usr/colab/bin/language_service -\n",
            "root         308  4.4  0.9 911764 127992 ?       Sl   21:46   0:08 node /datalab/web/pyright/pyright\n",
            "root        1000  0.2  0.0  17504  9692 ?        S    21:48   0:00 python3 TP1/Parte-1/tp1_p1_python\n",
            "root        1001  0.0  0.0  17504  5180 ?        S    21:48   0:00 python3 TP1/Parte-1/tp1_p1_python\n",
            "root        1002  0.0  0.0  17504  5180 ?        S    21:48   0:00 python3 TP1/Parte-1/tp1_p1_python\n",
            "root        1003  0.0  0.0  17504  5180 ?        S    21:48   0:00 python3 TP1/Parte-1/tp1_p1_python\n",
            "root        1004  0.0  0.0  17504  5116 ?        S    21:48   0:00 python3 TP1/Parte-1/tp1_p1_python\n",
            "root        1005  0.0  0.0  17504  5564 ?        S    21:48   0:00 python3 TP1/Parte-1/tp1_p1_python\n",
            "root        1006  0.0  0.0  17504  5116 ?        S    21:48   0:00 python3 TP1/Parte-1/tp1_p1_python\n",
            "root        1007  0.0  0.0  17504  5180 ?        S    21:48   0:00 python3 TP1/Parte-1/tp1_p1_python\n",
            "root        1008  0.0  0.0  17504  5116 ?        S    21:48   0:00 python3 TP1/Parte-1/tp1_p1_python\n",
            "root        1009  0.0  0.0  17504  5184 ?        S    21:48   0:00 python3 TP1/Parte-1/tp1_p1_python\n",
            "root        1082  0.0  0.0   5776  1044 ?        S    21:49   0:00 sleep 1\n",
            "root        1083  0.0  0.0  10076  1572 ?        R    21:49   0:00 ps aux\n"
          ]
        }
      ],
      "source": [
        "!ps aux"
      ]
    },
    {
      "cell_type": "markdown",
      "source": [
        "##Visualización de procesos"
      ],
      "metadata": {
        "id": "nVoE4O15N_fR"
      }
    },
    {
      "cell_type": "code",
      "source": [
        "!ps -aux | grep TP1/Parte-1/tp1_p1_python.py"
      ],
      "metadata": {
        "colab": {
          "base_uri": "https://localhost:8080/"
        },
        "id": "FvEKXGDiNoQL",
        "outputId": "1c0da11f-aab2-489d-cbe6-092385c10913"
      },
      "execution_count": null,
      "outputs": [
        {
          "output_type": "stream",
          "name": "stdout",
          "text": [
            "root        1126  0.0  0.0   6624  2208 ?        S    21:49   0:00 grep TP1/Parte-1/tp1_p1_python.py\n"
          ]
        }
      ]
    },
    {
      "cell_type": "markdown",
      "source": [
        "### Visualización árbol de procesos"
      ],
      "metadata": {
        "id": "JhwuPChhO3E6"
      }
    },
    {
      "cell_type": "code",
      "source": [
        "!pstree -p 1000"
      ],
      "metadata": {
        "id": "ub8nzZ8QM1VZ",
        "colab": {
          "base_uri": "https://localhost:8080/"
        },
        "outputId": "7c9f1be6-a164-4492-c43c-6b0942f2797e"
      },
      "execution_count": null,
      "outputs": [
        {
          "output_type": "stream",
          "name": "stdout",
          "text": [
            "python3(1000)─┬─python3(1001)─┬─python3(1004)\n",
            "              │               └─python3(1005)─┬─python3(1007)\n",
            "              │                               └─python3(1008)───python3(1009)\n",
            "              ├─python3(1002)\n",
            "              └─python3(1003)───python3(1006)\n"
          ]
        }
      ]
    },
    {
      "cell_type": "markdown",
      "source": [
        "#Conclusiones"
      ],
      "metadata": {
        "id": "VOiBSKr_U7JA"
      }
    },
    {
      "cell_type": "markdown",
      "source": [
        "Luego de codificar la solución propuesta en distintos lenguajes pudimos notar diferencias entre ellos y además surgieron inconvenientes."
      ],
      "metadata": {
        "id": "aIVpZ2QVlsja"
      }
    },
    {
      "cell_type": "markdown",
      "source": [
        "Por ejemplo, al codificar la solución en Python tuvimos conflicto con la identación, eso nos llevo a que el código no se ejecute correctamente y a obtener resultados inesperados. Por otra parte, en principio se desarrollo el código utilizando la biblioteca de Python llamada multiprocessing, que proporciona una interfaz de más alto nivel en comparación con la utilización de os.fork que es una interfaz de más bajo nivel. Respecto a esto una dificultad que encontramos es que fork no se puede ejecutar en Windows, mientras que multiprocessing si se puede. En este caso, preferimos utilizar os.fork ya que en el ejemplo dado en clase se utiliza os.fork, pero según lo que pudimos investigar solo funciona para Mac OS X, Unix y Linux, lo cual podría ser una desventaja ya que no asegura la portabilidad."
      ],
      "metadata": {
        "id": "zzc1gAvWU9YU"
      }
    },
    {
      "cell_type": "markdown",
      "source": [
        "En el caso de Java, es un lenguaje de programación que tiene una sintaxis más compleja en comparación con Python, además de requerir más código para lograr el mismo resultado. Además, la ausencia de fork() puede presentar algunas limitaciones en la flexibilidad y eficiencia en comparación con C++, especialmente en escenarios donde la clonación exacta de un proceso es necesaria (cabe aclarar que aunque el espacio de memoria del proceso hijo es idéntico inicialmente al del proceso padre, cada uno tendrá su propia área de memoria y no se compartirá). Es por ello que Java ofrece alternativas como la clase ProcessBuilder, la cual permite configurar y ejecutar procesos externos, lo que facilita la interacción con programas externos y la comunicación a través de la entrada y salida estándar. Por otra parte, Java puede consumir más recursos en comparación con lenguajes de bajo nivel debido a la sobrecarga asociada con la JVM y la gestión de hilos, afectando de esta manera el rendimiento."
      ],
      "metadata": {
        "id": "72ib79-6liLc"
      }
    },
    {
      "cell_type": "markdown",
      "source": [
        "Durante el desarrollo en Rust, nos enfrentamos a varias dificultades, siendo una de las primeras la incorporación de la biblioteca externa \"Nix\" al programa. Esta biblioteca proporciona una alternativa de nivel superior para realizar operaciones con. La solución a este problema fue aprovechar del gestor de paquetes oficial de Rust, 'Cargo'. Al crear un proyecto en Cargo y agregar el código correspondiente, la incorporación de la biblioteca externa resultó relativamente sencilla. Por lo tanto, podemos afirmar que Cargo se convierte en una herramienta esencial para el desarrollo en este lenguaje.\n",
        "\n",
        "Otro aspecto importante que debimos tener en cuenta fue la sintaxis particular del lenguaje. Aunque Rust está diseñado para que el código sea legible y seguro, al obligar al programador a ser más explícito, puede presentar una curva de aprendizaje más pronunciada para aquellos que no están familiarizados con él. Rust toma inspiración de la sintaxis de varios otros lenguajes de programación, como JavaScript, Python, C++ y Java."
      ],
      "metadata": {
        "id": "KIZm1AATxrpJ"
      }
    },
    {
      "cell_type": "markdown",
      "source": [
        "Una de las particularidades que nos encontramos al desarrollar el código en GO es que no existe una sentencia similar a **fork()** , como las que conocimos en C y C++ en anteriores cursadas.\n",
        "\n",
        "Para poder realizar programación concurrente en Go, utilizamos una característica sencilla propia del lenguaje que son la ejecucion de comandos. Asi es posible ejecutar varias tareas en forma concurrente sin preocuparse de la sobrecarga de recursos.\n",
        "Con el *Cmd.Start()* es el método que inicia el comando especificado y no espera a que se complete.\n",
        "La forma de utilizar los comandos es:\n",
        "*cmd := exec.Command()*\n"
      ],
      "metadata": {
        "id": "M3pylyuLV6w-"
      }
    }
  ],
  "metadata": {
    "colab": {
      "provenance": [],
      "collapsed_sections": [
        "J3oA9P00iJGU",
        "eKMPSCyAmJVx",
        "tKXmIIB8mVmG",
        "4uK9cHE5ml-_",
        "OV7p6RVuO3KQ",
        "9Hx7JxYiD_yZ",
        "6qlWbS7fnxfX"
      ],
      "toc_visible": true,
      "include_colab_link": true
    },
    "kernelspec": {
      "display_name": "Python 3",
      "name": "python3"
    },
    "language_info": {
      "name": "python"
    }
  },
  "nbformat": 4,
  "nbformat_minor": 0
}