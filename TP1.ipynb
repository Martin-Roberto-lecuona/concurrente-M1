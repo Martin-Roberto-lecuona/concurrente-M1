{
  "cells": [
    {
      "cell_type": "markdown",
      "metadata": {
        "id": "view-in-github",
        "colab_type": "text"
      },
      "source": [
        "<a href=\"https://colab.research.google.com/github/Martin-Roberto-lecuona/concurrente-M1/blob/main/TP1.ipynb\" target=\"_parent\"><img src=\"https://colab.research.google.com/assets/colab-badge.svg\" alt=\"Open In Colab\"/></a>"
      ]
    },
    {
      "cell_type": "markdown",
      "source": [
        "# Directorios"
      ],
      "metadata": {
        "id": "aK7HIAS4mLm9"
      }
    },
    {
      "cell_type": "code",
      "execution_count": null,
      "metadata": {
        "id": "MhDNRsZrR1GD",
        "colab": {
          "base_uri": "https://localhost:8080/",
          "height": 304
        },
        "outputId": "4bcbd30f-8d33-4511-dc8f-2b3b9e2a1ae0"
      },
      "outputs": [
        {
          "output_type": "error",
          "ename": "MessageError",
          "evalue": "Error: credential propagation was unsuccessful",
          "traceback": [
            "\u001b[0;31m---------------------------------------------------------------------------\u001b[0m",
            "\u001b[0;31mMessageError\u001b[0m                              Traceback (most recent call last)",
            "\u001b[0;32m<ipython-input-4-d5df0069828e>\u001b[0m in \u001b[0;36m<cell line: 2>\u001b[0;34m()\u001b[0m\n\u001b[1;32m      1\u001b[0m \u001b[0;32mfrom\u001b[0m \u001b[0mgoogle\u001b[0m\u001b[0;34m.\u001b[0m\u001b[0mcolab\u001b[0m \u001b[0;32mimport\u001b[0m \u001b[0mdrive\u001b[0m\u001b[0;34m\u001b[0m\u001b[0;34m\u001b[0m\u001b[0m\n\u001b[0;32m----> 2\u001b[0;31m \u001b[0mdrive\u001b[0m\u001b[0;34m.\u001b[0m\u001b[0mmount\u001b[0m\u001b[0;34m(\u001b[0m\u001b[0;34m'/content/drive'\u001b[0m\u001b[0;34m)\u001b[0m\u001b[0;34m\u001b[0m\u001b[0;34m\u001b[0m\u001b[0m\n\u001b[0m",
            "\u001b[0;32m/usr/local/lib/python3.10/dist-packages/google/colab/drive.py\u001b[0m in \u001b[0;36mmount\u001b[0;34m(mountpoint, force_remount, timeout_ms, readonly)\u001b[0m\n\u001b[1;32m     98\u001b[0m \u001b[0;32mdef\u001b[0m \u001b[0mmount\u001b[0m\u001b[0;34m(\u001b[0m\u001b[0mmountpoint\u001b[0m\u001b[0;34m,\u001b[0m \u001b[0mforce_remount\u001b[0m\u001b[0;34m=\u001b[0m\u001b[0;32mFalse\u001b[0m\u001b[0;34m,\u001b[0m \u001b[0mtimeout_ms\u001b[0m\u001b[0;34m=\u001b[0m\u001b[0;36m120000\u001b[0m\u001b[0;34m,\u001b[0m \u001b[0mreadonly\u001b[0m\u001b[0;34m=\u001b[0m\u001b[0;32mFalse\u001b[0m\u001b[0;34m)\u001b[0m\u001b[0;34m:\u001b[0m\u001b[0;34m\u001b[0m\u001b[0;34m\u001b[0m\u001b[0m\n\u001b[1;32m     99\u001b[0m   \u001b[0;34m\"\"\"Mount your Google Drive at the specified mountpoint path.\"\"\"\u001b[0m\u001b[0;34m\u001b[0m\u001b[0;34m\u001b[0m\u001b[0m\n\u001b[0;32m--> 100\u001b[0;31m   return _mount(\n\u001b[0m\u001b[1;32m    101\u001b[0m       \u001b[0mmountpoint\u001b[0m\u001b[0;34m,\u001b[0m\u001b[0;34m\u001b[0m\u001b[0;34m\u001b[0m\u001b[0m\n\u001b[1;32m    102\u001b[0m       \u001b[0mforce_remount\u001b[0m\u001b[0;34m=\u001b[0m\u001b[0mforce_remount\u001b[0m\u001b[0;34m,\u001b[0m\u001b[0;34m\u001b[0m\u001b[0;34m\u001b[0m\u001b[0m\n",
            "\u001b[0;32m/usr/local/lib/python3.10/dist-packages/google/colab/drive.py\u001b[0m in \u001b[0;36m_mount\u001b[0;34m(mountpoint, force_remount, timeout_ms, ephemeral, readonly)\u001b[0m\n\u001b[1;32m    131\u001b[0m   )\n\u001b[1;32m    132\u001b[0m   \u001b[0;32mif\u001b[0m \u001b[0mephemeral\u001b[0m\u001b[0;34m:\u001b[0m\u001b[0;34m\u001b[0m\u001b[0;34m\u001b[0m\u001b[0m\n\u001b[0;32m--> 133\u001b[0;31m     _message.blocking_request(\n\u001b[0m\u001b[1;32m    134\u001b[0m         \u001b[0;34m'request_auth'\u001b[0m\u001b[0;34m,\u001b[0m \u001b[0mrequest\u001b[0m\u001b[0;34m=\u001b[0m\u001b[0;34m{\u001b[0m\u001b[0;34m'authType'\u001b[0m\u001b[0;34m:\u001b[0m \u001b[0;34m'dfs_ephemeral'\u001b[0m\u001b[0;34m}\u001b[0m\u001b[0;34m,\u001b[0m \u001b[0mtimeout_sec\u001b[0m\u001b[0;34m=\u001b[0m\u001b[0;32mNone\u001b[0m\u001b[0;34m\u001b[0m\u001b[0;34m\u001b[0m\u001b[0m\n\u001b[1;32m    135\u001b[0m     )\n",
            "\u001b[0;32m/usr/local/lib/python3.10/dist-packages/google/colab/_message.py\u001b[0m in \u001b[0;36mblocking_request\u001b[0;34m(request_type, request, timeout_sec, parent)\u001b[0m\n\u001b[1;32m    174\u001b[0m       \u001b[0mrequest_type\u001b[0m\u001b[0;34m,\u001b[0m \u001b[0mrequest\u001b[0m\u001b[0;34m,\u001b[0m \u001b[0mparent\u001b[0m\u001b[0;34m=\u001b[0m\u001b[0mparent\u001b[0m\u001b[0;34m,\u001b[0m \u001b[0mexpect_reply\u001b[0m\u001b[0;34m=\u001b[0m\u001b[0;32mTrue\u001b[0m\u001b[0;34m\u001b[0m\u001b[0;34m\u001b[0m\u001b[0m\n\u001b[1;32m    175\u001b[0m   )\n\u001b[0;32m--> 176\u001b[0;31m   \u001b[0;32mreturn\u001b[0m \u001b[0mread_reply_from_input\u001b[0m\u001b[0;34m(\u001b[0m\u001b[0mrequest_id\u001b[0m\u001b[0;34m,\u001b[0m \u001b[0mtimeout_sec\u001b[0m\u001b[0;34m)\u001b[0m\u001b[0;34m\u001b[0m\u001b[0;34m\u001b[0m\u001b[0m\n\u001b[0m",
            "\u001b[0;32m/usr/local/lib/python3.10/dist-packages/google/colab/_message.py\u001b[0m in \u001b[0;36mread_reply_from_input\u001b[0;34m(message_id, timeout_sec)\u001b[0m\n\u001b[1;32m    101\u001b[0m     ):\n\u001b[1;32m    102\u001b[0m       \u001b[0;32mif\u001b[0m \u001b[0;34m'error'\u001b[0m \u001b[0;32min\u001b[0m \u001b[0mreply\u001b[0m\u001b[0;34m:\u001b[0m\u001b[0;34m\u001b[0m\u001b[0;34m\u001b[0m\u001b[0m\n\u001b[0;32m--> 103\u001b[0;31m         \u001b[0;32mraise\u001b[0m \u001b[0mMessageError\u001b[0m\u001b[0;34m(\u001b[0m\u001b[0mreply\u001b[0m\u001b[0;34m[\u001b[0m\u001b[0;34m'error'\u001b[0m\u001b[0;34m]\u001b[0m\u001b[0;34m)\u001b[0m\u001b[0;34m\u001b[0m\u001b[0;34m\u001b[0m\u001b[0m\n\u001b[0m\u001b[1;32m    104\u001b[0m       \u001b[0;32mreturn\u001b[0m \u001b[0mreply\u001b[0m\u001b[0;34m.\u001b[0m\u001b[0mget\u001b[0m\u001b[0;34m(\u001b[0m\u001b[0;34m'data'\u001b[0m\u001b[0;34m,\u001b[0m \u001b[0;32mNone\u001b[0m\u001b[0;34m)\u001b[0m\u001b[0;34m\u001b[0m\u001b[0;34m\u001b[0m\u001b[0m\n\u001b[1;32m    105\u001b[0m \u001b[0;34m\u001b[0m\u001b[0m\n",
            "\u001b[0;31mMessageError\u001b[0m: Error: credential propagation was unsuccessful"
          ]
        }
      ],
      "source": [
        "from google.colab import drive\n",
        "drive.mount('/content/drive')"
      ]
    },
    {
      "cell_type": "code",
      "source": [
        "!mkdir TP1\n",
        "!mkdir TP1/Parte-1\n",
        "!mkdir TP1/Parte-2\n",
        "!mkdir TP1/Parte-3"
      ],
      "metadata": {
        "id": "-O5PBnNxI4hm"
      },
      "execution_count": null,
      "outputs": []
    },
    {
      "cell_type": "markdown",
      "metadata": {
        "id": "J3oA9P00iJGU"
      },
      "source": [
        "# Codigo en C"
      ]
    },
    {
      "cell_type": "markdown",
      "metadata": {
        "id": "2BkRaaifqBI9"
      },
      "source": [
        "##Parte 1"
      ]
    },
    {
      "cell_type": "markdown",
      "metadata": {
        "id": "eKMPSCyAmJVx"
      },
      "source": [
        "#### Crear el archivo"
      ]
    },
    {
      "cell_type": "code",
      "execution_count": null,
      "metadata": {
        "colab": {
          "base_uri": "https://localhost:8080/"
        },
        "id": "AMsY4KQOg96R",
        "outputId": "a79120db-0f19-4e2c-b32d-070b3faec1e1"
      },
      "outputs": [
        {
          "output_type": "stream",
          "name": "stdout",
          "text": [
            "Writing TP1/Parte-1/tp1_p1_c++.cpp\n"
          ]
        }
      ],
      "source": [
        "%%writefile TP1/Parte-1/tp1_p1_c++.cpp\n",
        "#include <iostream>\n",
        "#include <unistd.h>\n",
        "#include <stdlib.h>\n",
        "#include <string.h>\n",
        "#include <sys/wait.h>\n",
        "#include <sys/types.h>\n",
        "#include <map>\n",
        "#include <vector>\n",
        "\n",
        "#define SLEEP_TIME 20\n",
        "\n",
        "using namespace std;\n",
        "\n",
        "struct ProcesoInfo\n",
        "{\n",
        "    char proc;\n",
        "    pid_t pid;\n",
        "    pid_t ppid;\n",
        "};\n",
        "\n",
        "void imprimir_info(char proc)\n",
        "{\n",
        "    ProcesoInfo p = {proc, getpid(), getppid()};\n",
        "    cout << \"Proceso: \" << p.proc << \", PID: \" << p.pid << \", PPID: \" << p.ppid << endl;\n",
        "}\n",
        "\n",
        "void imprimir_error(char proc)\n",
        "{\n",
        "    cerr << \"Error al crear proceso \" << proc << endl;\n",
        "    exit(EXIT_FAILURE);\n",
        "}\n",
        "\n",
        "void crear_arbol(const std::pair<const char, std::vector<char>> &p, std::map<char, std::vector<char>> &procesoRelaciones)\n",
        "{\n",
        "    char padre = p.first;\n",
        "    imprimir_info(padre);\n",
        "\n",
        "    for (auto const &hijo : p.second)\n",
        "    {\n",
        "        if (procesoRelaciones.find(hijo) != procesoRelaciones.end())\n",
        "        {\n",
        "            // hijo que es padre\n",
        "            pid_t pid_padre = fork();\n",
        "            if (pid_padre < 0)\n",
        "                imprimir_error(padre);\n",
        "            else if (pid_padre == 0)\n",
        "            {\n",
        "                crear_arbol(*procesoRelaciones.find(hijo), procesoRelaciones);\n",
        "                wait(NULL);\n",
        "                sleep(SLEEP_TIME);\n",
        "                exit(EXIT_SUCCESS);\n",
        "            }\n",
        "        } else\n",
        "        {\n",
        "            // hijo que es hoja\n",
        "            pid_t pid_hoja = fork();\n",
        "            if (pid_hoja < 0)\n",
        "                imprimir_error(hijo);\n",
        "            else if (pid_hoja == 0)\n",
        "            {\n",
        "                imprimir_info(hijo);\n",
        "                sleep(SLEEP_TIME);\n",
        "                exit(EXIT_SUCCESS);\n",
        "            }\n",
        "        }\n",
        "    }\n",
        "}\n",
        "\n",
        "int main(int argc, char *argv[])\n",
        "{\n",
        "    if (argc == 2 && (strcmp(argv[1], \"-h\") == 0 || strcmp(argv[1], \"--help\") == 0))\n",
        "    {\n",
        "        cout << \"Este proceso crea un árbol de procesos\" << endl;\n",
        "        return EXIT_SUCCESS;\n",
        "    }\n",
        "\n",
        "    char raiz = 'A';\n",
        "    map<char, vector<char>> procesoRelaciones =\n",
        "    {\n",
        "        {'A', {'B', 'C', 'D'}},\n",
        "        {'B', {'E', 'F'}},\n",
        "        {'F', {'H', 'I'}},\n",
        "        {'I', {'J'}},\n",
        "        {'D', {'G'}}\n",
        "    };\n",
        "\n",
        "    crear_arbol(*procesoRelaciones.find(raiz), procesoRelaciones);\n",
        "\n",
        "    while (wait(NULL) > 0);\n",
        "\n",
        "    return EXIT_SUCCESS;\n",
        "}\n",
        "\n"
      ]
    },
    {
      "cell_type": "markdown",
      "metadata": {
        "id": "gf011D2amQgy"
      },
      "source": [
        "Ver si se creo"
      ]
    },
    {
      "cell_type": "code",
      "execution_count": null,
      "metadata": {
        "colab": {
          "base_uri": "https://localhost:8080/"
        },
        "id": "LvIBRqlUim5U",
        "outputId": "2b926d93-1864-452d-865c-3c12fd06e8fd"
      },
      "outputs": [
        {
          "output_type": "stream",
          "name": "stdout",
          "text": [
            "-rw-r--r-- 1 root root 2166 Apr 12 21:46 tp1_p1_c++.cpp\n"
          ]
        }
      ],
      "source": [
        "!ls -laR | grep tp1_p1_c++.cpp"
      ]
    },
    {
      "cell_type": "markdown",
      "metadata": {
        "id": "tKXmIIB8mVmG"
      },
      "source": [
        "#### Compilacion"
      ]
    },
    {
      "cell_type": "code",
      "execution_count": null,
      "metadata": {
        "id": "MJO3SK8OinjE"
      },
      "outputs": [],
      "source": [
        "!g++ -o tp1P1.bin TP1/Parte-1/tp1_p1_c++.cpp"
      ]
    },
    {
      "cell_type": "markdown",
      "metadata": {
        "id": "4uK9cHE5ml-_"
      },
      "source": [
        "#### Ejecucion en background"
      ]
    },
    {
      "cell_type": "markdown",
      "metadata": {
        "id": "rjSd6TU9pmoX"
      },
      "source": [
        "Opcional: Help"
      ]
    },
    {
      "cell_type": "code",
      "execution_count": null,
      "metadata": {
        "colab": {
          "base_uri": "https://localhost:8080/"
        },
        "id": "eB-p6-SzoP7l",
        "outputId": "ab3adaa7-fbef-40b2-f0ae-63629a551478"
      },
      "outputs": [
        {
          "output_type": "stream",
          "name": "stdout",
          "text": [
            "Este proceso crea un árbol de procesos\n"
          ]
        }
      ],
      "source": [
        "!./tp1P1.bin -h"
      ]
    },
    {
      "cell_type": "code",
      "execution_count": null,
      "metadata": {
        "id": "5yLKaoi5it3W"
      },
      "outputs": [],
      "source": [
        "!nohup ./tp1P1.bin 1>salidaC 2>/dev/null &"
      ]
    },
    {
      "cell_type": "markdown",
      "metadata": {
        "id": "Qyc4D-A0mrRq"
      },
      "source": [
        "#### Ver arbol de procesos"
      ]
    },
    {
      "cell_type": "code",
      "execution_count": null,
      "metadata": {
        "colab": {
          "base_uri": "https://localhost:8080/"
        },
        "id": "Q1ITdA1oiyh6",
        "outputId": "f29716fe-7937-44c9-e526-3aef7c8ee7e2"
      },
      "outputs": [
        {
          "output_type": "stream",
          "name": "stdout",
          "text": [
            "root         452       1  0 21:46 ?        00:00:00 ./tp1P1.bin\n",
            "root         453     452  0 21:46 ?        00:00:00 ./tp1P1.bin\n",
            "root         454     452  0 21:46 ?        00:00:00 ./tp1P1.bin\n",
            "root         455     452  0 21:46 ?        00:00:00 ./tp1P1.bin\n",
            "root         456     453  0 21:46 ?        00:00:00 ./tp1P1.bin\n",
            "root         457     453  0 21:46 ?        00:00:00 ./tp1P1.bin\n",
            "root         458     455  0 21:46 ?        00:00:00 ./tp1P1.bin\n",
            "root         459     457  0 21:46 ?        00:00:00 ./tp1P1.bin\n",
            "root         460     457  0 21:46 ?        00:00:00 ./tp1P1.bin\n",
            "root         461     460  0 21:46 ?        00:00:00 ./tp1P1.bin\n",
            "root         478     225  0 21:46 ?        00:00:00 /bin/bash -c ps -ef | grep tp1P1.bin\n",
            "root         480     478  0 21:46 ?        00:00:00 grep tp1P1.bin\n"
          ]
        }
      ],
      "source": [
        "!ps -ef | grep tp1P1.bin"
      ]
    },
    {
      "cell_type": "markdown",
      "metadata": {
        "id": "LGbfKCWgnXCq"
      },
      "source": [
        "Cambie el ID del proceso que solo diga ./tp1P1.bin"
      ]
    },
    {
      "cell_type": "code",
      "execution_count": null,
      "metadata": {
        "colab": {
          "base_uri": "https://localhost:8080/"
        },
        "id": "C12wEUc3i3ac",
        "outputId": "368316a7-4cd6-437f-d38a-9cff227ee907"
      },
      "outputs": [
        {
          "output_type": "stream",
          "name": "stdout",
          "text": [
            "tp1P1.bin─┬─tp1P1.bin─┬─tp1P1.bin\n",
            "          │           └─tp1P1.bin─┬─tp1P1.bin\n",
            "          │                       └─tp1P1.bin───tp1P1.bin\n",
            "          ├─tp1P1.bin\n",
            "          └─tp1P1.bin───tp1P1.bin\n"
          ]
        }
      ],
      "source": [
        "!pstree 452"
      ]
    },
    {
      "cell_type": "markdown",
      "metadata": {
        "id": "ls9TM4VHnMsQ"
      },
      "source": [
        "**Salida del programa**"
      ]
    },
    {
      "cell_type": "code",
      "execution_count": null,
      "metadata": {
        "colab": {
          "base_uri": "https://localhost:8080/"
        },
        "id": "BZEeuw-Gm_HA",
        "outputId": "4f206014-13d7-485f-9da4-80d2e1f19310"
      },
      "outputs": [
        {
          "output_type": "stream",
          "name": "stdout",
          "text": [
            "Proceso: A, PID: 452, PPID: 1\n",
            "Proceso: B, PID: 453, PPID: 452\n",
            "Proceso: D, PID: 455, PPID: 452\n",
            "Proceso: F, PID: 457, PPID: 453\n",
            "Proceso: C, PID: 454, PPID: 452\n",
            "Proceso: G, PID: 458, PPID: 455\n",
            "Proceso: H, PID: 459, PPID: 457\n",
            "Proceso: E, PID: 456, PPID: 453\n",
            "Proceso: I, PID: 460, PPID: 457\n",
            "Proceso: J, PID: 461, PPID: 460\n"
          ]
        }
      ],
      "source": [
        "!cat salidaC"
      ]
    },
    {
      "cell_type": "markdown",
      "metadata": {
        "id": "b499MTwelxWA"
      },
      "source": [
        "**Matar al proceso de ser necesario**"
      ]
    },
    {
      "cell_type": "code",
      "execution_count": null,
      "metadata": {
        "id": "qF_XbdlFlwu3"
      },
      "outputs": [],
      "source": [
        "!kill 22929"
      ]
    },
    {
      "cell_type": "markdown",
      "source": [
        "## Parte 2"
      ],
      "metadata": {
        "id": "aBYGAWmXhGnD"
      }
    },
    {
      "cell_type": "markdown",
      "source": [
        "### Creación archivo"
      ],
      "metadata": {
        "id": "GeQUhQVRLuWB"
      }
    },
    {
      "cell_type": "code",
      "source": [
        "%%writefile TP1/Parte-2/tp1_p2_c++.cpp\n",
        "#include <chrono>\n",
        "#include <iostream>\n",
        "#include <thread>\n",
        "#include <vector>\n",
        "\n",
        "#define TAM_MATRIZ 10000\n",
        "#define CANT_HILOS 2\n",
        "#define ESCALAR 3\n",
        "\n",
        "using namespace std;\n",
        "using namespace std::chrono;\n",
        "\n",
        "int matrizMult[TAM_MATRIZ][TAM_MATRIZ] = {0};\n",
        "int matrizRS[TAM_MATRIZ][TAM_MATRIZ] = {0};\n",
        "int matrizRC[TAM_MATRIZ][TAM_MATRIZ] = {0};\n",
        "\n",
        "void cargarMatrizMult()\n",
        "{\n",
        "  for (int i = 0; i < TAM_MATRIZ; i++)\n",
        "  {\n",
        "    for (int j = 0; j < TAM_MATRIZ; j++)\n",
        "    {\n",
        "      matrizMult[i][j] = rand() % 10;\n",
        "    }\n",
        "  }\n",
        "}\n",
        "\n",
        "void cargarMatrizRS()\n",
        "{\n",
        "  for (int i = 0; i < TAM_MATRIZ; i++)\n",
        "  {\n",
        "    for (int j = 0; j < TAM_MATRIZ; j++)\n",
        "    {\n",
        "      matrizRS[i][j] = matrizMult[i][j] * ESCALAR;\n",
        "    }\n",
        "  }\n",
        "}\n",
        "\n",
        "void cargarFilasRC(int inicio, int fin)\n",
        "{\n",
        "  for (int i = inicio; i < fin; i++)\n",
        "  {\n",
        "    for (int j = 0; j < TAM_MATRIZ; j++)\n",
        "    {\n",
        "      matrizRC[i][j] = matrizMult[i][j] * ESCALAR;\n",
        "    }\n",
        "  }\n",
        "}\n",
        "\n",
        "void cargarMatrizRC()\n",
        "{\n",
        "  vector<thread> hilos;\n",
        "  int filasPorHilo = TAM_MATRIZ / CANT_HILOS;\n",
        "  int cantHilosAmpliados =\n",
        "      TAM_MATRIZ % CANT_HILOS; // Si existe resto, lo repartire entre hilos.\n",
        "  int inicio;\n",
        "  int fin = 0;\n",
        "  // Puede que cantHilosAmpliados sea 0, por lo que no entraria al primer for y\n",
        "  // fin no tendria valor, y en el segundo for inicio=fin, entonces fin=0 para\n",
        "  // que inicio empiece desde el principio.\n",
        "\n",
        "  for (int i = 0; i < cantHilosAmpliados; i++)\n",
        "  {\n",
        "    int filasFinales = filasPorHilo + 1;\n",
        "    inicio = i * filasFinales;\n",
        "    fin = inicio + filasFinales;\n",
        "\n",
        "    hilos.push_back(thread(cargarFilasRC, inicio, fin));\n",
        "  }\n",
        "\n",
        "  for (int i = cantHilosAmpliados; i < CANT_HILOS; i++)\n",
        "  {\n",
        "    inicio = fin;\n",
        "    fin = inicio + filasPorHilo;\n",
        "\n",
        "    hilos.push_back(thread(cargarFilasRC, inicio, fin));\n",
        "  }\n",
        "\n",
        "  for (int i = 0; i < CANT_HILOS; i++)\n",
        "  {\n",
        "    hilos[i].join();\n",
        "  }\n",
        "\n",
        "  hilos.clear();\n",
        "}\n",
        "\n",
        "void compararMatrices()\n",
        "{\n",
        "  bool hayDiferencia = false;\n",
        "\n",
        "  for (int i = 0; i < TAM_MATRIZ; i++)\n",
        "  {\n",
        "    for (int j = 0; j < TAM_MATRIZ; j++)\n",
        "    {\n",
        "      int valorRS = matrizRS[i][j];\n",
        "      int valorRC = matrizRC[i][j];\n",
        "      if (valorRS != valorRC)\n",
        "      {\n",
        "        hayDiferencia = true;\n",
        "        cout << \"Diferencia: RS[\" << i << \"][\" << j << \"]=\" << valorRS\n",
        "             << \" | RS[\" << i << \"][\" << j << \"]=\" << valorRC << endl;\n",
        "      }\n",
        "    }\n",
        "  }\n",
        "\n",
        "  if (!hayDiferencia)\n",
        "  {\n",
        "    cout << \"Las matrices RS y RC son iguales.\" << endl;\n",
        "  }\n",
        "}\n",
        "\n",
        "int main(int argc, char const *argv[])\n",
        "{\n",
        "  srand(time(NULL));\n",
        "\n",
        "  cargarMatrizMult();\n",
        "\n",
        "  cout << \"Tamaño de matriz: \" << TAM_MATRIZ << \" x \" << TAM_MATRIZ << endl;\n",
        "\n",
        "  // Iniciar el reloj\n",
        "  auto inicio = high_resolution_clock::now();\n",
        "  // auto le dice al compilador que determine el tipo de la variable en funcion\n",
        "  // del tipo de expresion con la que se inicializa. Util cuando el tipo del\n",
        "  // objeto devuelto por una funcion es complejo o dificil de escribir\n",
        "  // explicitamente. La variable sigue siendo estaticamente tipada, no dinamica.\n",
        "\n",
        "  // Llamar a la función que deseo medir\n",
        "  cargarMatrizRS();\n",
        "\n",
        "  // Detener el reloj\n",
        "  auto fin = high_resolution_clock::now();\n",
        "\n",
        "  // Calcular la duración en milisegundos\n",
        "  auto duracion = duration_cast<milliseconds>(fin - inicio);\n",
        "\n",
        "  // Imprimir el tiempo transcurrido\n",
        "  cout << \"La función cargarMatrizRS() tardó \" << duracion.count()\n",
        "       << \" milisegundos.\" << endl;\n",
        "\n",
        "  // Iniciar el reloj\n",
        "  inicio = high_resolution_clock::now();\n",
        "\n",
        "  // Llamar a la función que deseo medir\n",
        "  cargarMatrizRC();\n",
        "\n",
        "  // Detener el reloj\n",
        "  fin = high_resolution_clock::now();\n",
        "\n",
        "  // Calcular la duración en milisegundos\n",
        "  duracion = duration_cast<milliseconds>(fin - inicio);\n",
        "\n",
        "  // Imprimir el tiempo transcurrido\n",
        "  cout << \"La función cargarMatrizRC() utilizó \" << CANT_HILOS\n",
        "       << \" hilo/s y tardó \" << duracion.count() << \" milisegundos.\" << endl;\n",
        "\n",
        "  compararMatrices();\n",
        "\n",
        "  return 0;\n",
        "}"
      ],
      "metadata": {
        "id": "BbmQ2lxGhSb_",
        "colab": {
          "base_uri": "https://localhost:8080/"
        },
        "outputId": "138e1347-8898-4294-f3ac-58ea8de1dba9"
      },
      "execution_count": null,
      "outputs": [
        {
          "output_type": "stream",
          "name": "stdout",
          "text": [
            "Overwriting TP1/Parte-2/tp1_p2_c++.cpp\n"
          ]
        }
      ]
    },
    {
      "cell_type": "markdown",
      "source": [
        "### Compilación"
      ],
      "metadata": {
        "id": "joyXDnwrMPQC"
      }
    },
    {
      "cell_type": "code",
      "source": [
        "!g++ -o tp1P2.bin TP1/Parte-2/tp1_p2_c++.cpp"
      ],
      "metadata": {
        "id": "X5z0n1QcMdWN"
      },
      "execution_count": null,
      "outputs": []
    },
    {
      "cell_type": "markdown",
      "source": [
        "### Ejecución"
      ],
      "metadata": {
        "id": "ToPBHXM3OuM7"
      }
    },
    {
      "cell_type": "code",
      "source": [
        "!./tp1P2.bin"
      ],
      "metadata": {
        "colab": {
          "base_uri": "https://localhost:8080/"
        },
        "id": "ey3O0rb-NVe1",
        "outputId": "dda7bbc1-0a7c-43c7-c8d3-c3bf832f427a"
      },
      "execution_count": null,
      "outputs": [
        {
          "output_type": "stream",
          "name": "stdout",
          "text": [
            "Tamaño de matriz: 10000 x 10000\n",
            "La función cargarMatrizRS() tardó 514 milisegundos.\n",
            "La función cargarMatrizRC() utilizó 2 hilo/s y tardó 414 milisegundos.\n",
            "Las matrices RS y RC son iguales.\n"
          ]
        }
      ]
    },
    {
      "cell_type": "markdown",
      "source": [
        "## Parte 3"
      ],
      "metadata": {
        "id": "32cLjxDYEHYp"
      }
    },
    {
      "cell_type": "markdown",
      "source": [
        "#### Creacion Archivo"
      ],
      "metadata": {
        "id": "4ObtFwraEKhH"
      }
    },
    {
      "cell_type": "code",
      "source": [
        "%%writefile TP1/Parte-3/tp1_p3_c++.cpp\n",
        "#include <iostream>\n",
        "#include <thread>\n",
        "#include <vector>\n",
        "#include <unistd.h>\n",
        "#include <stdlib.h>\n",
        "#include <string.h>\n",
        "#include <sys/types.h>\n",
        "#include <map>\n",
        "#include <vector>\n",
        "#include <fstream>\n",
        "#include <atomic>\n",
        "#include <sstream>\n",
        "#include <chrono>\n",
        "#include <mutex>\n",
        "#include <unordered_map>\n",
        "\n",
        "// Lo que arruina mucho el tiempo es el mapa debido a que hay que usar mutex. Hay bibliotecas como tbb o Folly que tienen\n",
        "// mapas con una sicronizacion interna, parecido a un atomic pero se complica mucho pasarlo de maquina a maquina por que hay que\n",
        "// instalar muchas dependencias\n",
        "\n",
        "using namespace std;\n",
        "using namespace std::chrono;\n",
        "// MUTEX\n",
        "mutex mtx_palabras;\n",
        "mutex mtx_caracteres;\n",
        "mutex mtx_espacios;\n",
        "\n",
        "mutex mtx_mapa;\n",
        "\n",
        "// Global Vars\n",
        "int cant_lineas = 0;\n",
        "atomic<int> cant_palabras(0);\n",
        "atomic<int> cant_caracteres(0);\n",
        "atomic<int> cant_espacios(0);\n",
        "\n",
        "int cant_lineas_mtx = 0;\n",
        "int cant_palabras_mtx = 0;\n",
        "int cant_caracteres_mtx = 0;\n",
        "int cant_espacios_mtx = 0;\n",
        "\n",
        "unordered_map<string, int> word_count;\n",
        "unordered_map<string, int> word_count_mtx;\n",
        "\n",
        "// Funciones\n",
        "void resolucion_atomic(string file_name);\n",
        "void creacion_hilos_atomic(fstream *file);\n",
        "void mostrar_atomic();\n",
        "void calculo_atomic(string line);\n",
        "void resolucion_mutex(string file_name);\n",
        "void creacion_hilos_mutex(fstream *file);\n",
        "void mostrar_mutex();\n",
        "void calculo_mutex(string line);\n",
        "\n",
        "// MAIN\n",
        "int main(int argc, char const *argv[]){\n",
        "\n",
        "    string file_name;\n",
        "\n",
        "    if(argc == 2)\n",
        "    {\n",
        "        file_name=argv[1];\n",
        "        cout <<\"RTA :\"<< endl;\n",
        "    }\n",
        "    else\n",
        "    {\n",
        "        cerr << \"Falta nombre de archivo\"<<endl;\n",
        "        return -1;\n",
        "    }\n",
        "\n",
        "    try\n",
        "    {\n",
        "        resolucion_atomic(file_name);\n",
        "        resolucion_mutex(file_name);\n",
        "\n",
        "    } catch (const exception &e)\n",
        "    {\n",
        "        cerr << \"Error durante el cálculo: \" << e.what() << endl;\n",
        "        return -1;\n",
        "    }\n",
        "\n",
        "    return 0;\n",
        "}\n",
        "\n",
        "void resolucion_atomic(string file_name)\n",
        "{\n",
        "    fstream file;\n",
        "    file.open(file_name, ios::in);\n",
        "    if (!file)\n",
        "\t\tcerr << \"Error al abrir el archivo\";\n",
        "    cout<<\"================= C++ =========================\"<<endl;\n",
        "    auto inicio = high_resolution_clock::now();\n",
        "\n",
        "    creacion_hilos_atomic(&file);\n",
        "\n",
        "    auto fin = high_resolution_clock::now();\n",
        "    auto duracion = duration_cast<milliseconds>(fin - inicio);\n",
        "\n",
        "    mostrar_atomic();\n",
        "    cout<<\"=========== calculo_con_atomic \" << duracion.count() << \" ms.\" \"================\"<<endl;\n",
        "    file.close();\n",
        "}\n",
        "\n",
        "void creacion_hilos_atomic(fstream *file)\n",
        "{\n",
        "    string  line;\n",
        "    vector<thread> hilos;\n",
        "\n",
        "    int treads_not_detached = 0;\n",
        "    while(getline(*file,line))\n",
        "    {\n",
        "        hilos.push_back(thread(calculo_atomic, line));\n",
        "        treads_not_detached++;\n",
        "        if (treads_not_detached > 10000)\n",
        "        {\n",
        "            for (auto &t : hilos)\n",
        "                if (t.joinable())\n",
        "                    t.join();\n",
        "            treads_not_detached = 0;\n",
        "        }\n",
        "\n",
        "        cant_lineas++;\n",
        "    }\n",
        "\n",
        "    for (auto &t : hilos)\n",
        "        if (t.joinable())\n",
        "            t.join();\n",
        "\n",
        "    file->close();\n",
        "}\n",
        "\n",
        "void mostrar_atomic()\n",
        "{\n",
        "    cout << \"Cantidad de Lineas: \" << cant_lineas << endl;\n",
        "    cout << \"Cantidad de Caracteres: \" << cant_caracteres << endl;\n",
        "    cout << \"Cantidad de Palabras: \" << cant_palabras << endl;\n",
        "    cout << \"Cantidad de Espacios: \" << cant_espacios << endl;\n",
        "    int max_val = 0;\n",
        "    string max_key;\n",
        "    for (const auto &p : word_count)\n",
        "    {\n",
        "        if (p.second > max_val)\n",
        "        {\n",
        "            max_val = p.second;\n",
        "            max_key = p.first;\n",
        "        }\n",
        "    }\n",
        "    cout << \"Palabra con mas repeticion '\" << max_key << \"', con \" << max_val << \" repeticiones \" << endl;\n",
        "}\n",
        "\n",
        "void calculo_atomic(string line)\n",
        "{\n",
        "    istringstream iss(line);\n",
        "    string word;\n",
        "    while (iss >> word)\n",
        "    {\n",
        "         if (word != \" \")\n",
        "         {\n",
        "            atomic_fetch_add(&cant_palabras, 1);\n",
        "            mtx_mapa.lock();\n",
        "            word_count[word]++;\n",
        "            mtx_mapa.unlock();\n",
        "         }\n",
        "    }\n",
        "    for (char c : line)\n",
        "        if (c == ' ')\n",
        "            atomic_fetch_add(&cant_espacios, 1);\n",
        "        else\n",
        "            atomic_fetch_add(&cant_caracteres, 1);\n",
        "}\n",
        "\n",
        "void resolucion_mutex(string file_name)\n",
        "{\n",
        "    fstream file;\n",
        "    file.open(file_name, ios::in);\n",
        "    if (!file)\n",
        "\t\tcerr << \"Error al abrir el archivo\";\n",
        "    cout<<\"================= C++ =========================\"<<endl;\n",
        "    auto inicio = high_resolution_clock::now();\n",
        "\n",
        "    creacion_hilos_mutex(&file);\n",
        "\n",
        "    auto fin = high_resolution_clock::now();\n",
        "    auto duracion = duration_cast<milliseconds>(fin - inicio);\n",
        "\n",
        "    mostrar_mutex();\n",
        "    cout<<\"=========== calculo_con_mutex \" << duracion.count() << \" ms.\" \"================\"<<endl;\n",
        "    file.close();\n",
        "}\n",
        "\n",
        "void creacion_hilos_mutex(fstream *file)\n",
        "{\n",
        "    string  line;\n",
        "    vector<thread> hilos;\n",
        "\n",
        "    while(getline(*file,line))\n",
        "    {\n",
        "        hilos.push_back(thread(calculo_mutex, line));\n",
        "        if (cant_lineas_mtx > 10000)\n",
        "        {\n",
        "            for (auto &t : hilos)\n",
        "                if (t.joinable())\n",
        "                    t.join();\n",
        "        }\n",
        "        cant_lineas_mtx++;\n",
        "    }\n",
        "\n",
        "    for (auto &t : hilos)\n",
        "        if (t.joinable())\n",
        "            t.join();\n",
        "\n",
        "    file->close();\n",
        "}\n",
        "\n",
        "void mostrar_mutex()\n",
        "{\n",
        "    cout << \"Cantidad de Lineas: \" << cant_lineas_mtx << endl;\n",
        "    cout << \"Cantidad de Caracteres: \" << cant_caracteres_mtx << endl;\n",
        "    cout << \"Cantidad de Palabras: \" << cant_palabras_mtx << endl;\n",
        "    cout << \"Cantidad de Espacios: \" << cant_espacios_mtx << endl;\n",
        "    int max_val = 0;\n",
        "    string max_key;\n",
        "    for (const auto &p : word_count_mtx)\n",
        "    {\n",
        "        if (p.second > max_val)\n",
        "        {\n",
        "            max_val = p.second;\n",
        "            max_key = p.first;\n",
        "        }\n",
        "    }\n",
        "    cout << \"Palabra con mas repeticion '\" << max_key << \"', con \" << max_val << \" repeticiones \" << endl;\n",
        "}\n",
        "\n",
        "void calculo_mutex(string line) {\n",
        "    istringstream iss(line);\n",
        "    string word;\n",
        "\n",
        "    while (iss >> word) {\n",
        "        if (word != \" \") {\n",
        "            mtx_palabras.lock();\n",
        "            cant_palabras_mtx++;\n",
        "            mtx_palabras.unlock();\n",
        "            mtx_mapa.lock();\n",
        "            word_count_mtx[word]++;\n",
        "            mtx_mapa.unlock();\n",
        "        }\n",
        "    }\n",
        "\n",
        "    for (char c : line) {\n",
        "        if (c == ' ') {\n",
        "            mtx_espacios.lock();\n",
        "            cant_espacios_mtx++;\n",
        "            mtx_espacios.unlock();\n",
        "        } else {\n",
        "            mtx_caracteres.lock();\n",
        "            cant_caracteres_mtx++;\n",
        "            mtx_caracteres.unlock();\n",
        "        }\n",
        "    }\n",
        "}\n",
        "\n"
      ],
      "metadata": {
        "id": "aaFdYUUQE9Tm",
        "colab": {
          "base_uri": "https://localhost:8080/"
        },
        "outputId": "02b4c8d9-fb78-4fed-e96f-44508da689a4"
      },
      "execution_count": null,
      "outputs": [
        {
          "output_type": "stream",
          "name": "stdout",
          "text": [
            "Writing TP1/Parte-3/tp1_p3_c++.cpp\n"
          ]
        }
      ]
    },
    {
      "cell_type": "markdown",
      "source": [
        "#### Compilacion"
      ],
      "metadata": {
        "id": "jBWTMbAsEM9t"
      }
    },
    {
      "cell_type": "code",
      "source": [
        "!g++ -o exe TP1/Parte-3/tp1_p3_c++.cpp"
      ],
      "metadata": {
        "id": "j_tzoIhZFRwQ"
      },
      "execution_count": null,
      "outputs": []
    },
    {
      "cell_type": "markdown",
      "source": [
        "#### Ejecucion"
      ],
      "metadata": {
        "id": "dFxHu_SZETJh"
      }
    },
    {
      "cell_type": "code",
      "source": [
        "./exe archivo1k.txt"
      ],
      "metadata": {
        "id": "SUuYz4XmFTe8"
      },
      "execution_count": null,
      "outputs": []
    },
    {
      "cell_type": "markdown",
      "metadata": {
        "id": "9Hx7JxYiD_yZ"
      },
      "source": [
        "# Código en JAVA\n",
        "\n",
        "\n"
      ]
    },
    {
      "cell_type": "markdown",
      "metadata": {
        "id": "iXvk_eQnEO-Y"
      },
      "source": [
        "## Parte 1"
      ]
    },
    {
      "cell_type": "markdown",
      "source": [
        "### Creación archivo"
      ],
      "metadata": {
        "id": "ALQkfJt4oIW3"
      }
    },
    {
      "cell_type": "code",
      "source": [
        "%%writefile TP1/Parte-1/tp1_p1_java.java\n",
        "import java.io.IOException;\n",
        "import java.util.ArrayList;\n",
        "import java.util.Map;\n",
        "import java.util.Set;\n",
        "\n",
        "class ProcessTree\n",
        "{\n",
        "  static Map<Character, Set<Character>> processMap = Map.of (\n",
        "      'A', Set.of('B', 'C', 'D'),\n",
        "      'B', Set.of('E', 'F'),\n",
        "      'F', Set.of('H', 'I'),\n",
        "      'I', Set.of('J'),\n",
        "      'D', Set.of('G')\n",
        "  );\n",
        "\n",
        "  static ArrayList<Process> processList = new ArrayList<>();\n",
        "\n",
        "  static final int SLEEP_TIME = 100000;\n",
        "  // Milliseconds\n",
        "\n",
        "  public static void showInfo ( char processName )\n",
        "  {\n",
        "    ProcessHandle me = ProcessHandle.current();\n",
        "    long pid  = me.pid();\n",
        "    long ppid = me.parent().get().pid();\n",
        "    System.out.println( \"Process \" + processName + \", PID: \" + pid\n",
        "        + \", PPID: \" + ppid );\n",
        "  }\n",
        "\n",
        "  public static void createChilds ( char processName ) throws IOException,\n",
        "      InterruptedException\n",
        "  {\n",
        "    if ( processMap.containsKey(processName) )\n",
        "    {\n",
        "      for ( char son : processMap.get(processName) )\n",
        "      {\n",
        "        ProcessBuilder builder = new ProcessBuilder(\"java\",\n",
        "            \"TP1/Parte-1/tp1_p1_java.java\", String.valueOf(son));\n",
        "        builder.inheritIO();\n",
        "        Process process = builder.start();\n",
        "        processList.add(process);\n",
        "      }\n",
        "    }\n",
        "    else\n",
        "    {\n",
        "      Thread.sleep(SLEEP_TIME);\n",
        "    }\n",
        "  }\n",
        "\n",
        "  public static void waitChilds ( ) throws InterruptedException\n",
        "  {\n",
        "    for ( Process p : processList )\n",
        "    {\n",
        "      p.waitFor();\n",
        "    }\n",
        "  }\n",
        "\n",
        "  public static void main ( String[] args ) throws IOException,\n",
        "      InterruptedException\n",
        "  {\n",
        "    char root = 'A';\n",
        "    char process = ( args.length > 0 ) ? args[0].charAt(0) : root;\n",
        "    showInfo(process);\n",
        "    createChilds(process);\n",
        "    waitChilds();\n",
        "  }\n",
        "}"
      ],
      "metadata": {
        "colab": {
          "base_uri": "https://localhost:8080/",
          "height": 465
        },
        "id": "rOlXzn2hkXrY",
        "outputId": "0822525d-0fb0-49c8-b35d-865cb5087951"
      },
      "execution_count": null,
      "outputs": [
        {
          "output_type": "stream",
          "name": "stdout",
          "text": [
            "Writing TP1/Parte-1/tp1_p1_java.java\n"
          ]
        },
        {
          "output_type": "error",
          "ename": "FileNotFoundError",
          "evalue": "[Errno 2] No such file or directory: 'TP1/Parte-1/tp1_p1_java.java'",
          "traceback": [
            "\u001b[0;31m---------------------------------------------------------------------------\u001b[0m",
            "\u001b[0;31mFileNotFoundError\u001b[0m                         Traceback (most recent call last)",
            "\u001b[0;32m<ipython-input-2-e9f8a1a715a1>\u001b[0m in \u001b[0;36m<cell line: 1>\u001b[0;34m()\u001b[0m\n\u001b[0;32m----> 1\u001b[0;31m \u001b[0mget_ipython\u001b[0m\u001b[0;34m(\u001b[0m\u001b[0;34m)\u001b[0m\u001b[0;34m.\u001b[0m\u001b[0mrun_cell_magic\u001b[0m\u001b[0;34m(\u001b[0m\u001b[0;34m'writefile'\u001b[0m\u001b[0;34m,\u001b[0m \u001b[0;34m'TP1/Parte-1/tp1_p1_java.java'\u001b[0m\u001b[0;34m,\u001b[0m \u001b[0;34m'import java.io.IOException;\\nimport java.util.ArrayList;\\nimport java.util.Map;\\nimport java.util.Set;\\n\\nclass ProcessTree\\n{\\n  static Map<Character, Set<Character>> processMap = Map.of (\\n      \\'A\\', Set.of(\\'B\\', \\'C\\', \\'D\\'),\\n      \\'B\\', Set.of(\\'E\\', \\'F\\'),\\n      \\'F\\', Set.of(\\'H\\', \\'I\\'),\\n      \\'I\\', Set.of(\\'J\\'),\\n      \\'D\\', Set.of(\\'G\\')\\n  );\\n\\n  static ArrayList<Process> processList = new ArrayList<>();\\n\\n  static final int SLEEP_TIME = 100000;\\n  // Milliseconds\\n\\n  public static void showInfo ( char processName )\\n  {\\n    ProcessHandle me = ProcessHandle.current();\\n    long pid  = me.pid();\\n    long ppid = me.parent().get().pid();\\n    System.out.println( \"Process \" + processName + \", PID: \" + pid\\n        + \", PPID: \" + ppid );\\n  }\\n\\n  public static void createChilds ( char processName ) throws IOException,\\n      InterruptedException\\n  {\\n    if ( processMap.containsKey(processName) )\\n    {\\n      for ( char son : processMap.get(processName) )\\n      {\\n        ProcessBuilder builder = new ProcessBuilder(\"java\",\\n            \"TP1/Parte-1/tp1_p1_java.java\", String.valueOf(son));\\n        builder.inheritIO();\\n        Process process = builder.start();\\n        processList.add(process);\\n      }\\n    }\\n    else\\n    {\\n      Thread....\n\u001b[0m",
            "\u001b[0;32m/usr/local/lib/python3.10/dist-packages/google/colab/_shell.py\u001b[0m in \u001b[0;36mrun_cell_magic\u001b[0;34m(self, magic_name, line, cell)\u001b[0m\n\u001b[1;32m    332\u001b[0m     \u001b[0;32mif\u001b[0m \u001b[0mline\u001b[0m \u001b[0;32mand\u001b[0m \u001b[0;32mnot\u001b[0m \u001b[0mcell\u001b[0m\u001b[0;34m:\u001b[0m\u001b[0;34m\u001b[0m\u001b[0;34m\u001b[0m\u001b[0m\n\u001b[1;32m    333\u001b[0m       \u001b[0mcell\u001b[0m \u001b[0;34m=\u001b[0m \u001b[0;34m' '\u001b[0m\u001b[0;34m\u001b[0m\u001b[0;34m\u001b[0m\u001b[0m\n\u001b[0;32m--> 334\u001b[0;31m     \u001b[0;32mreturn\u001b[0m \u001b[0msuper\u001b[0m\u001b[0;34m(\u001b[0m\u001b[0;34m)\u001b[0m\u001b[0;34m.\u001b[0m\u001b[0mrun_cell_magic\u001b[0m\u001b[0;34m(\u001b[0m\u001b[0mmagic_name\u001b[0m\u001b[0;34m,\u001b[0m \u001b[0mline\u001b[0m\u001b[0;34m,\u001b[0m \u001b[0mcell\u001b[0m\u001b[0;34m)\u001b[0m\u001b[0;34m\u001b[0m\u001b[0;34m\u001b[0m\u001b[0m\n\u001b[0m\u001b[1;32m    335\u001b[0m \u001b[0;34m\u001b[0m\u001b[0m\n\u001b[1;32m    336\u001b[0m \u001b[0;34m\u001b[0m\u001b[0m\n",
            "\u001b[0;32m/usr/local/lib/python3.10/dist-packages/IPython/core/interactiveshell.py\u001b[0m in \u001b[0;36mrun_cell_magic\u001b[0;34m(self, magic_name, line, cell)\u001b[0m\n\u001b[1;32m   2471\u001b[0m             \u001b[0;32mwith\u001b[0m \u001b[0mself\u001b[0m\u001b[0;34m.\u001b[0m\u001b[0mbuiltin_trap\u001b[0m\u001b[0;34m:\u001b[0m\u001b[0;34m\u001b[0m\u001b[0;34m\u001b[0m\u001b[0m\n\u001b[1;32m   2472\u001b[0m                 \u001b[0margs\u001b[0m \u001b[0;34m=\u001b[0m \u001b[0;34m(\u001b[0m\u001b[0mmagic_arg_s\u001b[0m\u001b[0;34m,\u001b[0m \u001b[0mcell\u001b[0m\u001b[0;34m)\u001b[0m\u001b[0;34m\u001b[0m\u001b[0;34m\u001b[0m\u001b[0m\n\u001b[0;32m-> 2473\u001b[0;31m                 \u001b[0mresult\u001b[0m \u001b[0;34m=\u001b[0m \u001b[0mfn\u001b[0m\u001b[0;34m(\u001b[0m\u001b[0;34m*\u001b[0m\u001b[0margs\u001b[0m\u001b[0;34m,\u001b[0m \u001b[0;34m**\u001b[0m\u001b[0mkwargs\u001b[0m\u001b[0;34m)\u001b[0m\u001b[0;34m\u001b[0m\u001b[0;34m\u001b[0m\u001b[0m\n\u001b[0m\u001b[1;32m   2474\u001b[0m             \u001b[0;32mreturn\u001b[0m \u001b[0mresult\u001b[0m\u001b[0;34m\u001b[0m\u001b[0;34m\u001b[0m\u001b[0m\n\u001b[1;32m   2475\u001b[0m \u001b[0;34m\u001b[0m\u001b[0m\n",
            "\u001b[0;32m<decorator-gen-98>\u001b[0m in \u001b[0;36mwritefile\u001b[0;34m(self, line, cell)\u001b[0m\n",
            "\u001b[0;32m/usr/local/lib/python3.10/dist-packages/IPython/core/magic.py\u001b[0m in \u001b[0;36m<lambda>\u001b[0;34m(f, *a, **k)\u001b[0m\n\u001b[1;32m    185\u001b[0m     \u001b[0;31m# but it's overkill for just that one bit of state.\u001b[0m\u001b[0;34m\u001b[0m\u001b[0;34m\u001b[0m\u001b[0m\n\u001b[1;32m    186\u001b[0m     \u001b[0;32mdef\u001b[0m \u001b[0mmagic_deco\u001b[0m\u001b[0;34m(\u001b[0m\u001b[0marg\u001b[0m\u001b[0;34m)\u001b[0m\u001b[0;34m:\u001b[0m\u001b[0;34m\u001b[0m\u001b[0;34m\u001b[0m\u001b[0m\n\u001b[0;32m--> 187\u001b[0;31m         \u001b[0mcall\u001b[0m \u001b[0;34m=\u001b[0m \u001b[0;32mlambda\u001b[0m \u001b[0mf\u001b[0m\u001b[0;34m,\u001b[0m \u001b[0;34m*\u001b[0m\u001b[0ma\u001b[0m\u001b[0;34m,\u001b[0m \u001b[0;34m**\u001b[0m\u001b[0mk\u001b[0m\u001b[0;34m:\u001b[0m \u001b[0mf\u001b[0m\u001b[0;34m(\u001b[0m\u001b[0;34m*\u001b[0m\u001b[0ma\u001b[0m\u001b[0;34m,\u001b[0m \u001b[0;34m**\u001b[0m\u001b[0mk\u001b[0m\u001b[0;34m)\u001b[0m\u001b[0;34m\u001b[0m\u001b[0;34m\u001b[0m\u001b[0m\n\u001b[0m\u001b[1;32m    188\u001b[0m \u001b[0;34m\u001b[0m\u001b[0m\n\u001b[1;32m    189\u001b[0m         \u001b[0;32mif\u001b[0m \u001b[0mcallable\u001b[0m\u001b[0;34m(\u001b[0m\u001b[0marg\u001b[0m\u001b[0;34m)\u001b[0m\u001b[0;34m:\u001b[0m\u001b[0;34m\u001b[0m\u001b[0;34m\u001b[0m\u001b[0m\n",
            "\u001b[0;32m/usr/local/lib/python3.10/dist-packages/IPython/core/magics/osm.py\u001b[0m in \u001b[0;36mwritefile\u001b[0;34m(self, line, cell)\u001b[0m\n\u001b[1;32m    854\u001b[0m \u001b[0;34m\u001b[0m\u001b[0m\n\u001b[1;32m    855\u001b[0m         \u001b[0mmode\u001b[0m \u001b[0;34m=\u001b[0m \u001b[0;34m'a'\u001b[0m \u001b[0;32mif\u001b[0m \u001b[0margs\u001b[0m\u001b[0;34m.\u001b[0m\u001b[0mappend\u001b[0m \u001b[0;32melse\u001b[0m \u001b[0;34m'w'\u001b[0m\u001b[0;34m\u001b[0m\u001b[0;34m\u001b[0m\u001b[0m\n\u001b[0;32m--> 856\u001b[0;31m         \u001b[0;32mwith\u001b[0m \u001b[0mio\u001b[0m\u001b[0;34m.\u001b[0m\u001b[0mopen\u001b[0m\u001b[0;34m(\u001b[0m\u001b[0mfilename\u001b[0m\u001b[0;34m,\u001b[0m \u001b[0mmode\u001b[0m\u001b[0;34m,\u001b[0m \u001b[0mencoding\u001b[0m\u001b[0;34m=\u001b[0m\u001b[0;34m'utf-8'\u001b[0m\u001b[0;34m)\u001b[0m \u001b[0;32mas\u001b[0m \u001b[0mf\u001b[0m\u001b[0;34m:\u001b[0m\u001b[0;34m\u001b[0m\u001b[0;34m\u001b[0m\u001b[0m\n\u001b[0m\u001b[1;32m    857\u001b[0m             \u001b[0mf\u001b[0m\u001b[0;34m.\u001b[0m\u001b[0mwrite\u001b[0m\u001b[0;34m(\u001b[0m\u001b[0mcell\u001b[0m\u001b[0;34m)\u001b[0m\u001b[0;34m\u001b[0m\u001b[0;34m\u001b[0m\u001b[0m\n",
            "\u001b[0;31mFileNotFoundError\u001b[0m: [Errno 2] No such file or directory: 'TP1/Parte-1/tp1_p1_java.java'"
          ]
        }
      ]
    },
    {
      "cell_type": "markdown",
      "metadata": {
        "id": "IYrte02ZydKR"
      },
      "source": [
        "### Ejecución en segundo plano"
      ]
    },
    {
      "cell_type": "code",
      "execution_count": null,
      "metadata": {
        "id": "it7HYzCk1Tgh"
      },
      "outputs": [],
      "source": [
        "!nohup java TP1/Parte-1/tp1_p1_java.java 1>salidaJava.txt 2>/dev/null &"
      ]
    },
    {
      "cell_type": "markdown",
      "metadata": {
        "id": "lviQRb6Rygzn"
      },
      "source": [
        "### Lista de procesos en ejecución"
      ]
    },
    {
      "cell_type": "code",
      "execution_count": null,
      "metadata": {
        "colab": {
          "base_uri": "https://localhost:8080/"
        },
        "id": "TYD1RYHxt-Rz",
        "outputId": "7c255372-d60e-4c53-c013-67c4dbc44aaa"
      },
      "outputs": [
        {
          "output_type": "stream",
          "name": "stdout",
          "text": [
            "root        4771       1 47 22:01 ?        00:00:02 java TP1/Parte-1/tp1_p1_java.java\n",
            "root        4793    4771 62 22:01 ?        00:00:01 java TP1/Parte-1/tp1_p1_java.java B\n",
            "root        4795    4771 54 22:01 ?        00:00:01 java TP1/Parte-1/tp1_p1_java.java C\n",
            "root        4798    4771 69 22:01 ?        00:00:02 java TP1/Parte-1/tp1_p1_java.java D\n",
            "root        4865     225  0 22:01 ?        00:00:00 /bin/bash -c ps -ef | grep tp1_p1_java.java\n",
            "root        4867    4865  0 22:01 ?        00:00:00 grep tp1_p1_java.java\n"
          ]
        }
      ],
      "source": [
        "!ps -ef | grep tp1_p1_java.java"
      ]
    },
    {
      "cell_type": "markdown",
      "metadata": {
        "id": "IJdNGAg7yuGH"
      },
      "source": [
        "### Árbol de procesos"
      ]
    },
    {
      "cell_type": "code",
      "execution_count": null,
      "metadata": {
        "id": "qCrQ_MFa1ly6",
        "colab": {
          "base_uri": "https://localhost:8080/"
        },
        "outputId": "855fa1bd-7fbe-46e0-cbf6-0c45c21feb1d"
      },
      "outputs": [
        {
          "output_type": "stream",
          "name": "stdout",
          "text": [
            "java(4771)─┬─java(4793)─┬─java(4888)─┬─java(4948)───java(5004)\n",
            "           │            │            └─java(4951)\n",
            "           │            └─java(4891)\n",
            "           ├─java(4795)\n",
            "           └─java(4798)───java(4872)\n"
          ]
        }
      ],
      "source": [
        "!pstree -pT 4771"
      ]
    },
    {
      "cell_type": "markdown",
      "metadata": {
        "id": "xY30ef6IzGTA"
      },
      "source": [
        "### Salida del programa"
      ]
    },
    {
      "cell_type": "code",
      "execution_count": null,
      "metadata": {
        "id": "FDNSnGLSw5ga",
        "colab": {
          "base_uri": "https://localhost:8080/"
        },
        "outputId": "5bb81924-4bb9-4994-fc73-4e6e0006252d"
      },
      "outputs": [
        {
          "output_type": "stream",
          "name": "stdout",
          "text": [
            "Process A, PID: 4771, PPID: 1\n",
            "Process D, PID: 4798, PPID: 4771\n",
            "Process B, PID: 4793, PPID: 4771\n",
            "Process C, PID: 4795, PPID: 4771\n",
            "Process G, PID: 4872, PPID: 4798\n",
            "Process F, PID: 4888, PPID: 4793\n",
            "Process E, PID: 4891, PPID: 4793\n",
            "Process I, PID: 4948, PPID: 4888\n",
            "Process H, PID: 4951, PPID: 4888\n",
            "Process J, PID: 5004, PPID: 4948\n"
          ]
        }
      ],
      "source": [
        "!cat salidaJava.txt"
      ]
    },
    {
      "cell_type": "markdown",
      "source": [
        "## Parte 2"
      ],
      "metadata": {
        "id": "Ryl-BClgbGMm"
      }
    },
    {
      "cell_type": "code",
      "source": [
        "%%writefile TP1/Parte-2/tp1_p2_java.java\n",
        "import java.time.Duration;\n",
        "import java.time.Instant;\n",
        "import java.util.Arrays;\n",
        "import java.util.Random;\n",
        "\n",
        "public class Matrix\n",
        " {\n",
        "    private static final int ORDER = 10000;\n",
        "    private static final int THREADSNUM = 10;\n",
        "    private static final int SCALAR = 1000000000;\n",
        "    private static final int[][] mat = new int[ORDER][ORDER];\n",
        "    private static final int[][] matConc = new int[ORDER][ORDER];\n",
        "    private static final int[][] matSec = new int[ORDER][ORDER];\n",
        "    private static final Random rand = new Random();\n",
        "\n",
        "    public static void main(final String[] args)\n",
        "    {\n",
        "\n",
        "        initializeMatrix();\n",
        "\n",
        "        System.out.println(\"scalar: \" + SCALAR + \" order: \" + ORDER);\n",
        "\n",
        "        if (ORDER <= 10)\n",
        "        {\n",
        "            printMatrix(mat);\n",
        "        }\n",
        "\n",
        "        final Instant startRs = Instant.now();\n",
        "        secuentialScalarMultiplication();\n",
        "        final Instant finishRs = Instant.now();\n",
        "\n",
        "        System.out.println(\"Time of Sequential Matrix: \" + Duration.between(startRs, finishRs).toMillis() + \" ms\");\n",
        "\n",
        "        if (ORDER <= 10)\n",
        "        {\n",
        "            System.out.println(\"Matriz secuencial\");\n",
        "            printMatrix(matSec);\n",
        "        }\n",
        "\n",
        "        final Instant startRc = Instant.now();\n",
        "        concurrentScalarMultiplication();\n",
        "        final Instant finishRc = Instant.now();\n",
        "\n",
        "        System.out.println(\"Time of Concurrent Matrix: \" + Duration.between(startRc, finishRc).toMillis() + \" ms\");\n",
        "        System.out.println(\"Using \" + THREADSNUM + \" threads\");\n",
        "\n",
        "        if (ORDER <= 10)\n",
        "        {\n",
        "            System.out.println(\"Matriz concurrente\");\n",
        "            printMatrix(matConc);\n",
        "        }\n",
        "\n",
        "        System.out.println(\"Are matrices matConc and matSec equal? \" + Arrays.deepEquals(matConc, matSec));\n",
        "    }\n",
        "\n",
        "    public static void secuentialScalarMultiplication()\n",
        "    {\n",
        "        for (int i = 0; i < ORDER; i++)\n",
        "        {\n",
        "            for (int j = 0; j < ORDER; j++)\n",
        "            {\n",
        "                matSec[i][j] = mat[i][j] * SCALAR;\n",
        "            }\n",
        "        }\n",
        "    }\n",
        "\n",
        "    public static void concurrentScalarMultiplication()\n",
        "    {\n",
        "        final Thread[] threads = new Thread[THREADSNUM];\n",
        "\n",
        "        final int rowsPerThread = ORDER / THREADSNUM;\n",
        "\n",
        "        for (int i = 0; i < THREADSNUM; i++)\n",
        "        {\n",
        "            final int startRow = i * rowsPerThread;\n",
        "            //Esta línea garantiza que el último hilo procese todas las filas restantes si el orden no es perfectamente divisible por THREADSNUM.\n",
        "            //Garantiza que se procesen todas las filas, distribuyendo el trabajo de manera más uniforme.\n",
        "            final int endRow = (i == THREADSNUM - 1) ? ORDER : (i + 1) * rowsPerThread;\n",
        "\n",
        "            threads[i] = new Thread(() ->\n",
        "             {\n",
        "                for (int k = startRow; k < endRow; k++)\n",
        "                {\n",
        "                    for (int w = 0; w < ORDER; w++)\n",
        "                    {\n",
        "                        matConc[k][w] = mat[k][w] * SCALAR;\n",
        "                    }\n",
        "                }\n",
        "            });\n",
        "\n",
        "            threads[i].start();\n",
        "\n",
        "        }\n",
        "\n",
        "        for (final Thread thread : threads)\n",
        "        {\n",
        "            try\n",
        "            {\n",
        "                thread.join();\n",
        "            }\n",
        "            catch (final InterruptedException e)\n",
        "            {\n",
        "                e.printStackTrace();\n",
        "                Thread.currentThread().interrupt();\n",
        "            }\n",
        "        }\n",
        "    }\n",
        "\n",
        "    public static void printMatrix(final int[][] mat)\n",
        "    {\n",
        "        for (final int[] row : mat)\n",
        "        {\n",
        "            for (final int col : row)\n",
        "            {\n",
        "                System.out.print(col + \" \");\n",
        "            }\n",
        "            System.out.println();\n",
        "        }\n",
        "\n",
        "    }\n",
        "\n",
        "    public static void initializeMatrix()\n",
        "    {\n",
        "        final int min = 0;\n",
        "        final int max = 9;\n",
        "\n",
        "        for (int i = 0; i < ORDER; i++)\n",
        "        {\n",
        "            for (int j = 0; j < ORDER; j++)\n",
        "            {\n",
        "                mat[i][j] = rand.nextInt(max - min + 1) + min;\n",
        "            }\n",
        "        }\n",
        "\n",
        "    }\n",
        "}\n"
      ],
      "metadata": {
        "colab": {
          "base_uri": "https://localhost:8080/"
        },
        "id": "01y8sTdubMkI",
        "outputId": "40d2ccbe-b5cb-479a-ca30-4ea2f45f983a"
      },
      "execution_count": null,
      "outputs": [
        {
          "output_type": "stream",
          "name": "stdout",
          "text": [
            "Overwriting TP1/Parte-2/tp1_p2_java.java\n"
          ]
        }
      ]
    },
    {
      "cell_type": "markdown",
      "source": [
        "#### Ejecucion"
      ],
      "metadata": {
        "id": "YsaJNKFgVP_w"
      }
    },
    {
      "cell_type": "code",
      "source": [
        "!java /content/TP1/Parte-2/tp1_p2_java.java"
      ],
      "metadata": {
        "colab": {
          "base_uri": "https://localhost:8080/"
        },
        "id": "ZrSb57ejeeeW",
        "outputId": "7e63c550-e8a3-4751-91d6-ff82a9781477"
      },
      "execution_count": null,
      "outputs": [
        {
          "output_type": "stream",
          "name": "stdout",
          "text": [
            "scalar: 1000000000 order: 10000\n",
            "Time of Sequential Matrix: 96 ms\n",
            "Time of Concurrent Matrix: 200 ms\n",
            "Using 10 threads\n",
            "Are matrices matConc and matSec equal? true\n"
          ]
        }
      ]
    },
    {
      "cell_type": "markdown",
      "source": [
        "## Parte 3"
      ],
      "metadata": {
        "id": "uF3ZVh4lCMZR"
      }
    },
    {
      "cell_type": "markdown",
      "source": [
        "#### Creacion archivo"
      ],
      "metadata": {
        "id": "M-y0WnIA9qO1"
      }
    },
    {
      "cell_type": "code",
      "source": [
        "%%writefile TP1/Parte-3/tp1_p3_java.java\n",
        "import java.util.NoSuchElementException;\n",
        "import java.util.Scanner;\n",
        "\n",
        "public class Parte3\n",
        "{\n",
        "    static final String SIDE_A = \"LADO A\";\n",
        "    static final String SIDE_B = \"LADO B\";\n",
        "    static final String BEGIN = SIDE_A;\n",
        "    static final String FOX = \"Zorro\";\n",
        "    static final String CHICKEN = \"Pollo\";\n",
        "    static final String MAIZ = \"Maiz\";\n",
        "    static final String FARMER = \"Granjero\";\n",
        "    static final int OPTION_FARMER = 0;\n",
        "    static final int OPTION_FOX = 1;\n",
        "    static final int OPTION_CHICKEN = 2;\n",
        "    static final int OPTION_MAIZ = 3;\n",
        "    public static void main(String[] args)\n",
        "    {\n",
        "        InitialSide sideA = new InitialSide(SIDE_A);\n",
        "        EndSide sideB = new EndSide(SIDE_B);\n",
        "\n",
        "        sideA.setOtherSide(sideB);\n",
        "        sideB.setOtherSide(sideA);\n",
        "\n",
        "        sideA.start();\n",
        "        sideB.start();\n",
        "    }\n",
        "    static public class SideThread extends Thread\n",
        "    {\n",
        "        protected String name;\n",
        "        public StateLado state;\n",
        "        public volatile boolean running = true;\n",
        "        private String lastObject;\n",
        "\n",
        "        public SideThread(String name)\n",
        "        {\n",
        "            this.name = name;\n",
        "        }\n",
        "        public synchronized void stopThread()\n",
        "        {\n",
        "            this.running = false;\n",
        "        }\n",
        "\n",
        "        public String getNameSide()\n",
        "        {\n",
        "            return this.name;\n",
        "        }\n",
        "\n",
        "        public synchronized boolean isRunning()\n",
        "        {\n",
        "            return running;\n",
        "        }\n",
        "\n",
        "        public String getLastObject()\n",
        "        {\n",
        "            return this.lastObject;\n",
        "        }\n",
        "        public void setLastObject(String object)\n",
        "        {\n",
        "            this.lastObject = object;\n",
        "        }\n",
        "    }\n",
        "    static class InitialSide extends SideThread\n",
        "    {\n",
        "        private EndSide otherSide;\n",
        "\n",
        "        public InitialSide(String name)\n",
        "        {\n",
        "            super(name);\n",
        "            this.state = new StateLado(name,true);\n",
        "        }\n",
        "        public void setOtherSide(EndSide otherSide)\n",
        "        {\n",
        "            this.otherSide = otherSide;\n",
        "        }\n",
        "\n",
        "        public synchronized void run()\n",
        "        {\n",
        "            Scanner scanner = new Scanner(System.in);\n",
        "            try{\n",
        "                Mesagges.welcome();\n",
        "                while(running)\n",
        "                {\n",
        "                    this.state.menuBack(scanner,otherSide);\n",
        "                    if(!this.state.validate())\n",
        "                    {\n",
        "                        running = false;\n",
        "                        otherSide.stopThread();\n",
        "                        synchronized (otherSide)\n",
        "                        {\n",
        "                            otherSide.notify();\n",
        "                        }\n",
        "                        continue;\n",
        "                    }\n",
        "                    synchronized (otherSide)\n",
        "                    {\n",
        "                        otherSide.notify();\n",
        "                    }\n",
        "                    wait();\n",
        "                    if(!running)\n",
        "                        break;\n",
        "                    if(this.getLastObject() != null)\n",
        "                        this.state.refresh_states(this.getLastObject());\n",
        "                    else\n",
        "                        Mesagges.farmerAlone(this.state.site);\n",
        "\n",
        "                    this.state.farmer_in_site = !this.state.farmer_in_site;\n",
        "                    this.setLastObject(null);\n",
        "                }\n",
        "\n",
        "            }catch (InterruptedException e)\n",
        "            {\n",
        "                e.printStackTrace();\n",
        "            }\n",
        "            catch (NoSuchElementException e)\n",
        "            {\n",
        "                Mesagges.errorScanner();\n",
        "            }finally\n",
        "            {\n",
        "                scanner.close();\n",
        "                running = false;\n",
        "                otherSide.stopThread();\n",
        "            }\n",
        "        }\n",
        "\n",
        "    }\n",
        "\n",
        "    static class EndSide extends SideThread {\n",
        "        private InitialSide otherSide;\n",
        "\n",
        "        public EndSide(String name) {\n",
        "            super(name);\n",
        "            this.state = new StateLado(name);\n",
        "        }\n",
        "        public void setOtherSide(InitialSide otherSide) {\n",
        "            this.otherSide = otherSide;\n",
        "        }\n",
        "\n",
        "        public synchronized void run() {\n",
        "            Scanner scanner = new Scanner(System.in);\n",
        "            while (running) {\n",
        "                try {\n",
        "                    synchronized (this) {\n",
        "                        wait();\n",
        "                    }\n",
        "                    if(!running)\n",
        "                        break;\n",
        "                    String last = this.getLastObject();\n",
        "                    if(last != null && !last.isEmpty())\n",
        "                    {\n",
        "                        this.state.refresh_states(last);\n",
        "                    }\n",
        "                    else\n",
        "                    {\n",
        "                        Mesagges.farmerAlone(this.name);\n",
        "                    }\n",
        "                    this.state.farmer_in_site = !this.state.farmer_in_site;\n",
        "                    if (this.state.checkWin())\n",
        "                    {\n",
        "                        Mesagges.winRiddle();\n",
        "                        running = false;\n",
        "                        otherSide.stopThread();\n",
        "                        synchronized (otherSide)\n",
        "                        {\n",
        "                            otherSide.notify();\n",
        "                        }\n",
        "                        break;\n",
        "                    }\n",
        "                    state.menuBack(scanner,otherSide);\n",
        "                    if(!this.state.validate())\n",
        "                    {\n",
        "                        running = false;\n",
        "                        otherSide.stopThread();\n",
        "                    }\n",
        "                    this.setLastObject(null);\n",
        "                    synchronized (otherSide) {\n",
        "                        Mesagges.crossChange(name,otherSide.name);\n",
        "                        otherSide.notify();\n",
        "                    }\n",
        "                } catch (InterruptedException e) {\n",
        "                    e.printStackTrace();\n",
        "                }\n",
        "            }\n",
        "        }\n",
        "    }\n",
        "\n",
        "    static class StateLado\n",
        "    {\n",
        "        private boolean fox_in_site;\n",
        "        private boolean maiz_in_site;\n",
        "        private boolean chicken_in_site;\n",
        "        private boolean farmer_in_site;\n",
        "        private String site;\n",
        "\n",
        "        public StateLado(String site)\n",
        "        {\n",
        "            this.fox_in_site = false;\n",
        "            this.maiz_in_site = false;\n",
        "            this.chicken_in_site = false;\n",
        "            this.farmer_in_site = false;\n",
        "            this.site = site;\n",
        "        }\n",
        "        public StateLado(String site,boolean begin)\n",
        "        {\n",
        "            this.fox_in_site = begin;\n",
        "            this.maiz_in_site = begin;\n",
        "            this.chicken_in_site = begin;\n",
        "            this.farmer_in_site = begin;\n",
        "            this.site = site;\n",
        "        }\n",
        "        public boolean getFoxInSite(){\n",
        "            return this.fox_in_site;\n",
        "        }\n",
        "        public void setFoxInSite(boolean fox_in_site){\n",
        "            this.fox_in_site = fox_in_site;\n",
        "        }\n",
        "        public boolean getMaizInSite(){\n",
        "            return this.maiz_in_site;\n",
        "        }\n",
        "        public void setMaizInSite(boolean maiz_in_site){\n",
        "            this.maiz_in_site = maiz_in_site;\n",
        "        }\n",
        "        public boolean getChickenInSite(){\n",
        "            return this.chicken_in_site;\n",
        "        }\n",
        "        public void setChickenInSite(boolean chicken_in_site){\n",
        "            this.chicken_in_site = chicken_in_site;\n",
        "        }\n",
        "        public boolean getFarmerInSite(){\n",
        "            return this.farmer_in_site;\n",
        "        }\n",
        "        public void setFarmerInSite(boolean farmer_in_site){\n",
        "            this.farmer_in_site = farmer_in_site;\n",
        "        }\n",
        "\n",
        "        public synchronized boolean checkWin()\n",
        "        {\n",
        "            if(this.chicken_in_site && this.fox_in_site && this.maiz_in_site && this.farmer_in_site)\n",
        "            {\n",
        "                return true;\n",
        "            }\n",
        "            return false;\n",
        "        }\n",
        "        public synchronized void cross(String objeto, String otherSideString)\n",
        "        {\n",
        "            switch (objeto) {\n",
        "                case FARMER:\n",
        "                    break;\n",
        "                case FOX:\n",
        "                    this.fox_in_site = !this.fox_in_site;\n",
        "                    break;\n",
        "                case CHICKEN:\n",
        "                    this.chicken_in_site = !this.chicken_in_site;\n",
        "                    break;\n",
        "                case MAIZ:\n",
        "                    this.maiz_in_site = !this.maiz_in_site;\n",
        "                    break;\n",
        "            }\n",
        "            this.farmer_in_site = !this.farmer_in_site;\n",
        "        }\n",
        "        public synchronized boolean validate()\n",
        "        {\n",
        "            if (this.fox_in_site && this.chicken_in_site && !this.farmer_in_site)\n",
        "            {\n",
        "                Mesagges.messageValidate(FOX, CHICKEN,this.site);\n",
        "                return false;\n",
        "            } else if (this.chicken_in_site && this.maiz_in_site && !this.farmer_in_site)\n",
        "            {\n",
        "                Mesagges.messageValidate(CHICKEN, MAIZ, this.site);\n",
        "                return false;\n",
        "            }\n",
        "            return true;\n",
        "        }\n",
        "        public void menuBack(Scanner scanner,SideThread otherSide)\n",
        "        {\n",
        "            while (true)\n",
        "            {\n",
        "                System.out.println(\"======================== MENÚ LADO \"+ site +\" ========================\");\n",
        "                System.out.println(\"Por favor, ingrese cómo desea que el granjero viaje:\");\n",
        "                System.out.println(this.farmer_in_site ? \"0. Granjero solo\" : \"\");\n",
        "                System.out.println(this.fox_in_site ? \"1. Zorro\" : \"\");\n",
        "                System.out.println(this.chicken_in_site ? \"2. Chicken\" : \"\");\n",
        "                System.out.println(this.maiz_in_site ? \"3. Maiz\" : \"\");\n",
        "                System.out.print(\"¿Cruzar con?: \");\n",
        "                int option = scanner.nextInt();\n",
        "                if(processOption(option,otherSide) == true)\n",
        "                    break;\n",
        "            }\n",
        "        }\n",
        "\n",
        "        public synchronized boolean processOption(int option, SideThread otherSide)\n",
        "        {\n",
        "            switch (option)\n",
        "            {\n",
        "                case OPTION_FARMER:\n",
        "                    cross(FARMER, otherSide.getNameSide());\n",
        "                    break;\n",
        "                case OPTION_FOX:\n",
        "                    if (this.fox_in_site)\n",
        "                    {\n",
        "                        cross(FOX, otherSide.getNameSide());\n",
        "                        otherSide.setLastObject(FOX);\n",
        "                    } else {\n",
        "                        Mesagges.messageOtherSide(FOX);\n",
        "                        return false;\n",
        "                    }\n",
        "                    break;\n",
        "                case OPTION_CHICKEN:\n",
        "                    if (this.chicken_in_site)\n",
        "                    {\n",
        "                        cross(CHICKEN, otherSide.getNameSide());\n",
        "                        otherSide.setLastObject(CHICKEN);\n",
        "                    } else\n",
        "                    {\n",
        "                        Mesagges.messageOtherSide(CHICKEN);\n",
        "                        return false;\n",
        "                    }\n",
        "                    break;\n",
        "                case OPTION_MAIZ:\n",
        "                    if (this.maiz_in_site)\n",
        "                    {\n",
        "                        cross(MAIZ, otherSide.getNameSide());\n",
        "                        otherSide.setLastObject(MAIZ);\n",
        "                    } else\n",
        "                    {\n",
        "                        Mesagges.messageOtherSide(MAIZ);\n",
        "                        return false;\n",
        "                    }\n",
        "                    break;\n",
        "                default:\n",
        "                    Mesagges.messageError();\n",
        "                    return false;\n",
        "            }\n",
        "            return true;\n",
        "        }\n",
        "        public void refresh_states(String option)\n",
        "        {\n",
        "            if(option != null)\n",
        "            {\n",
        "                switch (option)\n",
        "                {\n",
        "                    case FOX:\n",
        "                        this.fox_in_site = !this.fox_in_site;\n",
        "                        Mesagges.messageCross(FOX, site);\n",
        "                        break;\n",
        "                    case CHICKEN:\n",
        "                        this.chicken_in_site = !this.chicken_in_site;\n",
        "                        Mesagges.messageCross(CHICKEN, site);\n",
        "                        break;\n",
        "                    case MAIZ:\n",
        "                        this.maiz_in_site = !this.maiz_in_site;\n",
        "                        Mesagges.messageCross(MAIZ, site);\n",
        "                        break;\n",
        "                    default:\n",
        "                        break;\n",
        "                }\n",
        "            }\n",
        "\n",
        "        }\n",
        "\n",
        "    }\n",
        "    public static class Mesagges\n",
        "    {\n",
        "        public static void welcome()\n",
        "        {\n",
        "            System.out.println(\"Bienvenido al problema del Zorro, el Pollo y el Maiz.\");\n",
        "        }\n",
        "        public static void messageError()\n",
        "        {\n",
        "            System.out.println(\"Se ha producido un error. Inténtalo de nuevo.\");\n",
        "        }\n",
        "        public static void invalidOption()\n",
        "        {\n",
        "            System.out.println(\"Opción inválida.\");\n",
        "        }\n",
        "        public static void messageOtherSide(String object)\n",
        "        {\n",
        "            System.out.println(\"El \" + object +\" ya está del otro lado.\");\n",
        "        }\n",
        "        public static void messageValidate(String object, String otherObject, String side)\n",
        "        {\n",
        "            System.out.println(\"¡La \"+ object +\" se comió el \"+ otherObject +\"! En el \"+side);\n",
        "            System.out.println(\"Fin del programa\");\n",
        "        }\n",
        "        public static void messageCross(String object, String side)\n",
        "        {\n",
        "            if(object==null)\n",
        "                System.out.println(FARMER + \" se encuentran en \"+ side);\n",
        "            else\n",
        "                System.out.println(FARMER + \" y \" + object + \" se encuentran en \"+side);\n",
        "        }\n",
        "        public static void crossChange(String side, String otherSide)\n",
        "        {\n",
        "            System.out.println(\"Cruzando de \" + side + \" a \" + otherSide);\n",
        "        }\n",
        "        public static void farmerAlone(String side)\n",
        "        {\n",
        "            System.out.println(\"El granjero llego a \" + side + \" solo.\" );\n",
        "        }\n",
        "\n",
        "        public static void errorScanner()\n",
        "        {\n",
        "            System.out.println(\"Se ha producido un error al leer la entrada. Inténtalo de nuevo.\");\n",
        "        }\n",
        "        public static void winRiddle()\n",
        "        {\n",
        "            System.out.println(\"Todos se encuentran en lado B\");\n",
        "            System.out.println(\"Fin del programa\");\n",
        "        }\n",
        "    }\n",
        "}\n"
      ],
      "metadata": {
        "colab": {
          "base_uri": "https://localhost:8080/"
        },
        "id": "ZhhRv7E1CXrt",
        "outputId": "19ae8cda-6cd6-465c-8806-6679753b2cb4"
      },
      "execution_count": null,
      "outputs": [
        {
          "output_type": "stream",
          "name": "stdout",
          "text": [
            "Overwriting TP1/Parte-3/tp1_p3_java.java\n"
          ]
        }
      ]
    },
    {
      "cell_type": "markdown",
      "source": [
        "#### Ejecucion"
      ],
      "metadata": {
        "id": "04PmwVCcCp60"
      }
    },
    {
      "cell_type": "code",
      "source": [
        "!java /content/TP1/Parte-3/tp1_p3_java.java"
      ],
      "metadata": {
        "colab": {
          "base_uri": "https://localhost:8080/"
        },
        "id": "3x__wOGxCwuE",
        "outputId": "68cbe669-3af7-4189-9773-d4d57b3e6174"
      },
      "execution_count": null,
      "outputs": [
        {
          "output_type": "stream",
          "name": "stdout",
          "text": [
            "Bienvenido al problema del Zorro, el Pollo y el Maiz.\n",
            "======================== MENÚ LADO LADO A ========================\n",
            "Por favor, ingrese cómo desea que el granjero viaje:\n",
            "0. Granjero solo\n",
            "1. Zorro\n",
            "2. Chicken\n",
            "3. Maiz\n",
            "¿Cruzar con?: 2\n",
            "Granjero y Pollo se encuentran en LADO B\n",
            "======================== MENÚ LADO LADO B ========================\n",
            "Por favor, ingrese cómo desea que el granjero viaje:\n",
            "0. Granjero solo\n",
            "\n",
            "2. Chicken\n",
            "\n",
            "¿Cruzar con?: 0\n",
            "Cruzando de LADO B a LADO A\n",
            "El granjero llego a LADO A solo.\n",
            "======================== MENÚ LADO LADO A ========================\n",
            "Por favor, ingrese cómo desea que el granjero viaje:\n",
            "0. Granjero solo\n",
            "1. Zorro\n",
            "\n",
            "3. Maiz\n",
            "¿Cruzar con?: 1\n",
            "Granjero y Zorro se encuentran en LADO B\n",
            "======================== MENÚ LADO LADO B ========================\n",
            "Por favor, ingrese cómo desea que el granjero viaje:\n",
            "0. Granjero solo\n",
            "1. Zorro\n",
            "2. Chicken\n",
            "\n",
            "¿Cruzar con?: 2\n",
            "Cruzando de LADO B a LADO A\n",
            "Granjero y Pollo se encuentran en LADO A\n",
            "======================== MENÚ LADO LADO A ========================\n",
            "Por favor, ingrese cómo desea que el granjero viaje:\n",
            "0. Granjero solo\n",
            "\n",
            "2. Chicken\n",
            "3. Maiz\n",
            "¿Cruzar con?: 3\n",
            "Granjero y Maiz se encuentran en LADO B\n",
            "======================== MENÚ LADO LADO B ========================\n",
            "Por favor, ingrese cómo desea que el granjero viaje:\n",
            "0. Granjero solo\n",
            "1. Zorro\n",
            "\n",
            "3. Maiz\n",
            "¿Cruzar con?: 0\n",
            "Cruzando de LADO B a LADO A\n",
            "El granjero llego a LADO A solo.\n",
            "======================== MENÚ LADO LADO A ========================\n",
            "Por favor, ingrese cómo desea que el granjero viaje:\n",
            "0. Granjero solo\n",
            "\n",
            "2. Chicken\n",
            "\n",
            "¿Cruzar con?: 2\n",
            "Granjero y Pollo se encuentran en LADO B\n",
            "Todos se encuentran en lado B\n",
            "Fin del programa\n"
          ]
        }
      ]
    },
    {
      "cell_type": "markdown",
      "metadata": {
        "id": "OV7p6RVuO3KQ"
      },
      "source": [
        "# Codigo en Rust\n",
        "\n",
        "\n"
      ]
    },
    {
      "cell_type": "markdown",
      "metadata": {
        "id": "TtKBSsXWP7QD"
      },
      "source": [
        "## Parte 1"
      ]
    },
    {
      "cell_type": "markdown",
      "source": [
        "### Dependencias\n",
        "Instalamos el compilador de rust, el administrador de proyectos cargo, y la libreria a utilizar"
      ],
      "metadata": {
        "id": "tKo33l0omeug"
      }
    },
    {
      "cell_type": "code",
      "execution_count": null,
      "metadata": {
        "colab": {
          "base_uri": "https://localhost:8080/"
        },
        "id": "ZJ9N2lNN00I9",
        "outputId": "a7da566a-86b0-43d8-85a7-11a6aeed4364"
      },
      "outputs": [
        {
          "output_type": "stream",
          "name": "stdout",
          "text": [
            "Reading package lists... Done\n",
            "Building dependency tree... Done\n",
            "Reading state information... Done\n",
            "The following additional packages will be installed:\n",
            "  libstd-rust-1.75 libstd-rust-dev\n",
            "Suggested packages:\n",
            "  cargo llvm-17 lld-17 clang-17\n",
            "The following NEW packages will be installed:\n",
            "  libstd-rust-1.75 libstd-rust-dev rustc\n",
            "0 upgraded, 3 newly installed, 0 to remove and 45 not upgraded.\n",
            "Need to get 91.4 MB of archives.\n",
            "After this operation, 369 MB of additional disk space will be used.\n",
            "Get:1 http://archive.ubuntu.com/ubuntu jammy-updates/main amd64 libstd-rust-1.75 amd64 1.75.0+dfsg0ubuntu1~bpo0-0ubuntu0.22.04 [46.3 MB]\n",
            "Get:2 http://archive.ubuntu.com/ubuntu jammy-updates/main amd64 libstd-rust-dev amd64 1.75.0+dfsg0ubuntu1~bpo0-0ubuntu0.22.04 [41.6 MB]\n",
            "Get:3 http://archive.ubuntu.com/ubuntu jammy-updates/main amd64 rustc amd64 1.75.0+dfsg0ubuntu1~bpo0-0ubuntu0.22.04 [3,404 kB]\n",
            "Fetched 91.4 MB in 4s (23.2 MB/s)\n",
            "debconf: unable to initialize frontend: Dialog\n",
            "debconf: (No usable dialog-like program is installed, so the dialog based frontend cannot be used. at /usr/share/perl5/Debconf/FrontEnd/Dialog.pm line 78, <> line 3.)\n",
            "debconf: falling back to frontend: Readline\n",
            "debconf: unable to initialize frontend: Readline\n",
            "debconf: (This frontend requires a controlling tty.)\n",
            "debconf: falling back to frontend: Teletype\n",
            "dpkg-preconfigure: unable to re-open stdin: \n",
            "Selecting previously unselected package libstd-rust-1.75:amd64.\n",
            "(Reading database ... 131015 files and directories currently installed.)\n",
            "Preparing to unpack .../libstd-rust-1.75_1.75.0+dfsg0ubuntu1~bpo0-0ubuntu0.22.04_amd64.deb ...\n",
            "Unpacking libstd-rust-1.75:amd64 (1.75.0+dfsg0ubuntu1~bpo0-0ubuntu0.22.04) ...\n",
            "Selecting previously unselected package libstd-rust-dev:amd64.\n",
            "Preparing to unpack .../libstd-rust-dev_1.75.0+dfsg0ubuntu1~bpo0-0ubuntu0.22.04_amd64.deb ...\n",
            "Unpacking libstd-rust-dev:amd64 (1.75.0+dfsg0ubuntu1~bpo0-0ubuntu0.22.04) ...\n",
            "Selecting previously unselected package rustc.\n",
            "Preparing to unpack .../rustc_1.75.0+dfsg0ubuntu1~bpo0-0ubuntu0.22.04_amd64.deb ...\n",
            "Unpacking rustc (1.75.0+dfsg0ubuntu1~bpo0-0ubuntu0.22.04) ...\n",
            "Setting up libstd-rust-1.75:amd64 (1.75.0+dfsg0ubuntu1~bpo0-0ubuntu0.22.04) ...\n",
            "Setting up libstd-rust-dev:amd64 (1.75.0+dfsg0ubuntu1~bpo0-0ubuntu0.22.04) ...\n",
            "Setting up rustc (1.75.0+dfsg0ubuntu1~bpo0-0ubuntu0.22.04) ...\n",
            "Processing triggers for man-db (2.10.2-1) ...\n",
            "Processing triggers for libc-bin (2.35-0ubuntu3.4) ...\n",
            "/sbin/ldconfig.real: /usr/local/lib/libtbb.so.12 is not a symbolic link\n",
            "\n",
            "/sbin/ldconfig.real: /usr/local/lib/libtbbmalloc_proxy.so.2 is not a symbolic link\n",
            "\n",
            "/sbin/ldconfig.real: /usr/local/lib/libtbbmalloc.so.2 is not a symbolic link\n",
            "\n",
            "/sbin/ldconfig.real: /usr/local/lib/libtbbbind_2_5.so.3 is not a symbolic link\n",
            "\n",
            "/sbin/ldconfig.real: /usr/local/lib/libtbbbind_2_0.so.3 is not a symbolic link\n",
            "\n",
            "/sbin/ldconfig.real: /usr/local/lib/libtbbbind.so.3 is not a symbolic link\n",
            "\n"
          ]
        }
      ],
      "source": [
        "!sudo apt-get install rustc\n"
      ]
    },
    {
      "cell_type": "code",
      "execution_count": null,
      "metadata": {
        "colab": {
          "base_uri": "https://localhost:8080/"
        },
        "id": "xoCGpzh-2qk-",
        "outputId": "7a67522c-3ecb-4017-ccbe-c0de4d64ac45"
      },
      "outputs": [
        {
          "output_type": "stream",
          "name": "stdout",
          "text": [
            "Reading package lists... Done\n",
            "Building dependency tree... Done\n",
            "Reading state information... Done\n",
            "Suggested packages:\n",
            "  cargo-doc\n",
            "The following NEW packages will be installed:\n",
            "  cargo\n",
            "0 upgraded, 1 newly installed, 0 to remove and 45 not upgraded.\n",
            "Need to get 6,700 kB of archives.\n",
            "After this operation, 23.3 MB of additional disk space will be used.\n",
            "Get:1 http://archive.ubuntu.com/ubuntu jammy-updates/universe amd64 cargo amd64 1.75.0+dfsg0ubuntu1~bpo0-0ubuntu0.22.04 [6,700 kB]\n",
            "Fetched 6,700 kB in 0s (17.2 MB/s)\n",
            "debconf: unable to initialize frontend: Dialog\n",
            "debconf: (No usable dialog-like program is installed, so the dialog based frontend cannot be used. at /usr/share/perl5/Debconf/FrontEnd/Dialog.pm line 78, <> line 1.)\n",
            "debconf: falling back to frontend: Readline\n",
            "debconf: unable to initialize frontend: Readline\n",
            "debconf: (This frontend requires a controlling tty.)\n",
            "debconf: falling back to frontend: Teletype\n",
            "dpkg-preconfigure: unable to re-open stdin: \n",
            "Selecting previously unselected package cargo.\n",
            "(Reading database ... 131090 files and directories currently installed.)\n",
            "Preparing to unpack .../cargo_1.75.0+dfsg0ubuntu1~bpo0-0ubuntu0.22.04_amd64.deb ...\n",
            "Unpacking cargo (1.75.0+dfsg0ubuntu1~bpo0-0ubuntu0.22.04) ...\n",
            "Setting up cargo (1.75.0+dfsg0ubuntu1~bpo0-0ubuntu0.22.04) ...\n",
            "Processing triggers for man-db (2.10.2-1) ...\n"
          ]
        }
      ],
      "source": [
        "!sudo apt-get install cargo"
      ]
    },
    {
      "cell_type": "code",
      "execution_count": null,
      "metadata": {
        "colab": {
          "base_uri": "https://localhost:8080/"
        },
        "id": "qR0wLh2m2-Xh",
        "outputId": "4745a0df-d172-4d04-fc5a-b9497da6ad66"
      },
      "outputs": [
        {
          "output_type": "stream",
          "name": "stdout",
          "text": [
            "cargo 1.75.0\n",
            "rustc 1.75.0 (82e1608df 2023-12-21) (built from a source tarball)\n"
          ]
        }
      ],
      "source": [
        "!cargo --version && rustc --version"
      ]
    },
    {
      "cell_type": "markdown",
      "metadata": {
        "id": "xQBMxxPWUQSS"
      },
      "source": [
        "### Crear el archivo"
      ]
    },
    {
      "cell_type": "markdown",
      "metadata": {
        "id": "7eDfVTYJhjCS"
      },
      "source": [
        "creamos un nuevo proyecto en donde se va a ejecutar el codigo"
      ]
    },
    {
      "cell_type": "code",
      "execution_count": null,
      "metadata": {
        "colab": {
          "base_uri": "https://localhost:8080/"
        },
        "id": "SXmN_loOS2kT",
        "outputId": "a53530c1-2e74-4670-f15f-791a07351f9b"
      },
      "outputs": [
        {
          "output_type": "stream",
          "name": "stdout",
          "text": [
            "\u001b[1m\u001b[32m     Created\u001b[0m binary (application) `/content/TP1/Parte-1/ej1_tp1_rust` package\n"
          ]
        }
      ],
      "source": [
        "!cargo new /content/TP1/Parte-1/ej1_tp1_rust"
      ]
    },
    {
      "cell_type": "markdown",
      "source": [
        "agregamos la libreria externa necesaria para el código"
      ],
      "metadata": {
        "id": "ITQ4xDlpF2OR"
      }
    },
    {
      "cell_type": "code",
      "execution_count": null,
      "metadata": {
        "colab": {
          "base_uri": "https://localhost:8080/"
        },
        "id": "3nPFbCh1R9Gh",
        "outputId": "75428339-8dcc-4796-9162-0d87ed1537b5"
      },
      "outputs": [
        {
          "output_type": "stream",
          "name": "stdout",
          "text": [
            "/bin/bash: line 1: cd: /content/TP1/Parte-1/ej1_tp1_rust: No such file or directory\n"
          ]
        }
      ],
      "source": [
        "!cd /content/TP1/Parte-1/ej1_tp1_rust && cargo add nix --features process"
      ]
    },
    {
      "cell_type": "markdown",
      "metadata": {
        "id": "mCt_0jm5hgpT"
      },
      "source": [
        "creamos el archivo"
      ]
    },
    {
      "cell_type": "code",
      "execution_count": null,
      "metadata": {
        "colab": {
          "base_uri": "https://localhost:8080/"
        },
        "id": "8ZeLH19zUcQ9",
        "outputId": "d20b4796-aed0-4961-b2de-c6a9e26ad188"
      },
      "outputs": [
        {
          "output_type": "stream",
          "name": "stdout",
          "text": [
            "Overwriting /content/TP1/Parte-1/ej1_tp1_rust/src/main.rs\n"
          ]
        }
      ],
      "source": [
        "%%writefile /content/TP1/Parte-1/ej1_tp1_rust/src/main.rs\n",
        "use nix::sys::wait::{wait};\n",
        "use nix::unistd::{fork, ForkResult};\n",
        "use std::collections::HashMap;\n",
        "use std::io::{Error, ErrorKind};\n",
        "use std::process::id;\n",
        "use std::{os::unix::process::parent_id, process::Command};\n",
        "\n",
        "fn main()\n",
        "{\n",
        "    let process_tree: HashMap<char, Vec<char>> = HashMap::from([\n",
        "        ('A', vec!['B', 'C', 'D']),\n",
        "        ('B', vec!['E', 'F']),\n",
        "        ('D', vec!['G']),\n",
        "        ('F', vec!['H', 'I']),\n",
        "        ('I', vec!['J']),\n",
        "    ]);\n",
        "\n",
        "    let seconds = 10;\n",
        "\n",
        "    if let Err(e) = create_fork(&process_tree, &'A', &seconds)\n",
        "    {\n",
        "        eprintln!(\"Error: {}\", e);\n",
        "        std::process::exit(1);\n",
        "    }\n",
        "}\n",
        "\n",
        "fn create_fork(\n",
        "    process_tree: &HashMap<char, Vec<char>>,\n",
        "    initial_node: &char,\n",
        "    seconds: &u32,\n",
        ") -> Result<(), Error>\n",
        "{\n",
        "    println!(\"Node {} id {} pid {}\", initial_node, id(), parent_id());\n",
        "    sleep_seconds(&1);\n",
        "\n",
        "    match process_tree.get(&initial_node)\n",
        "     {\n",
        "        Some(children) =>\n",
        "        {\n",
        "            for &next_child in children\n",
        "            {\n",
        "                match unsafe\n",
        "                {\n",
        "                  fork()\n",
        "                }\n",
        "                {\n",
        "                    Ok(ForkResult::Parent { .. }) => {}\n",
        "                    Ok(ForkResult::Child) =>\n",
        "                    {\n",
        "                        if let Err(e) = create_fork(process_tree, &next_child, seconds)\n",
        "                        {\n",
        "                            eprintln!(\"Error in child node: {}\", e);\n",
        "                            std::process::exit(1)\n",
        "                        }\n",
        "                        std::process::exit(0)\n",
        "                    }\n",
        "                    Err(e) => return Err(Error::new(ErrorKind::Other, format!(\"Error in fork: {}\", e))),\n",
        "                }\n",
        "            }\n",
        "            for _ in 0..children.len()\n",
        "            {\n",
        "                let _ = wait();\n",
        "            }\n",
        "        }\n",
        "        None => sleep_seconds(seconds),\n",
        "    }\n",
        "\n",
        "    println!(\"Ending node: {}\", initial_node);\n",
        "    Ok(())\n",
        "}\n",
        "\n",
        "fn sleep_seconds(seconds: &u32)\n",
        "{\n",
        "    Command::new(\"sleep\")\n",
        "        .arg(&seconds.to_string())\n",
        "        .output()\n",
        "        .expect(\"failure to execute process\");\n",
        "}"
      ]
    },
    {
      "cell_type": "markdown",
      "source": [
        "### Compilacion"
      ],
      "metadata": {
        "id": "OHMRH9wrFvPX"
      }
    },
    {
      "cell_type": "code",
      "source": [
        "!cd /content/TP1/Parte-1/ej1_tp1_rust && cargo build"
      ],
      "metadata": {
        "colab": {
          "base_uri": "https://localhost:8080/"
        },
        "id": "WP_KMd-fACmF",
        "outputId": "835bbc55-97b7-4caa-b9fd-14b8379d8d46"
      },
      "execution_count": null,
      "outputs": [
        {
          "output_type": "stream",
          "name": "stdout",
          "text": [
            "\u001b[1m\u001b[32m Downloading\u001b[0m crates ...\n",
            "\u001b[1m\u001b[32m  Downloaded\u001b[0m bitflags v2.5.0\n",
            "\u001b[1m\u001b[32m  Downloaded\u001b[0m cfg_aliases v0.1.1\n",
            "\u001b[1m\u001b[32m  Downloaded\u001b[0m cfg-if v1.0.0\n",
            "\u001b[1m\u001b[32m  Downloaded\u001b[0m nix v0.28.0\n",
            "\u001b[1m\u001b[32m  Downloaded\u001b[0m libc v0.2.153\n",
            "\u001b[1m\u001b[32m   Compiling\u001b[0m libc v0.2.153\n",
            "\u001b[1m\u001b[32m   Compiling\u001b[0m cfg_aliases v0.1.1\n",
            "\u001b[1m\u001b[32m   Compiling\u001b[0m nix v0.28.0\n",
            "\u001b[1m\u001b[32m   Compiling\u001b[0m cfg-if v1.0.0\n",
            "\u001b[1m\u001b[32m   Compiling\u001b[0m bitflags v2.5.0\n",
            "\u001b[1m\u001b[32m   Compiling\u001b[0m ej1_tp1_rust v0.1.0 (/content/TP1/Parte-1/ej1_tp1_rust)\n",
            "\u001b[1m\u001b[32m    Finished\u001b[0m dev [unoptimized + debuginfo] target(s) in 7.63s\n"
          ]
        }
      ]
    },
    {
      "cell_type": "markdown",
      "source": [
        "### Ejecución en segundo plano"
      ],
      "metadata": {
        "id": "iQj1zk9qFoYs"
      }
    },
    {
      "cell_type": "code",
      "source": [
        "!nohup /content/TP1/Parte-1/ej1_tp1_rust/target/debug/ej1_tp1_rust 1>/content/TP1/Parte-1/salidaRust 2>/dev/null &"
      ],
      "metadata": {
        "id": "OnLHQefpD8JT"
      },
      "execution_count": null,
      "outputs": []
    },
    {
      "cell_type": "markdown",
      "source": [
        "### visualización de arbol de procesos"
      ],
      "metadata": {
        "id": "rHrpWXT4FpMf"
      }
    },
    {
      "cell_type": "code",
      "source": [
        "!pstree -p | grep ej1_tp1_rust"
      ],
      "metadata": {
        "colab": {
          "base_uri": "https://localhost:8080/"
        },
        "id": "oya_D3KFC9Bf",
        "outputId": "63925e31-a4cc-4263-e438-4e4bdfbd301a"
      },
      "execution_count": null,
      "outputs": [
        {
          "output_type": "stream",
          "name": "stdout",
          "text": [
            "docker-init(1)-+-ej1_tp1_rust(2799)-+-ej1_tp1_rust(2805)-+-ej1_tp1_rust(2816)---sleep(2819)\n",
            "               |                    |                    `-ej1_tp1_rust(2817)---sleep(2821)\n",
            "               |                    |-ej1_tp1_rust(2806)---sleep(2820)\n",
            "               |                    `-ej1_tp1_rust(2808)---ej1_tp1_rust(2815)---sleep(2818)\n"
          ]
        }
      ]
    },
    {
      "cell_type": "markdown",
      "source": [
        "visualizacion output"
      ],
      "metadata": {
        "id": "sj9rozG8Frl_"
      }
    },
    {
      "cell_type": "code",
      "source": [
        "!cat /content/TP1/Parte-1/salidaRust"
      ],
      "metadata": {
        "colab": {
          "base_uri": "https://localhost:8080/"
        },
        "id": "1ZJsfjhqE5_k",
        "outputId": "fbaaa804-31a1-44a9-8498-6e313613dec3"
      },
      "execution_count": null,
      "outputs": [
        {
          "output_type": "stream",
          "name": "stdout",
          "text": [
            "Node A id 2799 pid 1\n",
            "Node B id 2805 pid 2799\n",
            "Node D id 2808 pid 2799\n",
            "Node C id 2806 pid 2799\n",
            "Node G id 2815 pid 2808\n",
            "Node E id 2816 pid 2805\n",
            "Node F id 2817 pid 2805\n",
            "Node I id 2831 pid 2817\n",
            "Node H id 2830 pid 2817\n",
            "Node J id 2840 pid 2831\n",
            "Ending node: C\n",
            "Ending node: E\n",
            "Ending node: G\n",
            "Ending node: D\n",
            "Ending node: H\n",
            "Ending node: J\n",
            "Ending node: I\n",
            "Ending node: F\n",
            "Ending node: B\n",
            "Ending node: A\n"
          ]
        }
      ]
    },
    {
      "cell_type": "markdown",
      "source": [
        "## Parte 2"
      ],
      "metadata": {
        "id": "ez3Gd5fkEbez"
      }
    },
    {
      "cell_type": "markdown",
      "source": [
        "### Crear el archivo"
      ],
      "metadata": {
        "id": "tuYNWwIbFKf5"
      }
    },
    {
      "cell_type": "code",
      "source": [
        "!cargo new /content/TP1/Parte-2/ej2_p2_rust"
      ],
      "metadata": {
        "colab": {
          "base_uri": "https://localhost:8080/"
        },
        "id": "82mYq7KtFWRH",
        "outputId": "c52bff57-1d2c-42dd-ca21-d37058bda6ca"
      },
      "execution_count": null,
      "outputs": [
        {
          "output_type": "stream",
          "name": "stdout",
          "text": [
            "\u001b[1m\u001b[32m     Created\u001b[0m binary (application) `/content/TP1/Parte-2/ej2_p2_rust` package\n"
          ]
        }
      ]
    },
    {
      "cell_type": "code",
      "source": [
        "!cd /content/TP1/Parte-2/ej2_p2_rust && cargo add nix --features process"
      ],
      "metadata": {
        "colab": {
          "base_uri": "https://localhost:8080/"
        },
        "id": "bQxRXMAnGCmW",
        "outputId": "53d114b3-c417-4bc9-a42d-a4ae1a138dcf"
      },
      "execution_count": null,
      "outputs": [
        {
          "output_type": "stream",
          "name": "stdout",
          "text": [
            "\u001b[1m\u001b[32m    Updating\u001b[0m crates.io index\n",
            "\u001b[1m\u001b[32m      Adding\u001b[0m nix v0.28.0 to dependencies.\n",
            "             Features:\n",
            "             \u001b[1m\u001b[32m+\u001b[0m process\n",
            "             34 deactivated features\n",
            "\u001b[1m\u001b[32m    Updating\u001b[0m crates.io index\n"
          ]
        }
      ]
    },
    {
      "cell_type": "markdown",
      "source": [
        "Creamos el archivo"
      ],
      "metadata": {
        "id": "f61Tb60SGOA3"
      }
    },
    {
      "cell_type": "code",
      "source": [
        "%%writefile /content/TP1/Parte-2/ej2_p2_rust/src/main.rs\n",
        "  use std::thread;\n",
        "  use std::time::Instant;\n",
        "  use rand::Rng;\n",
        "\n",
        "  #[derive(Debug)]\n",
        "  struct Matrix\n",
        "  {\n",
        "      matrix: Vec<Vec<i32>>,\n",
        "      order: usize,\n",
        "  }\n",
        "\n",
        "  impl Matrix\n",
        "  {\n",
        "      pub fn new(order: usize) -> Self\n",
        "      {\n",
        "          let matrix = vec![vec![0; order]; order];\n",
        "          Matrix\n",
        "          {\n",
        "            matrix, order\n",
        "          }\n",
        "      }\n",
        "\n",
        "      pub fn fill_matrix(&mut self)\n",
        "      {\n",
        "          let n = self.order;\n",
        "          for i in 0..n\n",
        "          {\n",
        "              for j in 0..n\n",
        "              {\n",
        "                  self.matrix[i][j] = rand::thread_rng().gen_range(0..10);\n",
        "              }\n",
        "          }\n",
        "      }\n",
        "\n",
        "      pub fn multiply_sequential(&self, scalar: i32) -> Self\n",
        "      {\n",
        "          let mut result = self.matrix.clone();\n",
        "          for i in 0..self.order\n",
        "          {\n",
        "              for j in 0..self.order\n",
        "              {\n",
        "                  result[i][j] *= scalar;\n",
        "              }\n",
        "          }\n",
        "          Matrix\n",
        "          {\n",
        "              matrix: result,\n",
        "              order: self.order,\n",
        "          }\n",
        "      }\n",
        "\n",
        "      pub fn multiply_concurrent(&self, scalar: i32, num_threads: usize) -> Self\n",
        "      {\n",
        "        let rows_per_thread = self.order / num_threads;\n",
        "        let mut handles = Vec::with_capacity(num_threads);\n",
        "\n",
        "        let mut result_matrix = Vec::with_capacity(self.order * self.order);\n",
        "        for i in 0..num_threads\n",
        "        {\n",
        "            let start_row = i * rows_per_thread;\n",
        "            let mut sub_matrix = self.matrix[start_row..(start_row + rows_per_thread)].to_vec();\n",
        "\n",
        "            let handle = thread::spawn(move ||\n",
        "            {\n",
        "                for row in &mut sub_matrix\n",
        "                {\n",
        "                    for elem in row\n",
        "                    {\n",
        "                        *elem *= scalar;\n",
        "                    }\n",
        "                }\n",
        "                sub_matrix\n",
        "            });\n",
        "\n",
        "            handles.push(handle);\n",
        "        }\n",
        "\n",
        "        for handle in handles\n",
        "        {\n",
        "            let sub_matrix = handle.join().unwrap();\n",
        "            result_matrix.extend(sub_matrix);\n",
        "        }\n",
        "\n",
        "        Matrix\n",
        "        {\n",
        "            matrix: result_matrix,\n",
        "            order: self.order,\n",
        "        }\n",
        "    }\n",
        "\n",
        "  }\n",
        "\n",
        "  fn main()\n",
        "  {\n",
        "      let n = 1000;\n",
        "      let scalar = 2;\n",
        "      let threads = 100;\n",
        "\n",
        "      let mut original_matrix = Matrix::new(n);\n",
        "      original_matrix.fill_matrix();\n",
        "\n",
        "      let sequential_start = Instant::now();\n",
        "      original_matrix.multiply_sequential(scalar);\n",
        "      let sequential_duration = sequential_start.elapsed();\n",
        "\n",
        "      let concurrent_start = Instant::now();\n",
        "      original_matrix.multiply_concurrent(scalar, threads);\n",
        "      let concurrent_duration = concurrent_start.elapsed();\n",
        "\n",
        "      println!(\"Elapsed time for sequential multiplication: {:?} ms\", sequential_duration.as_millis());\n",
        "      println!(\"Elapsed time for concurrent multiplication: {:?} ms\", concurrent_duration.as_millis());\n",
        "  }"
      ],
      "metadata": {
        "colab": {
          "base_uri": "https://localhost:8080/"
        },
        "id": "-GPUQ3FQGQlq",
        "outputId": "b8e12b03-f5e2-4eae-8336-f1157abf968b"
      },
      "execution_count": null,
      "outputs": [
        {
          "output_type": "stream",
          "name": "stdout",
          "text": [
            "Overwriting /content/TP1/Parte-2/ej2_p2_rust/src/main.rs\n"
          ]
        }
      ]
    },
    {
      "cell_type": "markdown",
      "source": [
        "### Compilacion"
      ],
      "metadata": {
        "id": "RdPskz2lGoZC"
      }
    },
    {
      "cell_type": "code",
      "source": [
        "!cd /content/TP1/Parte-2/ej2_p2_rust && cargo build"
      ],
      "metadata": {
        "colab": {
          "base_uri": "https://localhost:8080/"
        },
        "id": "gy7o55FRGrnq",
        "outputId": "d89f6149-edb5-4739-863f-34274e0b9f7e"
      },
      "execution_count": null,
      "outputs": [
        {
          "output_type": "stream",
          "name": "stdout",
          "text": [
            "\u001b[1m\u001b[32m   Compiling\u001b[0m ej2_p2_rust v0.1.0 (/content/TP1/Parte-2/ej2_p2_rust)\n",
            "\u001b[1m\u001b[32m    Finished\u001b[0m dev [unoptimized + debuginfo] target(s) in 0.63s\n"
          ]
        }
      ]
    },
    {
      "cell_type": "code",
      "source": [
        "!cargo run --quiet --manifest-path TP1/Parte-2/ej2_p2_rust/Cargo.toml"
      ],
      "metadata": {
        "colab": {
          "base_uri": "https://localhost:8080/"
        },
        "id": "Riu3zM5fJLCH",
        "outputId": "7f5513ab-1a4b-4104-df5c-85d69eb046d3"
      },
      "execution_count": null,
      "outputs": [
        {
          "output_type": "stream",
          "name": "stdout",
          "text": [
            "Elapsed time for sequential multiplication: 34259 microseconds\n",
            "Elapsed time for concurrent multiplication: 20367 microseconds\n"
          ]
        }
      ]
    },
    {
      "cell_type": "markdown",
      "metadata": {
        "id": "-DsNzyXZJMuo"
      },
      "source": [
        "# Código en GO\n"
      ]
    },
    {
      "cell_type": "markdown",
      "metadata": {
        "id": "2Iz1Ic3SJyOM"
      },
      "source": [
        "## Instalar paquete Goland"
      ]
    },
    {
      "cell_type": "code",
      "execution_count": null,
      "metadata": {
        "colab": {
          "base_uri": "https://localhost:8080/"
        },
        "id": "OyO9RXCNJ465",
        "outputId": "7d5b6c34-393a-44ab-a5e4-4a8b9935069f"
      },
      "outputs": [
        {
          "output_type": "stream",
          "name": "stdout",
          "text": [
            "Reading package lists... Done\n",
            "Building dependency tree... Done\n",
            "Reading state information... Done\n",
            "The following additional packages will be installed:\n",
            "  golang-1.18-go golang-1.18-src golang-src\n",
            "Suggested packages:\n",
            "  bzr | brz mercurial subversion\n",
            "The following NEW packages will be installed:\n",
            "  golang-1.18-go golang-1.18-src golang-go golang-src\n",
            "0 upgraded, 4 newly installed, 0 to remove and 45 not upgraded.\n",
            "Need to get 82.3 MB of archives.\n",
            "After this operation, 436 MB of additional disk space will be used.\n",
            "Get:1 http://archive.ubuntu.com/ubuntu jammy-updates/main amd64 golang-1.18-src all 1.18.1-1ubuntu1.1 [16.2 MB]\n",
            "Get:2 http://archive.ubuntu.com/ubuntu jammy-updates/main amd64 golang-1.18-go amd64 1.18.1-1ubuntu1.1 [66.0 MB]\n",
            "Get:3 http://archive.ubuntu.com/ubuntu jammy/main amd64 golang-src all 2:1.18~0ubuntu2 [4,438 B]\n",
            "Get:4 http://archive.ubuntu.com/ubuntu jammy/main amd64 golang-go amd64 2:1.18~0ubuntu2 [41.8 kB]\n",
            "Fetched 82.3 MB in 5s (17.8 MB/s)\n",
            "Selecting previously unselected package golang-1.18-src.\n",
            "(Reading database ... 121752 files and directories currently installed.)\n",
            "Preparing to unpack .../golang-1.18-src_1.18.1-1ubuntu1.1_all.deb ...\n",
            "Unpacking golang-1.18-src (1.18.1-1ubuntu1.1) ...\n",
            "Selecting previously unselected package golang-1.18-go.\n",
            "Preparing to unpack .../golang-1.18-go_1.18.1-1ubuntu1.1_amd64.deb ...\n",
            "Unpacking golang-1.18-go (1.18.1-1ubuntu1.1) ...\n",
            "Selecting previously unselected package golang-src.\n",
            "Preparing to unpack .../golang-src_2%3a1.18~0ubuntu2_all.deb ...\n",
            "Unpacking golang-src (2:1.18~0ubuntu2) ...\n",
            "Selecting previously unselected package golang-go:amd64.\n",
            "Preparing to unpack .../golang-go_2%3a1.18~0ubuntu2_amd64.deb ...\n",
            "Unpacking golang-go:amd64 (2:1.18~0ubuntu2) ...\n",
            "Setting up golang-1.18-src (1.18.1-1ubuntu1.1) ...\n",
            "Setting up golang-src (2:1.18~0ubuntu2) ...\n",
            "Setting up golang-1.18-go (1.18.1-1ubuntu1.1) ...\n",
            "Setting up golang-go:amd64 (2:1.18~0ubuntu2) ...\n",
            "Processing triggers for man-db (2.10.2-1) ...\n"
          ]
        }
      ],
      "source": [
        "!apt-get install -y golang-go"
      ]
    },
    {
      "cell_type": "markdown",
      "source": [
        "## Parte 1"
      ],
      "metadata": {
        "id": "6qlWbS7fnxfX"
      }
    },
    {
      "cell_type": "markdown",
      "source": [
        "### Crear Archivo"
      ],
      "metadata": {
        "id": "k-SVrwaKnzo0"
      }
    },
    {
      "cell_type": "code",
      "execution_count": null,
      "metadata": {
        "colab": {
          "base_uri": "https://localhost:8080/"
        },
        "id": "sg0W1J1HJeaA",
        "outputId": "ef5a0e0e-7c9f-4a88-cc0f-775c1a2652dc"
      },
      "outputs": [
        {
          "output_type": "stream",
          "name": "stdout",
          "text": [
            "Writing TP1/Parte-1/Parte1_go.go\n"
          ]
        }
      ],
      "source": [
        "%%writefile TP1/Parte-1/Parte1_go.go\n",
        "package main\n",
        "\n",
        "import (\n",
        "\t\"fmt\"\n",
        "\t\"os\"\n",
        "\t\"os/exec\"\n",
        "\t\"sync\"\n",
        "\t\"time\"\n",
        ")\n",
        "\n",
        "const RAIZ = 'A'\n",
        "const ARGUMENTOS = 1\n",
        "const CHILDLESS = 0\n",
        "const SECONDS_WAIT = 10\n",
        "\n",
        "type ProcessPrinter struct {\n",
        "\tmu sync.Mutex\n",
        "}\n",
        "\n",
        "var myDictionary = map[rune][]rune{\n",
        "\t'A': {'B', 'C', 'D'},\n",
        "\t'B': {'E', 'F'},\n",
        "\t'C': {},\n",
        "\t'D': {'G'},\n",
        "\t'E': {},\n",
        "\t'F': {'H', 'I'},\n",
        "\t'G': {},\n",
        "\t'H': {},\n",
        "\t'I': {'J'},\n",
        "\t'J': {},\n",
        "}\n",
        "\n",
        "var printer = ProcessPrinter{}\n",
        "\n",
        "func main() {\n",
        "\tvar wg sync.WaitGroup\n",
        "\tvar process rune\n",
        "\n",
        "\tif len(os.Args) == ARGUMENTOS {\n",
        "\t\tprocess = rune(RAIZ)\n",
        "\t} else {\n",
        "\t\tprocess = rune(os.Args[1][0])\n",
        "\t}\n",
        "\n",
        "\tprinter.showProcess(string(process))\n",
        "\tchildren, ok := myDictionary[process]\n",
        "\n",
        "\tif !ok {\n",
        "\t\tfmt.Println(\"Clave no encontrada en el diccionario\")\n",
        "\t\treturn\n",
        "\t}\n",
        "\n",
        "\tif len(children) > CHILDLESS {\n",
        "\t\twg.Add(len(children))\n",
        "\t\tfor _, letter := range children {\n",
        "\t\t   createChildProcess(letter, &wg)\n",
        "\t\t}\n",
        "\t}\n",
        "\ttime.Sleep(SECONDS_WAIT * time.Second)\n",
        "\twg.Wait()\n",
        "}\n",
        "func createChildProcess(name rune, wg *sync.WaitGroup) {\n",
        "\tdefer wg.Done()\n",
        "\n",
        "\tcmd := exec.Command(os.Args[0], string(name))\n",
        "\tcmd.Stdout = os.Stdout\n",
        "\tcmd.Stderr = os.Stderr\n",
        "\n",
        "\tif err := cmd.Start(); err != nil {\n",
        "\t\tfmt.Println(\"Error al ejecutar el proceso hijo:\", err)\n",
        "\t}\n",
        "}\n",
        "func (pp *ProcessPrinter) showProcess(process string) {\n",
        "\tpp.mu.Lock()\n",
        "\tdefer pp.mu.Unlock()\n",
        "\tfmt.Println(\"Proceso\", process, \"pid:\", os.Getpid(), \"ppid:\", os.Getppid())\n",
        "}"
      ]
    },
    {
      "cell_type": "markdown",
      "metadata": {
        "id": "ISNFeRtdKTxt"
      },
      "source": [
        "### Compilacion\n",
        "\n"
      ]
    },
    {
      "cell_type": "code",
      "execution_count": null,
      "metadata": {
        "colab": {
          "base_uri": "https://localhost:8080/"
        },
        "id": "2vJv99dHKaSe",
        "outputId": "f6c82660-f96d-4fab-ad90-eb263b38bfb2"
      },
      "outputs": [
        {
          "name": "stdout",
          "output_type": "stream",
          "text": [
            "Proceso A pid: 10183 ppid: 10144\n",
            "Proceso B pid: 10187 ppid: 10183\n",
            "Proceso D pid: 10188 ppid: 10183\n",
            "Proceso C pid: 10198 ppid: 10183\n",
            "Proceso F pid: 10199 ppid: 10187\n",
            "Proceso E pid: 10200 ppid: 10187\n",
            "Proceso G pid: 10208 ppid: 10188\n",
            "Proceso I pid: 10212 ppid: 10199\n",
            "Proceso H pid: 10213 ppid: 10199\n",
            "Proceso J pid: 10226 ppid: 10212\n"
          ]
        }
      ],
      "source": [
        "!go run TP1/Parte-1/Parte1_go.go"
      ]
    },
    {
      "cell_type": "markdown",
      "metadata": {
        "id": "XPTPeBOgApcO"
      },
      "source": [
        "### Ejecución en segundo plano"
      ]
    },
    {
      "cell_type": "code",
      "execution_count": null,
      "metadata": {
        "id": "n1bW2m4PAwas"
      },
      "outputs": [],
      "source": [
        "!nohup go run TP1/Parte-1/Parte1_go.go 1>salidaGo.txt 2>/dev/null &"
      ]
    },
    {
      "cell_type": "markdown",
      "metadata": {
        "id": "8_iB9Js4BSGv"
      },
      "source": [
        "### Ver arbol de procesos"
      ]
    },
    {
      "cell_type": "code",
      "execution_count": null,
      "metadata": {
        "colab": {
          "base_uri": "https://localhost:8080/"
        },
        "id": "mFD2Lcu1Be8m",
        "outputId": "bb51e295-eb40-4d7e-a6b0-66990f926f55"
      },
      "outputs": [
        {
          "output_type": "stream",
          "name": "stdout",
          "text": [
            "   1217 ?        S      0:00  |       \\_ /bin/bash -c ps -axf | grep Parte1_go\n",
            "   1219 ?        S      0:00  |           \\_ grep Parte1_go\n",
            "   1139 ?        Sl     0:00 go run TP1/Parte-1/Parte1_go.go\n",
            "   1169 ?        Sl     0:00  \\_ /tmp/go-build1789597745/b001/exe/Parte1_go\n",
            "   1174 ?        Sl     0:00      \\_ /tmp/go-build1789597745/b001/exe/Parte1_go B\n",
            "   1181 ?        Sl     0:00      |   \\_ /tmp/go-build1789597745/b001/exe/Parte1_go E\n",
            "   1188 ?        Sl     0:00      |   \\_ /tmp/go-build1789597745/b001/exe/Parte1_go F\n",
            "   1197 ?        Sl     0:00      |       \\_ /tmp/go-build1789597745/b001/exe/Parte1_go H\n",
            "   1201 ?        Sl     0:00      |       \\_ /tmp/go-build1789597745/b001/exe/Parte1_go I\n",
            "   1209 ?        Sl     0:00      |           \\_ /tmp/go-build1789597745/b001/exe/Parte1_go J\n",
            "   1175 ?        Sl     0:00      \\_ /tmp/go-build1789597745/b001/exe/Parte1_go C\n",
            "   1179 ?        Sl     0:00      \\_ /tmp/go-build1789597745/b001/exe/Parte1_go D\n",
            "   1192 ?        Sl     0:00          \\_ /tmp/go-build1789597745/b001/exe/Parte1_go G\n"
          ]
        }
      ],
      "source": [
        "!ps -axf | grep Parte1_go"
      ]
    },
    {
      "cell_type": "markdown",
      "metadata": {
        "id": "fi7BOnjDBrFV"
      },
      "source": [
        "\n",
        "### Arbol de procesos"
      ]
    },
    {
      "cell_type": "code",
      "execution_count": null,
      "metadata": {
        "colab": {
          "base_uri": "https://localhost:8080/"
        },
        "id": "xaxcwtcrB1YD",
        "outputId": "10388ddf-3fdd-464b-f59d-3f7ba507e3bb"
      },
      "outputs": [
        {
          "output_type": "stream",
          "name": "stdout",
          "text": [
            "Parte1_go(1169)─┬─Parte1_go(1174)─┬─Parte1_go(1181)\n",
            "                │                 └─Parte1_go(1188)─┬─Parte1_go(1197)\n",
            "                │                                   └─Parte1_go(1201)───Parte1_go(1209)\n",
            "                ├─Parte1_go(1175)\n",
            "                └─Parte1_go(1179)───Parte1_go(1192)\n"
          ]
        }
      ],
      "source": [
        "!pstree -pT 1169"
      ]
    },
    {
      "cell_type": "markdown",
      "metadata": {
        "id": "3lSCl_5FB61V"
      },
      "source": [
        "### Salida del programa"
      ]
    },
    {
      "cell_type": "code",
      "execution_count": null,
      "metadata": {
        "colab": {
          "base_uri": "https://localhost:8080/"
        },
        "id": "GqPwlQ97B-6f",
        "outputId": "1a798c20-736f-4911-a072-dbfc841bbb7c"
      },
      "outputs": [
        {
          "output_type": "stream",
          "name": "stdout",
          "text": [
            "Proceso A pid: 1169 ppid: 1139\n",
            "Proceso B pid: 1174 ppid: 1169\n",
            "Proceso C pid: 1175 ppid: 1169\n",
            "Proceso D pid: 1179 ppid: 1169\n",
            "Proceso E pid: 1181 ppid: 1174\n",
            "Proceso F pid: 1188 ppid: 1174\n",
            "Proceso G pid: 1192 ppid: 1179\n",
            "Proceso H pid: 1197 ppid: 1188\n",
            "Proceso I pid: 1201 ppid: 1188\n",
            "Proceso J pid: 1209 ppid: 1201\n"
          ]
        }
      ],
      "source": [
        "!cat salidaGo.txt\n"
      ]
    },
    {
      "cell_type": "markdown",
      "source": [
        "## Parte 2"
      ],
      "metadata": {
        "id": "FvjdtNctRlHM"
      }
    },
    {
      "cell_type": "markdown",
      "source": [
        "#### Crear Archivo"
      ],
      "metadata": {
        "id": "N16LE7VLTe6h"
      }
    },
    {
      "cell_type": "code",
      "source": [
        "%%writefile TP1/Parte-2/Parte2_go.go\n",
        "package main\n",
        "\n",
        "import (\n",
        "\t\"fmt\"\n",
        "\t\"math/rand\"\n",
        "\t\"sync\"\n",
        "\t\"time\"\n",
        ")\n",
        "\n",
        "const SIZE int = 9000\n",
        "const THREADS int = 100\n",
        "const ESCALAR int = 3\n",
        "\n",
        "var matrixA [SIZE][SIZE]int\n",
        "var matrixResSequ [SIZE][SIZE]int\n",
        "var matrixResConc [SIZE][SIZE]int\n",
        "\n",
        "func printMatrix(matrix *[SIZE][SIZE]int) {\n",
        "\tfor i := 0; i < SIZE; i++ {\n",
        "\t\tfor j := 0; j < SIZE; j++ {\n",
        "\t\t\tfmt.Print(\"|\")\n",
        "\t\t\tif matrix[i][j] < 10 {\n",
        "\t\t\t\tfmt.Print(\" \")\n",
        "\t\t\t}\n",
        "\t\t\tif matrix[i][j] < 100 {\n",
        "\t\t\t\tfmt.Print(\" \")\n",
        "\t\t\t}\n",
        "\t\t\tfmt.Print(matrix[i][j])\n",
        "\t\t\tfmt.Print(\"|\")\n",
        "\t\t}\n",
        "\t\tfmt.Println()\n",
        "\t}\n",
        "}\n",
        "\n",
        "func initMatrix(m *[SIZE][SIZE]int) {\n",
        "\tfor i := 0; i < SIZE; i++ {\n",
        "\t\tfor j := 0; j < SIZE; j++ {\n",
        "\t\t\tm[i][j] = rand.Intn(100)\n",
        "\t\t}\n",
        "\t}\n",
        "}\n",
        "\n",
        "func multSeqMatrix() {\n",
        "\tfor i := 0; i < SIZE; i++ {\n",
        "\t\tfor j := 0; j < SIZE; j++ {\n",
        "\t\t\tmatrixResSequ[i][j] = matrixA[i][j] * ESCALAR\n",
        "\t\t}\n",
        "\t}\n",
        "}\n",
        "func multConcMatrix() {\n",
        "\tvar wg sync.WaitGroup\n",
        "\twg.Add(THREADS)\n",
        "\n",
        "\tblockSize := SIZE / THREADS\n",
        "\n",
        "\tfor i := 0; i < THREADS; i++ {\n",
        "\t\tgo multRows(i*blockSize, (i+1)*blockSize, &wg)\n",
        "\t}\n",
        "\n",
        "\twg.Wait()\n",
        "}\n",
        "\n",
        "func multRows(startRow int, endRow int, wg *sync.WaitGroup) {\n",
        "\tdefer wg.Done()\n",
        "\tfor r := startRow; r < endRow; r++ {\n",
        "\t\tfor c := 0; c < SIZE; c++ {\n",
        "\t\t\tmatrixResConc[r][c] = matrixA[r][c] * ESCALAR\n",
        "\t\t}\n",
        "\t}\n",
        "}\n",
        "\n",
        "func compareRes() bool {\n",
        "\tfor i := 0; i < SIZE; i++ {\n",
        "\t\tfor j := 0; j < SIZE; j++ {\n",
        "\t\t\tif matrixResConc[i][j] != matrixResSequ[i][j] {\n",
        "\t\t\t\tfmt.Println(matrixResConc[i][j], \"!=\", matrixResSequ[i][j], \"i\", i, \"j\", j)\n",
        "\t\t\t\treturn false\n",
        "\t\t\t}\n",
        "\t\t}\n",
        "\t}\n",
        "\treturn true\n",
        "}\n",
        "func printAllMatrix() {\n",
        "\tfmt.Println(\"Matrix A:\")\n",
        "\tprintMatrix(&matrixA)\n",
        "\n",
        "\tfmt.Println(\"\\nRes Seq:\")\n",
        "\tprintMatrix(&matrixResSequ)\n",
        "\n",
        "\tfmt.Println(\"\\nRes Conc:\")\n",
        "\tprintMatrix(&matrixResConc)\n",
        "}\n",
        "\n",
        "func main() {\n",
        "\tfmt.Println(\"matrix size: \", SIZE)\n",
        "\tfmt.Println(\"Threads: \", THREADS)\n",
        "\tinitMatrix(&matrixA)\n",
        "\n",
        "\tstartSeq := time.Now()\n",
        "\tmultSeqMatrix()\n",
        "\tendSeq := time.Since(startSeq).Milliseconds()\n",
        "\n",
        "\tstartConc := time.Now()\n",
        "\tmultConcMatrix()\n",
        "\tendConc := time.Since(startConc).Milliseconds()\n",
        "\n",
        "\t// printAllMatrix()\n",
        "\n",
        "\tfmt.Println(\"\\nSECUENCIAL == CONCURRENTE:\", compareRes())\n",
        "\n",
        "\tfmt.Println(\"SECUENCIAL: \", endSeq)\n",
        "\tfmt.Println(\"CONCURRENTE: \", endConc)\n",
        "}\n"
      ],
      "metadata": {
        "colab": {
          "base_uri": "https://localhost:8080/"
        },
        "id": "2bNMDPxgR7JN",
        "outputId": "f617961e-648b-4e35-8e8e-a252b4b454df"
      },
      "execution_count": null,
      "outputs": [
        {
          "output_type": "stream",
          "name": "stdout",
          "text": [
            "Writing TP1/Parte-2/Parte2_go.go\n"
          ]
        }
      ]
    },
    {
      "cell_type": "markdown",
      "source": [
        "### Compilacion"
      ],
      "metadata": {
        "id": "9gMtBXHXSUaO"
      }
    },
    {
      "cell_type": "code",
      "source": [
        "!go run TP1/Parte-2/Parte2_go.go"
      ],
      "metadata": {
        "colab": {
          "base_uri": "https://localhost:8080/"
        },
        "id": "bizv6_pMSYAw",
        "outputId": "e8938207-63a1-4a38-9111-75a2831721dc"
      },
      "execution_count": null,
      "outputs": [
        {
          "output_type": "stream",
          "name": "stdout",
          "text": [
            "matrix size:  10000\n",
            "Threads:  100\n",
            "\n",
            "SECUENCIAL == CONCURRENTE: true\n",
            "SECUENCIAL:  579\n",
            "CONCURRENTE:  440\n"
          ]
        }
      ]
    },
    {
      "cell_type": "markdown",
      "metadata": {
        "id": "hGrIYBWDTR9A"
      },
      "source": [
        "# Codigo en Python"
      ]
    },
    {
      "cell_type": "markdown",
      "metadata": {
        "id": "jiimqK2bTV_r"
      },
      "source": [
        "## Parte 1"
      ]
    },
    {
      "cell_type": "code",
      "execution_count": null,
      "metadata": {
        "colab": {
          "base_uri": "https://localhost:8080/"
        },
        "id": "RPjKTrEPTYCH",
        "outputId": "53d14c9c-a894-42c5-9c89-565089e3c4f7"
      },
      "outputs": [
        {
          "output_type": "stream",
          "name": "stdout",
          "text": [
            "Writing TP1/Parte-1/tp1_p1_python.py\n"
          ]
        }
      ],
      "source": [
        "%%writefile TP1/Parte-1/tp1_p1_python.py\n",
        "import os\n",
        "import time\n",
        "\n",
        "TIME_SLEEP=20000\n",
        "\n",
        "\n",
        "def imprimirProceso(proceso):\n",
        "    pid = os.getpid()\n",
        "    ppid = os.getppid()\n",
        "    print(f\"Proceso {proceso}: PID = {pid}, PID del Padre = {ppid}\")\n",
        "\n",
        "def crearProcesos(procesos, padre):\n",
        "    hijos = procesos.get(padre, [])\n",
        "    imprimirProceso(padre)\n",
        "    for hijo in hijos:\n",
        "        pid = os.fork()\n",
        "        if pid < 0:\n",
        "            print(\"Error pid del proceso\")\n",
        "        if pid == 0:  # es hijo\n",
        "            crearProcesos(procesos, hijo)\n",
        "            time.sleep(TIME_SLEEP)\n",
        "            os._exit(0)\n",
        "    for hijo in hijos:\n",
        "        os.wait()\n",
        "\n",
        "\n",
        "print(\"Comienzo a crear los procesos...\\n\")\n",
        "\n",
        "procesos = {\n",
        "    \"A\": [\"B\", \"C\", \"D\"],\n",
        "    \"B\": [\"E\", \"F\"],\n",
        "    \"D\": [\"G\"],\n",
        "    \"F\": [\"H\", \"I\"],\n",
        "    \"I\": [\"J\"]\n",
        "}\n",
        "\n",
        "crearProcesos(procesos, list(procesos.keys())[0])\n",
        "\n",
        "print(\"\\nCreación de procesos finalizada\")"
      ]
    },
    {
      "cell_type": "markdown",
      "source": [
        "### Ver si se creo"
      ],
      "metadata": {
        "id": "K8v7LYH_bxiu"
      }
    },
    {
      "cell_type": "code",
      "source": [
        "!ls -laR | grep tp1_p1_python.py"
      ],
      "metadata": {
        "id": "oDaef2fQcBgh",
        "colab": {
          "base_uri": "https://localhost:8080/"
        },
        "outputId": "244ba0dd-8498-4525-8885-d249efec5221"
      },
      "execution_count": null,
      "outputs": [
        {
          "output_type": "stream",
          "name": "stdout",
          "text": [
            "-rw-r--r-- 1 root root  828 Apr 11 18:29 tp1_p1_python.py\n"
          ]
        }
      ]
    },
    {
      "cell_type": "markdown",
      "metadata": {
        "id": "APlC3kIUDMhh"
      },
      "source": [
        "### Ejecución en segundo plano\n",
        "\n",
        "\n"
      ]
    },
    {
      "cell_type": "code",
      "execution_count": null,
      "metadata": {
        "colab": {
          "base_uri": "https://localhost:8080/"
        },
        "id": "QZ0q-aTmDe5G",
        "outputId": "34ed8dc3-fde9-469a-e555-82bbdb9588f4"
      },
      "outputs": [
        {
          "output_type": "stream",
          "name": "stdout",
          "text": [
            "nohup: appending output to 'nohup.out'\n"
          ]
        }
      ],
      "source": [
        "!nohup python3 TP1/Parte-1/tp1_p1_python.py &"
      ]
    },
    {
      "cell_type": "markdown",
      "metadata": {
        "id": "hZoqIa9QDnqM"
      },
      "source": [
        "### Visualización de los procesos que están corriendo"
      ]
    },
    {
      "cell_type": "code",
      "execution_count": null,
      "metadata": {
        "colab": {
          "base_uri": "https://localhost:8080/"
        },
        "id": "y0--UKuIEBIS",
        "outputId": "45ea1600-5c8d-4edd-c3eb-02d113828af1"
      },
      "outputs": [
        {
          "output_type": "stream",
          "name": "stdout",
          "text": [
            "USER         PID %CPU %MEM    VSZ   RSS TTY      STAT START   TIME COMMAND\n",
            "root          22  0.0  0.0   5808  1000 ?        Ss   21:45   0:00 tail -n +0 -F /root/.config/Googl\n",
            "root           1  0.0  0.0   1076     8 ?        Ss   21:45   0:00 /sbin/docker-init -- /datalab/run\n",
            "root           6  0.5  0.3 886052 47516 ?        Rl   21:45   0:01 /tools/node/bin/node /datalab/web\n",
            "root          16  0.0  0.0   7376  3428 ?        S    21:45   0:00  \\_ /bin/bash -e /usr/local/colab\n",
            "root        1057  0.0  0.0   5776  1000 ?        S    21:49   0:00  |   \\_ sleep 1\n",
            "root          61  3.3  0.0      0     0 ?        Z    21:45   0:07  \\_ [python3] <defunct>\n",
            "root          62  0.3  0.3  66516 51504 ?        S    21:45   0:00  \\_ python3 /usr/local/bin/colab-\n",
            "root          84  1.8  0.8 358404 112592 ?       Rl   21:45   0:03  \\_ /usr/bin/python3 /usr/local/b\n",
            "root         225  1.5  0.7 1109960 96668 ?       Ssl  21:45   0:02  |   \\_ /usr/bin/python3 -m colab\n",
            "root        1058  0.0  0.0  10076  1596 ?        R    21:49   0:00  |       \\_ ps -aufx\n",
            "root          85  0.0  0.0 1227460 4456 ?        Sl   21:45   0:00  \\_ /usr/local/bin/dap_multiplexe\n",
            "root         297  0.0  0.1 1239156 16068 ?       Sl   21:46   0:00  \\_ /usr/colab/bin/language_servi\n",
            "root         308  4.6  0.9 911764 127992 ?       Sl   21:46   0:08      \\_ node /datalab/web/pyright\n",
            "root          18  0.0  0.0   7376  1864 ?        S    21:45   0:00 /bin/bash -e /datalab/run.sh\n",
            "root          20  0.0  0.0 1235692 12676 ?       Sl   21:45   0:00  \\_ /usr/colab/bin/kernel_manager\n",
            "root         264  0.0  0.0 538380 12900 ?        Sl   21:46   0:00 /usr/bin/python3 /usr/local/lib/p\n",
            "root        1000  0.3  0.0  17504  9692 ?        S    21:48   0:00 python3 TP1/Parte-1/tp1_p1_python\n",
            "root        1001  0.0  0.0  17504  5180 ?        S    21:48   0:00  \\_ python3 TP1/Parte-1/tp1_p1_py\n",
            "root        1004  0.0  0.0  17504  5116 ?        S    21:48   0:00  |   \\_ python3 TP1/Parte-1/tp1_p\n",
            "root        1005  0.0  0.0  17504  5564 ?        S    21:48   0:00  |   \\_ python3 TP1/Parte-1/tp1_p\n",
            "root        1007  0.0  0.0  17504  5180 ?        S    21:48   0:00  |       \\_ python3 TP1/Parte-1/t\n",
            "root        1008  0.0  0.0  17504  5116 ?        S    21:48   0:00  |       \\_ python3 TP1/Parte-1/t\n",
            "root        1009  0.0  0.0  17504  5184 ?        S    21:48   0:00  |           \\_ python3 TP1/Parte\n",
            "root        1002  0.0  0.0  17504  5180 ?        S    21:48   0:00  \\_ python3 TP1/Parte-1/tp1_p1_py\n",
            "root        1003  0.0  0.0  17504  5180 ?        S    21:48   0:00  \\_ python3 TP1/Parte-1/tp1_p1_py\n",
            "root        1006  0.0  0.0  17504  5116 ?        S    21:48   0:00      \\_ python3 TP1/Parte-1/tp1_p\n"
          ]
        }
      ],
      "source": [
        "!ps -aufx"
      ]
    },
    {
      "cell_type": "code",
      "execution_count": null,
      "metadata": {
        "id": "rHyu_VBkE9eM",
        "colab": {
          "base_uri": "https://localhost:8080/"
        },
        "outputId": "cf75e266-3303-486b-dcbe-2298520026cc"
      },
      "outputs": [
        {
          "output_type": "stream",
          "name": "stdout",
          "text": [
            "USER         PID %CPU %MEM    VSZ   RSS TTY      STAT START   TIME COMMAND\n",
            "root           1  0.0  0.0   1076     8 ?        Ss   21:45   0:00 /sbin/docker-init -- /datalab/run\n",
            "root           6  0.5  0.3 886052 47308 ?        Rl   21:45   0:01 /tools/node/bin/node /datalab/web\n",
            "root          16  0.0  0.0   7376  3428 ?        S    21:45   0:00 /bin/bash -e /usr/local/colab/bin\n",
            "root          18  0.0  0.0   7376  1864 ?        S    21:45   0:00 /bin/bash -e /datalab/run.sh\n",
            "root          20  0.0  0.0 1235948 12892 ?       Sl   21:45   0:00 /usr/colab/bin/kernel_manager_pro\n",
            "root          22  0.0  0.0   5808  1000 ?        Ss   21:45   0:00 tail -n +0 -F /root/.config/Googl\n",
            "root          61  3.2  0.0      0     0 ?        Z    21:45   0:07 [python3] <defunct>\n",
            "root          62  0.3  0.3  66516 51504 ?        S    21:45   0:00 python3 /usr/local/bin/colab-file\n",
            "root          84  1.7  0.8 358404 112592 ?       Rl   21:45   0:03 /usr/bin/python3 /usr/local/bin/j\n",
            "root          85  0.0  0.0 1227460 4456 ?        Sl   21:45   0:00 /usr/local/bin/dap_multiplexer --\n",
            "root         225  1.5  0.7 1109960 96668 ?       Ssl  21:45   0:02 /usr/bin/python3 -m colab_kernel_\n",
            "root         264  0.0  0.0 538380 12900 ?        Sl   21:46   0:00 /usr/bin/python3 /usr/local/lib/p\n",
            "root         297  0.0  0.1 1239156 16068 ?       Sl   21:46   0:00 /usr/colab/bin/language_service -\n",
            "root         308  4.4  0.9 911764 127992 ?       Sl   21:46   0:08 node /datalab/web/pyright/pyright\n",
            "root        1000  0.2  0.0  17504  9692 ?        S    21:48   0:00 python3 TP1/Parte-1/tp1_p1_python\n",
            "root        1001  0.0  0.0  17504  5180 ?        S    21:48   0:00 python3 TP1/Parte-1/tp1_p1_python\n",
            "root        1002  0.0  0.0  17504  5180 ?        S    21:48   0:00 python3 TP1/Parte-1/tp1_p1_python\n",
            "root        1003  0.0  0.0  17504  5180 ?        S    21:48   0:00 python3 TP1/Parte-1/tp1_p1_python\n",
            "root        1004  0.0  0.0  17504  5116 ?        S    21:48   0:00 python3 TP1/Parte-1/tp1_p1_python\n",
            "root        1005  0.0  0.0  17504  5564 ?        S    21:48   0:00 python3 TP1/Parte-1/tp1_p1_python\n",
            "root        1006  0.0  0.0  17504  5116 ?        S    21:48   0:00 python3 TP1/Parte-1/tp1_p1_python\n",
            "root        1007  0.0  0.0  17504  5180 ?        S    21:48   0:00 python3 TP1/Parte-1/tp1_p1_python\n",
            "root        1008  0.0  0.0  17504  5116 ?        S    21:48   0:00 python3 TP1/Parte-1/tp1_p1_python\n",
            "root        1009  0.0  0.0  17504  5184 ?        S    21:48   0:00 python3 TP1/Parte-1/tp1_p1_python\n",
            "root        1082  0.0  0.0   5776  1044 ?        S    21:49   0:00 sleep 1\n",
            "root        1083  0.0  0.0  10076  1572 ?        R    21:49   0:00 ps aux\n"
          ]
        }
      ],
      "source": [
        "!ps aux"
      ]
    },
    {
      "cell_type": "markdown",
      "source": [
        "###Visualización de procesos"
      ],
      "metadata": {
        "id": "nVoE4O15N_fR"
      }
    },
    {
      "cell_type": "code",
      "source": [
        "!ps -aux | grep TP1/Parte-1/tp1_p1_python.py"
      ],
      "metadata": {
        "colab": {
          "base_uri": "https://localhost:8080/"
        },
        "id": "FvEKXGDiNoQL",
        "outputId": "1c0da11f-aab2-489d-cbe6-092385c10913"
      },
      "execution_count": null,
      "outputs": [
        {
          "output_type": "stream",
          "name": "stdout",
          "text": [
            "root        1126  0.0  0.0   6624  2208 ?        S    21:49   0:00 grep TP1/Parte-1/tp1_p1_python.py\n"
          ]
        }
      ]
    },
    {
      "cell_type": "markdown",
      "source": [
        "### Visualización árbol de procesos"
      ],
      "metadata": {
        "id": "JhwuPChhO3E6"
      }
    },
    {
      "cell_type": "code",
      "source": [
        "!pstree -p 1000"
      ],
      "metadata": {
        "id": "ub8nzZ8QM1VZ",
        "colab": {
          "base_uri": "https://localhost:8080/"
        },
        "outputId": "7c9f1be6-a164-4492-c43c-6b0942f2797e"
      },
      "execution_count": null,
      "outputs": [
        {
          "output_type": "stream",
          "name": "stdout",
          "text": [
            "python3(1000)─┬─python3(1001)─┬─python3(1004)\n",
            "              │               └─python3(1005)─┬─python3(1007)\n",
            "              │                               └─python3(1008)───python3(1009)\n",
            "              ├─python3(1002)\n",
            "              └─python3(1003)───python3(1006)\n"
          ]
        }
      ]
    },
    {
      "cell_type": "markdown",
      "source": [
        "##Parte 2"
      ],
      "metadata": {
        "id": "6LYIMwTc9QLy"
      }
    },
    {
      "cell_type": "markdown",
      "source": [
        "#### Crear Archivo"
      ],
      "metadata": {
        "id": "cPG03A9KTlQq"
      }
    },
    {
      "cell_type": "code",
      "source": [
        "%%writefile TP1/Parte-2/tp1_p2_python.py\n",
        "import numpy as np\n",
        "import threading\n",
        "import time\n",
        "\n",
        "LIMITE_SUPERIOR = 9\n",
        "LIMITE_INFERIOR = 0\n",
        "TAM_MATRIZ = 1000\n",
        "CANT_HILOS = 2\n",
        "ESCALAR = 5\n",
        "TIME_MILISECONDS = 1000\n",
        "\n",
        "def create_matriz():\n",
        "    return np.random.randint(LIMITE_INFERIOR,LIMITE_SUPERIOR, size=(TAM_MATRIZ, TAM_MATRIZ))\n",
        "\n",
        "def compare_equals_matrices(matriz, matrizB):\n",
        "    return np.array_equal(matriz,matrizB)\n",
        "\n",
        "def inicializar_matriz():\n",
        "    result_matriz = []\n",
        "    for i in range(TAM_MATRIZ):\n",
        "        row = []\n",
        "        for j in range(TAM_MATRIZ):\n",
        "            row.append(0)\n",
        "        result_matriz.append(row)\n",
        "    return result_matriz\n",
        "\n",
        "def product_matrizXscalar_secuencial():\n",
        "    for i in range(TAM_MATRIZ):\n",
        "        for j in range(TAM_MATRIZ):\n",
        "            matrizCS[i][j] = matriz_A[i][j] * ESCALAR\n",
        "\n",
        "    return matrizCS\n",
        "\n",
        "def product_matrizXscalar(start, end):\n",
        "    for i in range(start,end):\n",
        "        for j in range(TAM_MATRIZ):\n",
        "            matrizCC[i][j] = matriz_A[i][j] * ESCALAR\n",
        "\n",
        "def product_matrizXscalar_concurrente():\n",
        "    threads = []\n",
        "    blockSize = TAM_MATRIZ // CANT_HILOS\n",
        "    for i in range(CANT_HILOS):\n",
        "        thread = threading.Thread(target=product_matrizXscalar, args=(i*blockSize,(i+1)*blockSize,))\n",
        "        thread.start()\n",
        "        threads.append(thread)\n",
        "\n",
        "    for j in threads:\n",
        "        j.join()\n",
        "\n",
        "matrizCC = inicializar_matriz()\n",
        "matrizCS = inicializar_matriz()\n",
        "matriz_A = create_matriz()\n",
        "\n",
        "print(f\"La matriz cuadrada es {TAM_MATRIZ} x {TAM_MATRIZ}\")\n",
        "print(f\"Hilos ejecutandose concurrentemente: {CANT_HILOS}\")\n",
        "\n",
        "calculate_time_concurrente = time.time()\n",
        "product_matrizXscalar_concurrente()\n",
        "elapsed_time_2_ms = (time.time() - calculate_time_concurrente) * TIME_MILISECONDS\n",
        "\n",
        "calculate_time_secuencial = time.time()\n",
        "product_matrizXscalar_secuencial()\n",
        "elapsed_time_1_ms = (time.time() - calculate_time_secuencial) * TIME_MILISECONDS\n",
        "\n",
        "print(f\"La aplicacion SECUENCIAL tardó {elapsed_time_1_ms} milisegundos en ejecutarse.\")\n",
        "print(f\"La aplicacion CONCURRENTE tardó {elapsed_time_2_ms} milisegundos en ejecutarse.\")\n",
        "\n",
        "equals = compare_equals_matrices(matrizCC,matrizCS)\n",
        "\n",
        "if equals:\n",
        "    print(\"Las matrices son iguales\")\n",
        "else:\n",
        "    print(\"Las matrices no son iguales\")"
      ],
      "metadata": {
        "id": "Umb5DXJ09mdo",
        "colab": {
          "base_uri": "https://localhost:8080/"
        },
        "outputId": "5d49277c-ac03-4f0a-c479-af96f67f9678"
      },
      "execution_count": null,
      "outputs": [
        {
          "output_type": "stream",
          "name": "stdout",
          "text": [
            "Overwriting TP1/Parte-2/tp1_p2_python.py\n"
          ]
        }
      ]
    },
    {
      "cell_type": "markdown",
      "source": [
        "### Compilacion"
      ],
      "metadata": {
        "id": "m9QiWsBaTvbo"
      }
    },
    {
      "cell_type": "code",
      "source": [
        "!python3 TP1/Parte-2/tp1_p2_python.py"
      ],
      "metadata": {
        "colab": {
          "base_uri": "https://localhost:8080/"
        },
        "id": "_0epB-udTwXl",
        "outputId": "4f7012fa-0866-428d-cc14-aaca2665f72d"
      },
      "execution_count": null,
      "outputs": [
        {
          "output_type": "stream",
          "name": "stdout",
          "text": [
            "La matriz cuadrada es 1000 x 1000\n",
            "Hilos ejecutandose concurrentemente: 2\n",
            "La aplicacion SECUENCIAL tardó 425.13155937194824 milisegundos en ejecutarse.\n",
            "La aplicacion CONCURRENTE tardó 447.1428394317627 milisegundos en ejecutarse.\n",
            "Las matrices son iguales\n"
          ]
        }
      ]
    },
    {
      "cell_type": "markdown",
      "source": [
        "## Parte 3"
      ],
      "metadata": {
        "id": "YQp2RK_NTmYE"
      }
    },
    {
      "cell_type": "markdown",
      "source": [
        "### Creación Archivo"
      ],
      "metadata": {
        "id": "6cPHbVhAtsU0"
      }
    },
    {
      "cell_type": "code",
      "source": [
        "%%writefile TP1/Parte-3/tp1_p3_python.py\n",
        "from collections import Counter\n",
        "from multiprocessing import Pipe\n",
        "import os\n",
        "import sys\n",
        "\n",
        "SUCURSAL_B = 1\n",
        "SUCURSAL_C = 2\n",
        "CHILD = 0\n",
        "CANT_EMPATE = 3\n",
        "\n",
        "\n",
        "def escribir_registros(archivo):\n",
        "    datos = \"\"\"SUCURSAL,FECHA,PRODUCTO,MONTO\n",
        "1,01-05-2024,Producto A,100.00\n",
        "1,01-05-2024,Producto B,150.00\n",
        "1,01-05-2024,Producto D,60.00\n",
        "1,02-05-2024,Producto C,80.00\n",
        "2,02-05-2024,Producto D,130.00\n",
        "1,03-05-2024,Producto D,75.00\n",
        "2,04-05-2024,Producto A,85.00\n",
        "1,05-05-2024,Producto C,160.00\n",
        "2,06-05-2024,Producto C,95.00\n",
        "1,07-05-2024,Producto D,180.00\n",
        "1,08-05-2024,Producto B,120.00\n",
        "2,09-05-2024,Producto C,110.00\n",
        "1,10-05-2024,Producto B,200.00\n",
        "1,10-05-2024,Producto E,150.00\n",
        "1,11-05-2024,Producto A,140.00\n",
        "2,12-05-2024,Producto B,90.00\n",
        "1,13-05-2024,Producto C,170.00\"\"\"\n",
        "\n",
        "    with open(archivo, 'w') as f:\n",
        "        f.write(datos)\n",
        "\n",
        "\n",
        "def leer_registros(archivo):\n",
        "    registros = []\n",
        "    with open(archivo, 'r') as file:\n",
        "        next(file)  # Ignorar la primera línea (encabezados)\n",
        "        for linea in file:\n",
        "            sucursal, fecha, producto, monto = linea.strip().split(',')\n",
        "            registros.append({\n",
        "                'SUCURSAL': int(sucursal),\n",
        "                'FECHA': fecha,\n",
        "                'PRODUCTO': producto,\n",
        "                'MONTO': float(monto)\n",
        "            })\n",
        "    return registros\n",
        "\n",
        "\n",
        "def procesar_datos(registros):\n",
        "    sucursal = registros[0]['SUCURSAL']\n",
        "    total_monto = 0\n",
        "    productos_cant_ventas = Counter()\n",
        "    fechas_cant_ventas = Counter()\n",
        "    montos_por_fecha = Counter()\n",
        "\n",
        "    for registro in registros:\n",
        "        monto = registro['MONTO']\n",
        "        producto = registro['PRODUCTO']\n",
        "        fecha = registro['FECHA']\n",
        "\n",
        "        total_monto += monto\n",
        "        productos_cant_ventas[producto] += 1\n",
        "        fechas_cant_ventas[fecha] += 1\n",
        "        montos_por_fecha[fecha] += monto\n",
        "\n",
        "    producto_mas_vendido = max(productos_cant_ventas,\n",
        "                               key=productos_cant_ventas.get)\n",
        "\n",
        "    max_cant_ventas = max(fechas_cant_ventas.values())\n",
        "    fechas_max_cant_ventas = [\n",
        "        fecha for fecha, cantidad in fechas_cant_ventas.items()\n",
        "        if cantidad == max_cant_ventas\n",
        "    ]\n",
        "    # Limitar las fechas a las primeras 3 en caso de empate\n",
        "    fechas_max_cant_ventas = fechas_max_cant_ventas[:CANT_EMPATE]\n",
        "\n",
        "    max_monto_fecha = max(montos_por_fecha.values())\n",
        "    fechas_max_monto = [\n",
        "        fecha for fecha, monto in montos_por_fecha.items()\n",
        "        if monto == max_monto_fecha\n",
        "    ]\n",
        "    fechas_max_monto = fechas_max_monto[:CANT_EMPATE]\n",
        "\n",
        "    resultados = {\n",
        "        'Número de sucursal': sucursal,\n",
        "        'Monto total': total_monto,\n",
        "        'Producto más vendido': producto_mas_vendido,\n",
        "        'Fecha/s con mayor cantidad de ventas': fechas_max_cant_ventas,\n",
        "        'Mayor cantidad de ventas en una fecha': max_cant_ventas,\n",
        "        'Fecha/s con mayor monto vendido': fechas_max_monto,\n",
        "        'Mayor monto vendido en una fecha': max_monto_fecha\n",
        "    }\n",
        "    return resultados\n",
        "\n",
        "\n",
        "def imprimir_resultados(resultados):\n",
        "    for clave, valor in resultados.items():\n",
        "        print(f\"{clave}: {valor}\")\n",
        "    print(\"\\n\")\n",
        "\n",
        "\n",
        "if __name__ == '__main__':\n",
        "    archivo = 'registros_ventas.txt'\n",
        "    pipe_ab, pipe_ba = Pipe()  # Para la comunicación entre A y B\n",
        "    pipe_ac, pipe_ca = Pipe()  # Para la comunicación entre A y C\n",
        "\n",
        "    escribir_registros(archivo)\n",
        "    registros = leer_registros(archivo)\n",
        "    registrosB = []\n",
        "    registrosC = []\n",
        "\n",
        "    for registro in registros:\n",
        "        if registro['SUCURSAL'] == SUCURSAL_B:\n",
        "            registrosB.append(registro)\n",
        "        elif registro['SUCURSAL'] == SUCURSAL_C:\n",
        "            registrosC.append(registro)\n",
        "\n",
        "    pid_b = os.fork()\n",
        "    if pid_b < 0:\n",
        "        sys.exit(\"Error al crear el proceso hijo B.\")\n",
        "\n",
        "    if pid_b == CHILD:  # Proceso hijo B\n",
        "        pipe_ab.close()\n",
        "        registrosB = pipe_ba.recv()\n",
        "        resultadosB = procesar_datos(registrosB)\n",
        "        pipe_ba.send(resultadosB)\n",
        "        pipe_ba.close()\n",
        "        os._exit(0)\n",
        "    else:  # Proceso padre A\n",
        "        pipe_ba.close()\n",
        "        pipe_ab.send(registrosB)\n",
        "        resultadosB = pipe_ab.recv()\n",
        "        pipe_ab.close()\n",
        "        os.wait()\n",
        "\n",
        "    pid_c = os.fork()\n",
        "    if pid_c < 0:\n",
        "        sys.exit(\"Error al crear el proceso hijo C.\")\n",
        "\n",
        "    if pid_c == CHILD:  # Proceso hijo C\n",
        "        pipe_ac.close()\n",
        "        registrosC = pipe_ca.recv()\n",
        "        resultadosC = procesar_datos(registrosC)\n",
        "        pipe_ca.send(resultadosC)\n",
        "        pipe_ca.close()\n",
        "        os._exit(0)\n",
        "    else:  # Proceso padre A\n",
        "        pipe_ca.close()\n",
        "        pipe_ac.send(registrosC)\n",
        "        resultadosC = pipe_ac.recv()\n",
        "        pipe_ac.close()\n",
        "        os.wait()\n",
        "\n",
        "imprimir_resultados(resultadosB)\n",
        "imprimir_resultados(resultadosC)\n"
      ],
      "metadata": {
        "colab": {
          "base_uri": "https://localhost:8080/"
        },
        "id": "TjznQaahToZU",
        "outputId": "00dbfa0a-ae24-4f53-b186-436237428e8a"
      },
      "execution_count": null,
      "outputs": [
        {
          "output_type": "stream",
          "name": "stdout",
          "text": [
            "Overwriting TP1/Parte-3/tp1_p3_python.py\n"
          ]
        }
      ]
    },
    {
      "cell_type": "markdown",
      "source": [
        "### Ejecución"
      ],
      "metadata": {
        "id": "r7D-WCxut6VD"
      }
    },
    {
      "cell_type": "code",
      "source": [
        "!python3 TP1/Parte-3/tp1_p3_python.py"
      ],
      "metadata": {
        "colab": {
          "base_uri": "https://localhost:8080/"
        },
        "id": "09lItsv8c9cY",
        "outputId": "3e948600-1bee-4709-d217-be35bf634612"
      },
      "execution_count": null,
      "outputs": [
        {
          "output_type": "stream",
          "name": "stdout",
          "text": [
            "Número de sucursal: 1\n",
            "Monto total: 1585.0\n",
            "Producto más vendido: Producto B\n",
            "Fecha/s con mayor cantidad de ventas: ['01-05-2024']\n",
            "Mayor cantidad de ventas en una fecha: 3\n",
            "Fecha/s con mayor monto vendido: ['10-05-2024']\n",
            "Mayor monto vendido en una fecha: 350.0\n",
            "\n",
            "\n",
            "Número de sucursal: 2\n",
            "Monto total: 510.0\n",
            "Producto más vendido: Producto C\n",
            "Fecha/s con mayor cantidad de ventas: ['02-05-2024', '04-05-2024', '06-05-2024']\n",
            "Mayor cantidad de ventas en una fecha: 1\n",
            "Fecha/s con mayor monto vendido: ['02-05-2024']\n",
            "Mayor monto vendido en una fecha: 130.0\n",
            "\n",
            "\n"
          ]
        }
      ]
    },
    {
      "cell_type": "markdown",
      "source": [
        "#Conclusiones"
      ],
      "metadata": {
        "id": "VOiBSKr_U7JA"
      }
    },
    {
      "cell_type": "markdown",
      "source": [
        "## Parte 1"
      ],
      "metadata": {
        "id": "3PToWg1HJ499"
      }
    },
    {
      "cell_type": "markdown",
      "source": [
        "Luego de codificar la solución propuesta en distintos lenguajes pudimos notar diferencias entre ellos y además surgieron inconvenientes."
      ],
      "metadata": {
        "id": "aIVpZ2QVlsja"
      }
    },
    {
      "cell_type": "markdown",
      "source": [
        "Por ejemplo, al codificar la solución en Python tuvimos conflicto con la identación, eso nos llevo a que el código no se ejecute correctamente y a obtener resultados inesperados. Por otra parte, en principio se desarrollo el código utilizando la biblioteca de Python llamada multiprocessing, que proporciona una interfaz de más alto nivel en comparación con la utilización de os.fork que es una interfaz de más bajo nivel. Respecto a esto una dificultad que encontramos es que fork no se puede ejecutar en Windows, mientras que multiprocessing si se puede. En este caso, preferimos utilizar os.fork ya que en el ejemplo dado en clase se utiliza os.fork, pero según lo que pudimos investigar solo funciona para Mac OS X, Unix y Linux, lo cual podría ser una desventaja ya que no asegura la portabilidad."
      ],
      "metadata": {
        "id": "zzc1gAvWU9YU"
      }
    },
    {
      "cell_type": "markdown",
      "source": [
        "En el caso de Java, es un lenguaje de programación que tiene una sintaxis más compleja en comparación con Python, además de requerir más código para lograr el mismo resultado. Además, la ausencia de fork() puede presentar algunas limitaciones en la flexibilidad y eficiencia en comparación con C++, especialmente en escenarios donde la clonación exacta de un proceso es necesaria (cabe aclarar que aunque el espacio de memoria del proceso hijo es idéntico inicialmente al del proceso padre, cada uno tendrá su propia área de memoria y no se compartirá). Es por ello que Java ofrece alternativas como la clase ProcessBuilder, la cual permite configurar y ejecutar procesos externos, lo que facilita la interacción con programas externos y la comunicación a través de la entrada y salida estándar. Por otra parte, Java puede consumir más recursos en comparación con lenguajes de bajo nivel debido a la sobrecarga asociada con la JVM y la gestión de hilos, afectando de esta manera el rendimiento."
      ],
      "metadata": {
        "id": "72ib79-6liLc"
      }
    },
    {
      "cell_type": "markdown",
      "source": [
        "Durante el desarrollo en Rust, nos enfrentamos a varias dificultades, siendo una de las primeras la incorporación de la biblioteca externa \"Nix\" al programa. Esta biblioteca proporciona una alternativa de nivel superior para realizar operaciones con. La solución a este problema fue aprovechar del gestor de paquetes oficial de Rust, 'Cargo'. Al crear un proyecto en Cargo y agregar el código correspondiente, la incorporación de la biblioteca externa resultó relativamente sencilla. Por lo tanto, podemos afirmar que Cargo se convierte en una herramienta esencial para el desarrollo en este lenguaje.\n",
        "\n",
        "Otro aspecto importante que debimos tener en cuenta fue la sintaxis particular del lenguaje. Aunque Rust está diseñado para que el código sea legible y seguro, al obligar al programador a ser más explícito, puede presentar una curva de aprendizaje más pronunciada para aquellos que no están familiarizados con él. Rust toma inspiración de la sintaxis de varios otros lenguajes de programación, como JavaScript, Python, C++ y Java."
      ],
      "metadata": {
        "id": "KIZm1AATxrpJ"
      }
    },
    {
      "cell_type": "markdown",
      "source": [
        "Una de las particularidades que nos encontramos al desarrollar el código en GO es que no existe una sentencia similar a **fork()** , como las que conocimos en C y C++ en anteriores cursadas.\n",
        "\n",
        "Para poder realizar programación concurrente en Go, utilizamos una característica sencilla propia del lenguaje que son la ejecucion de comandos. Asi es posible ejecutar varias tareas en forma concurrente sin preocuparse de la sobrecarga de recursos.\n",
        "Con el *Cmd.Start()* es el método que inicia el comando especificado y no espera a que se complete.\n",
        "La forma de utilizar los comandos es:\n",
        "*cmd := exec.Command()*\n"
      ],
      "metadata": {
        "id": "M3pylyuLV6w-"
      }
    },
    {
      "cell_type": "markdown",
      "source": [
        "## Parte 2"
      ],
      "metadata": {
        "id": "Rzm30lo2J7lk"
      }
    },
    {
      "cell_type": "markdown",
      "source": [
        "A partir del desarrollo realizado en C++ y la correspondiente toma de tiempos para distintos casos, podemos concluir que el llenado concurrente, especialmente con múltiples hilos, puede ser beneficioso para tamaños de matriz más grandes, ya que permite aprovechar mejor los recursos de la CPU y distribuir la carga de trabajo de manera más eficiente. Sin embargo, para tamaños de matriz pequeños y medianos, los beneficios pueden no existir o ser mínimos, debido a los costos adicionales asociados con la creación y administración de hilos, y la pequeña cantidad de trabajo que se realiza en estos tamaños de matrices.\n",
        "\n",
        "Respecto a lo experimentado con Rust podemos concluir que para matrices pequeñas es contraproducente utilizar hilos ya que tenemos mayor tiempo de ejecución. Por ejemplo para una matriz de 1000x1000 vemos que la ejecucion secuencial toma\n",
        "27611 ms mientras que la ejecucion que utiliza hilos demora 7415 ms. Entonces, concluimos que para matrices pequeñas recomendamos un único proceso pesado, mientras que para matrices más grandes conviene utilizar hilos ya que podemos encontrar una optimización de los tiempos de ejecución.\n",
        "\n",
        "En GO funciona practicamente linealmente, una mejora buena pero no la mejor y soluciones lo suficientemente rapidas para obtener resultado con valores grandes y sencillo de programar. Pero no es la mejor ni la peor solucion de todas las mostradas.\n",
        "\n",
        "En el caso de Java se puede observar que por mas que hay aun mejora de rendimiento mas evidente a medida que se utilizan matrices de mayor tamaño, hay un limite en el cual el numero de hilos se empieza a volver perjudicial para la velocidad del mismo. Siendo el sweetspot en este caso el usar no mas de 5 hilos. A partir de ese número, mas alla de si los procesadores son capaces de ejecutar esa cantidad de hilos o no, el overhead se vuelve demasiado pesado como para poder considerarlo. Aunque este número idea deberia cambiar si se utilizaran matrices con un tipo de dato mas pesado que un número.\n",
        "\n",
        "En el caso de Python se puede observar que existe una mejor performance utilizando concurrencia con hilos. Con los datos obtenidos en todos los casos se ve una mejor performance en la ejecucion secuencial.\n"
      ],
      "metadata": {
        "id": "c5Ee75NJKm68"
      }
    },
    {
      "cell_type": "markdown",
      "source": [
        "## Parte 3"
      ],
      "metadata": {
        "id": "zrw4m4Wh3eEj"
      }
    },
    {
      "cell_type": "markdown",
      "source": [
        "Luego de desarrollar el ejercicio relativo a Python, podemos decir que surgieron pocas dificultades y pudieron ser resueltas: Por un lado, sucedió lo mismo que en la Parte 1 con el uso de os.fork(), lo cual no se puede ejecutar en Windows pero sí en Mac OS X, Unix y Linux, por lo que su funcionamiento debió ser probado directamente en este Colab. Como comentamos la vez anterior, esto significa una desventaja ya que no asegura la portabilidad. Y por otro lado, sucedió que en el primer fork (Padre A - Hijo B) cerrábamos los extremos del pipe correspondientes a la comunicación entre A y B en su debido lugar y momento, pero también los de la comunicación entre A y C, por lo que luego tuvimos problemas cuando se querían comunicar estos dos últimos procesos ya que encontraban sus extremos cerrados. Una vez detectado, también fue resuelto."
      ],
      "metadata": {
        "id": "aVE23rW23g0g"
      }
    }
  ],
  "metadata": {
    "colab": {
      "provenance": [],
      "collapsed_sections": [
        "4uK9cHE5ml-_",
        "6qlWbS7fnxfX"
      ],
      "toc_visible": true,
      "include_colab_link": true
    },
    "kernelspec": {
      "display_name": "Python 3",
      "name": "python3"
    },
    "language_info": {
      "name": "python"
    }
  },
  "nbformat": 4,
  "nbformat_minor": 0
}